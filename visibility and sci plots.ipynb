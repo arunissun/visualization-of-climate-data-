{
 "cells": [
  {
   "cell_type": "code",
   "execution_count": 1,
   "id": "f0fd089c",
   "metadata": {},
   "outputs": [],
   "source": [
    "import numpy as np\n",
    "import pandas as pd\n",
    "import matplotlib.pyplot as plt\n",
    "from matplotlib.dates import DayLocator, DateFormatter\n",
    "import datetime as dt\n",
    "\n",
    "#path and the files with sci\n",
    "path = '/Users/varungandhi/Downloads/python_notebooks/'\n",
    "#jan to march\n",
    "file1_jan = path + 'ceilo1_jan.csv'\n",
    "file1_feb = path + 'ceilo1_feb.csv'\n",
    "file1_mar = path + 'ceilo1_mar.csv'\n",
    "\n",
    "file2_jan = path + 'ceilo2_jan.csv'\n",
    "file2_feb = path + 'ceilo2_feb.csv'\n",
    "file2_mar = path + 'ceilo2_mar.csv'\n",
    "\n",
    "#oct to nov\n",
    "file1_oct = path + 'ceilo1_oct.csv'\n",
    "file1_nov = path + 'ceilo1_nov.csv'\n",
    "file1_dec = path + 'ceilo1_dec.csv'\n",
    "\n",
    "\n",
    "file2_oct = path + 'ceilo2_oct.csv'\n",
    "file2_nov = path + 'ceilo2_nov.csv'\n",
    "file2_dec = path + 'ceilo2_dec.csv'\n",
    "\n"
   ]
  },
  {
   "cell_type": "code",
   "execution_count": 2,
   "id": "67219bab",
   "metadata": {},
   "outputs": [],
   "source": [
    "omsz_path = '/Volumes/Seagate Backup Plus Drive/data_1/Data_OMSZ_10min.pkl'\n",
    "df_omsz = pd.read_pickle(omsz_path)\n",
    "df_omsz['idő (UTC)'] = pd.to_datetime(df_omsz['idő (UTC)'])\n",
    "df_oct_dec = df_omsz[(df_omsz['idő (UTC)'] >= '2020-10-1 00:00:00') & \n",
    "                     (df_omsz['idő (UTC)'] <= '2020-12-31 23:50:00')]"
   ]
  },
  {
   "cell_type": "code",
   "execution_count": 3,
   "id": "13d6af0f",
   "metadata": {},
   "outputs": [],
   "source": [
    "#january to march\n",
    "j_1 = pd.read_csv(file1_jan)\n",
    "f_1 = pd.read_csv(file1_feb)\n",
    "m_1 = pd.read_csv(file1_mar)\n",
    "\n",
    "j_2 = pd.read_csv(file2_jan)\n",
    "f_2 = pd.read_csv(file2_feb)\n",
    "m_2 = pd.read_csv(file2_mar)\n",
    "\n",
    "#october to november\n",
    "o_1 = pd.read_csv(file1_oct)\n",
    "n_1 = pd.read_csv(file1_nov, sep = ';')\n",
    "d_1 = pd.read_csv(file1_dec, sep = ';')\n",
    "\n",
    "o_2 = pd.read_csv(file2_oct)\n",
    "n_2 = pd.read_csv(file2_nov, sep = ';')\n",
    "d_2 = pd.read_csv(file2_dec, sep = ';')"
   ]
  },
  {
   "cell_type": "code",
   "execution_count": 4,
   "id": "42ea5fd4",
   "metadata": {},
   "outputs": [],
   "source": [
    "n_1['time'] = pd.to_datetime(n_1['time'])\n",
    "d_1['time'] = pd.to_datetime(d_1['time'])"
   ]
  },
  {
   "cell_type": "code",
   "execution_count": 5,
   "id": "d9eefcd2",
   "metadata": {},
   "outputs": [],
   "source": [
    "n_2['time'] = pd.to_datetime(n_2['time'])\n",
    "d_2['time'] = pd.to_datetime(d_2['time'])"
   ]
  },
  {
   "cell_type": "code",
   "execution_count": 6,
   "id": "2a15c952",
   "metadata": {},
   "outputs": [],
   "source": [
    "#n_1 = n_1[(n_1['time'] >= '2020.10.01 00:00')]\n",
    "#n_2 = n_2[(n_2['time'] >= '2020.10.01 00:00')]\n"
   ]
  },
  {
   "cell_type": "code",
   "execution_count": 7,
   "id": "9766f4f3",
   "metadata": {},
   "outputs": [
    {
     "data": {
      "text/plain": [
       "0       2020-11-01 00:00:00\n",
       "1       2020-11-01 00:01:00\n",
       "2       2020-11-01 00:02:00\n",
       "3       2020-11-01 00:03:00\n",
       "4       2020-11-01 00:04:00\n",
       "                ...        \n",
       "43194   2020-11-30 23:55:00\n",
       "43195   2020-11-30 23:56:00\n",
       "43196   2020-11-30 23:57:00\n",
       "43197   2020-11-30 23:58:00\n",
       "43198   2020-11-30 23:59:00\n",
       "Name: time, Length: 43199, dtype: datetime64[ns]"
      ]
     },
     "execution_count": 7,
     "metadata": {},
     "output_type": "execute_result"
    }
   ],
   "source": [
    "n_1['time']"
   ]
  },
  {
   "cell_type": "code",
   "execution_count": 8,
   "id": "059e445e",
   "metadata": {},
   "outputs": [
    {
     "data": {
      "text/plain": [
       "0       2020-11-01 00:00:00\n",
       "1       2020-11-01 00:01:00\n",
       "2       2020-11-01 00:02:00\n",
       "3       2020-11-01 00:03:00\n",
       "4       2020-11-01 00:04:00\n",
       "                ...        \n",
       "43194   2020-11-30 23:55:00\n",
       "43195   2020-11-30 23:56:00\n",
       "43196   2020-11-30 23:57:00\n",
       "43197   2020-11-30 23:58:00\n",
       "43198   2020-11-30 23:59:00\n",
       "Name: time, Length: 43199, dtype: datetime64[ns]"
      ]
     },
     "execution_count": 8,
     "metadata": {},
     "output_type": "execute_result"
    }
   ],
   "source": [
    "n_2['time']"
   ]
  },
  {
   "cell_type": "code",
   "execution_count": 9,
   "id": "9be6cb93",
   "metadata": {},
   "outputs": [],
   "source": [
    "j_m_1 = pd.concat([j_1, f_1, m_1], axis = 0, ignore_index= True)\n",
    "j_m_2 = pd.concat([j_2, f_2, m_2], axis = 0, ignore_index= True)\n",
    "\n",
    "n_d_1 = pd.concat([o_1,n_1, d_1], axis = 0, ignore_index= True)\n",
    "n_d_2 = pd.concat([o_2,n_2, d_2], axis = 0, ignore_index= True)\n"
   ]
  },
  {
   "cell_type": "code",
   "execution_count": 10,
   "id": "45f4505f",
   "metadata": {},
   "outputs": [],
   "source": [
    "#j_m_2"
   ]
  },
  {
   "cell_type": "code",
   "execution_count": 11,
   "id": "4ec5a66d",
   "metadata": {},
   "outputs": [],
   "source": [
    "#reading elte 1 minute data\n",
    "df_1m = pd.read_pickle('/Volumes/Seagate Backup Plus Drive/data_1/Data_ELTE_1min.pkl')"
   ]
  },
  {
   "cell_type": "code",
   "execution_count": 12,
   "id": "f25bf1b1",
   "metadata": {},
   "outputs": [],
   "source": [
    "#reading garden 1 minute data\n",
    "df_garden = pd.read_pickle('/Volumes/Seagate Backup Plus Drive/data_1/Data_BME_garden.pkl')"
   ]
  },
  {
   "cell_type": "code",
   "execution_count": 13,
   "id": "2d93a00c",
   "metadata": {},
   "outputs": [
    {
     "data": {
      "text/plain": [
       "0        2020-11-20 16:22:00\n",
       "1        2020-11-20 16:23:00\n",
       "2        2020-11-20 16:24:00\n",
       "3        2020-11-20 16:25:00\n",
       "4        2020-11-20 16:26:00\n",
       "                 ...        \n",
       "237264   2021-05-04 10:46:00\n",
       "237265   2021-05-04 10:47:00\n",
       "237266   2021-05-04 10:48:00\n",
       "237267   2021-05-04 10:49:00\n",
       "237268   2021-05-04 10:50:00\n",
       "Name: TIMESTAMP_UTC, Length: 237269, dtype: datetime64[ns]"
      ]
     },
     "execution_count": 13,
     "metadata": {},
     "output_type": "execute_result"
    }
   ],
   "source": [
    "df_garden['TIMESTAMP_UTC']"
   ]
  },
  {
   "cell_type": "code",
   "execution_count": 14,
   "id": "6e0645f6",
   "metadata": {},
   "outputs": [],
   "source": [
    "# for january to 11 march only \n",
    "df_1j_m = df_1m[(df_1m['TIMESTAMP'] >= '2021-01-01 00:00:00') & (df_1m['TIMESTAMP'] <= '2021-03-31 23:59:00')]\n",
    "df_2j_m = df_garden[(df_garden['TIMESTAMP_UTC'] >= '2021-01-01 00:00:00') & (df_garden['TIMESTAMP_UTC'] <= '2021-03-31 23:59:00')]\n",
    "\n",
    "# for 20 nov to dec\n",
    "df_1n_d = df_1m[(df_1m['TIMESTAMP'] >= '2020-10-01 00:00:00') & (df_1m['TIMESTAMP'] <= '2020-12-31 23:59:00')]\n",
    "df_2n_d = df_garden[(df_garden['TIMESTAMP_UTC'] >= '2020-10-01 00:00:00') & (df_garden['TIMESTAMP_UTC'] <= '2020-12-31 23:59:00')]\n",
    "\n"
   ]
  },
  {
   "cell_type": "code",
   "execution_count": 15,
   "id": "3b2113e7",
   "metadata": {},
   "outputs": [],
   "source": [
    "## for january to march ## renaming columns\n",
    "xj_m = df_1j_m[['TIMESTAMP','rh_Avg(1)','rh_Avg(2)', 'temp_Avg(1)', 'temp_Avg(2)']]\n",
    "yj_m = df_2j_m[['TIMESTAMP_UTC','RH1_corr_cut', 'RH_2_corr_cut', 'AirTC_1_Avg', 'AirTC_2_Avg']]"
   ]
  },
  {
   "cell_type": "code",
   "execution_count": 16,
   "id": "ce11c764",
   "metadata": {},
   "outputs": [],
   "source": [
    "#for nov to dec  ## renaming columns\n",
    "xn_d = df_1n_d[['TIMESTAMP','rh_Avg(1)','rh_Avg(2)', 'temp_Avg(1)', 'temp_Avg(2)']]\n",
    "yn_d = df_2n_d[['TIMESTAMP_UTC','RH1_corr_cut', 'RH_2_corr_cut', 'AirTC_1_Avg', 'AirTC_2_Avg']]"
   ]
  },
  {
   "cell_type": "code",
   "execution_count": 17,
   "id": "87569209",
   "metadata": {},
   "outputs": [],
   "source": [
    "xn_d = xn_d.rename(columns={'TIMESTAMP': 'TIMESTAMP_UTC'})\n",
    "xj_m = xj_m.rename(columns={'TIMESTAMP': 'TIMESTAMP_UTC'})"
   ]
  },
  {
   "cell_type": "code",
   "execution_count": 18,
   "id": "a8b6ea5f",
   "metadata": {},
   "outputs": [
    {
     "data": {
      "text/plain": [
       "Index(['TIMESTAMP_UTC', 'RH1_corr_cut', 'RH_2_corr_cut', 'AirTC_1_Avg',\n",
       "       'AirTC_2_Avg'],\n",
       "      dtype='object')"
      ]
     },
     "execution_count": 18,
     "metadata": {},
     "output_type": "execute_result"
    }
   ],
   "source": [
    "yj_m.columns"
   ]
  },
  {
   "cell_type": "code",
   "execution_count": 19,
   "id": "585f4f87",
   "metadata": {},
   "outputs": [],
   "source": [
    "#xn_d"
   ]
  },
  {
   "cell_type": "code",
   "execution_count": 20,
   "id": "fe848565",
   "metadata": {},
   "outputs": [],
   "source": [
    "xj_m.reset_index(inplace= True)\n",
    "yj_m.reset_index(inplace = True)\n",
    "\n",
    "xn_d.reset_index(inplace= True)\n",
    "yn_d.reset_index(inplace = True)\n"
   ]
  },
  {
   "cell_type": "code",
   "execution_count": 21,
   "id": "cc734e26",
   "metadata": {},
   "outputs": [
    {
     "data": {
      "text/plain": [
       "0       2020-11-20 16:22:00\n",
       "1       2020-11-20 16:23:00\n",
       "2       2020-11-20 16:24:00\n",
       "3       2020-11-20 16:25:00\n",
       "4       2020-11-20 16:26:00\n",
       "                ...        \n",
       "59493   2020-12-31 23:55:00\n",
       "59494   2020-12-31 23:56:00\n",
       "59495   2020-12-31 23:57:00\n",
       "59496   2020-12-31 23:58:00\n",
       "59497   2020-12-31 23:59:00\n",
       "Name: TIMESTAMP_UTC, Length: 59498, dtype: datetime64[ns]"
      ]
     },
     "execution_count": 21,
     "metadata": {},
     "output_type": "execute_result"
    }
   ],
   "source": [
    "yn_d['TIMESTAMP_UTC']"
   ]
  },
  {
   "cell_type": "code",
   "execution_count": 22,
   "id": "ef6228ae",
   "metadata": {},
   "outputs": [
    {
     "data": {
      "text/plain": [
       "Index(['time', 'pbl_l1', 'pbl_l2', 'pbl_l3', 'pbs_l1', 'pbs_l2', 'pbs_l3',\n",
       "       'cbh_l1', 'cbh_l2', 'cbh_l3', 'cbe_l1', 'cbe_l2', 'cbe_l3', 'cdp_l1',\n",
       "       'cdp_l2', 'cdp_l3', 'cde_l1', 'cde_l2', 'cde_l3'],\n",
       "      dtype='object')"
      ]
     },
     "execution_count": 22,
     "metadata": {},
     "output_type": "execute_result"
    }
   ],
   "source": [
    "j_m_2.columns"
   ]
  },
  {
   "cell_type": "code",
   "execution_count": 23,
   "id": "3bda5a7c",
   "metadata": {},
   "outputs": [],
   "source": [
    "zj_m_1 = j_m_1[['time','bcc', 'cho', 'nn1', 'nn2', 'nn3','sci']]\n",
    "zn_d_1 = n_d_1[['time','bcc', 'cho', 'nn1', 'nn2', 'nn3','sci']]\n",
    "\n",
    "zj_m_2 = j_m_2[['pbl_l1', 'pbl_l2', 'pbl_l3', 'pbs_l1', 'pbs_l2', 'pbs_l3',\n",
    "       'cbh_l1', 'cbh_l2', 'cbh_l3', 'cbe_l1', 'cbe_l2', 'cbe_l3', 'cdp_l1',\n",
    "       'cdp_l2', 'cdp_l3', 'cde_l1', 'cde_l2', 'cde_l3']]\n",
    "zn_d_2 = n_d_2[['pbl_l1', 'pbl_l2', 'pbl_l3', 'pbs_l1', 'pbs_l2', 'pbs_l3',\n",
    "       'cbh_l1', 'cbh_l2', 'cbh_l3', 'cbe_l1', 'cbe_l2', 'cbe_l3', 'cdp_l1',\n",
    "       'cdp_l2', 'cdp_l3', 'cde_l1', 'cde_l2', 'cde_l3']]"
   ]
  },
  {
   "cell_type": "code",
   "execution_count": 24,
   "id": "618b3a01",
   "metadata": {},
   "outputs": [],
   "source": [
    "zj_m = pd.concat([zj_m_1, zj_m_2], axis = 1, ignore_index= False)\n",
    "zn_d = pd.concat([zn_d_1, zn_d_2], axis = 1, ignore_index= False)\n",
    "#zn_d"
   ]
  },
  {
   "cell_type": "code",
   "execution_count": 25,
   "id": "3f30e884",
   "metadata": {},
   "outputs": [],
   "source": [
    "zj_m.reset_index(inplace= True, drop= True)\n",
    "zn_d.reset_index(inplace= True, drop= True)"
   ]
  },
  {
   "cell_type": "code",
   "execution_count": 26,
   "id": "718f7e2b",
   "metadata": {},
   "outputs": [],
   "source": [
    "#zj_m = zj_m.rename(columns={'time': 'TIMESTAMP_UTC'})\n",
    "\n",
    "zj_m['time'] = pd.to_datetime(zj_m['time'])\n",
    "zn_d['time'] = pd.to_datetime(zn_d['time'])\n",
    "zn_d = zn_d.rename(columns={'time': 'TIMESTAMP_UTC'})\n"
   ]
  },
  {
   "cell_type": "code",
   "execution_count": 27,
   "id": "54e248a7",
   "metadata": {},
   "outputs": [],
   "source": [
    "j_m = pd.merge(xj_m,yj_m,on='TIMESTAMP_UTC',how = 'inner')\n",
    "j_m = pd.concat([j_m,zj_m],axis = 1,ignore_index= False)\n",
    "\n",
    "#n_d = pd.concat([zn_d,n_d],axis = 1,ignore_index= False)\n",
    "#j_m = pd.concat([xj_m,yj_m,zj_m], axis = 1, ignore_index= False)\n",
    "#n_d = pd.concat([xn_d,yn_d, zn_d], axis = 1, ignore_index= False)\n",
    "#for i in range(len(zn_d['TIMESTAMP_UTC'])):\n",
    "#    q = baba[i].strftime(format('%Y-%m-%d %H:%M'))\n",
    "#    caca.appendp(q)\n",
    "\n",
    "\n"
   ]
  },
  {
   "cell_type": "code",
   "execution_count": 28,
   "id": "ba857463",
   "metadata": {},
   "outputs": [
    {
     "data": {
      "text/html": [
       "<div>\n",
       "<style scoped>\n",
       "    .dataframe tbody tr th:only-of-type {\n",
       "        vertical-align: middle;\n",
       "    }\n",
       "\n",
       "    .dataframe tbody tr th {\n",
       "        vertical-align: top;\n",
       "    }\n",
       "\n",
       "    .dataframe thead th {\n",
       "        text-align: right;\n",
       "    }\n",
       "</style>\n",
       "<table border=\"1\" class=\"dataframe\">\n",
       "  <thead>\n",
       "    <tr style=\"text-align: right;\">\n",
       "      <th></th>\n",
       "      <th>index_x</th>\n",
       "      <th>TIMESTAMP_UTC</th>\n",
       "      <th>rh_Avg(1)</th>\n",
       "      <th>rh_Avg(2)</th>\n",
       "      <th>temp_Avg(1)</th>\n",
       "      <th>temp_Avg(2)</th>\n",
       "      <th>index_y</th>\n",
       "      <th>RH1_corr_cut</th>\n",
       "      <th>RH_2_corr_cut</th>\n",
       "      <th>AirTC_1_Avg</th>\n",
       "      <th>...</th>\n",
       "      <th>cbh_l3</th>\n",
       "      <th>cbe_l1</th>\n",
       "      <th>cbe_l2</th>\n",
       "      <th>cbe_l3</th>\n",
       "      <th>cdp_l1</th>\n",
       "      <th>cdp_l2</th>\n",
       "      <th>cdp_l3</th>\n",
       "      <th>cde_l1</th>\n",
       "      <th>cde_l2</th>\n",
       "      <th>cde_l3</th>\n",
       "    </tr>\n",
       "  </thead>\n",
       "  <tbody>\n",
       "    <tr>\n",
       "      <th>0</th>\n",
       "      <td>NaN</td>\n",
       "      <td>2020-10-01 00:00:45</td>\n",
       "      <td>NaN</td>\n",
       "      <td>NaN</td>\n",
       "      <td>NaN</td>\n",
       "      <td>NaN</td>\n",
       "      <td>NaN</td>\n",
       "      <td>NaN</td>\n",
       "      <td>NaN</td>\n",
       "      <td>NaN</td>\n",
       "      <td>...</td>\n",
       "      <td>-1.0</td>\n",
       "      <td>221.0</td>\n",
       "      <td>14.0</td>\n",
       "      <td>-1.0</td>\n",
       "      <td>63.0</td>\n",
       "      <td>116.0</td>\n",
       "      <td>-1.0</td>\n",
       "      <td>16.0</td>\n",
       "      <td>27.0</td>\n",
       "      <td>-1.0</td>\n",
       "    </tr>\n",
       "    <tr>\n",
       "      <th>1</th>\n",
       "      <td>NaN</td>\n",
       "      <td>2020-10-01 00:01:45</td>\n",
       "      <td>NaN</td>\n",
       "      <td>NaN</td>\n",
       "      <td>NaN</td>\n",
       "      <td>NaN</td>\n",
       "      <td>NaN</td>\n",
       "      <td>NaN</td>\n",
       "      <td>NaN</td>\n",
       "      <td>NaN</td>\n",
       "      <td>...</td>\n",
       "      <td>-1.0</td>\n",
       "      <td>12.0</td>\n",
       "      <td>-1.0</td>\n",
       "      <td>-1.0</td>\n",
       "      <td>122.0</td>\n",
       "      <td>-1.0</td>\n",
       "      <td>-1.0</td>\n",
       "      <td>10.0</td>\n",
       "      <td>-1.0</td>\n",
       "      <td>-1.0</td>\n",
       "    </tr>\n",
       "    <tr>\n",
       "      <th>2</th>\n",
       "      <td>NaN</td>\n",
       "      <td>2020-10-01 00:02:45</td>\n",
       "      <td>NaN</td>\n",
       "      <td>NaN</td>\n",
       "      <td>NaN</td>\n",
       "      <td>NaN</td>\n",
       "      <td>NaN</td>\n",
       "      <td>NaN</td>\n",
       "      <td>NaN</td>\n",
       "      <td>NaN</td>\n",
       "      <td>...</td>\n",
       "      <td>-1.0</td>\n",
       "      <td>8.0</td>\n",
       "      <td>-1.0</td>\n",
       "      <td>-1.0</td>\n",
       "      <td>114.0</td>\n",
       "      <td>-1.0</td>\n",
       "      <td>-1.0</td>\n",
       "      <td>16.0</td>\n",
       "      <td>-1.0</td>\n",
       "      <td>-1.0</td>\n",
       "    </tr>\n",
       "    <tr>\n",
       "      <th>3</th>\n",
       "      <td>NaN</td>\n",
       "      <td>2020-10-01 00:03:45</td>\n",
       "      <td>NaN</td>\n",
       "      <td>NaN</td>\n",
       "      <td>NaN</td>\n",
       "      <td>NaN</td>\n",
       "      <td>NaN</td>\n",
       "      <td>NaN</td>\n",
       "      <td>NaN</td>\n",
       "      <td>NaN</td>\n",
       "      <td>...</td>\n",
       "      <td>-1.0</td>\n",
       "      <td>239.0</td>\n",
       "      <td>15.0</td>\n",
       "      <td>-1.0</td>\n",
       "      <td>84.0</td>\n",
       "      <td>86.0</td>\n",
       "      <td>-1.0</td>\n",
       "      <td>46.0</td>\n",
       "      <td>39.0</td>\n",
       "      <td>-1.0</td>\n",
       "    </tr>\n",
       "    <tr>\n",
       "      <th>4</th>\n",
       "      <td>NaN</td>\n",
       "      <td>2020-10-01 00:04:45</td>\n",
       "      <td>NaN</td>\n",
       "      <td>NaN</td>\n",
       "      <td>NaN</td>\n",
       "      <td>NaN</td>\n",
       "      <td>NaN</td>\n",
       "      <td>NaN</td>\n",
       "      <td>NaN</td>\n",
       "      <td>NaN</td>\n",
       "      <td>...</td>\n",
       "      <td>-1.0</td>\n",
       "      <td>203.0</td>\n",
       "      <td>8.0</td>\n",
       "      <td>-1.0</td>\n",
       "      <td>83.0</td>\n",
       "      <td>79.0</td>\n",
       "      <td>-1.0</td>\n",
       "      <td>24.0</td>\n",
       "      <td>52.0</td>\n",
       "      <td>-1.0</td>\n",
       "    </tr>\n",
       "    <tr>\n",
       "      <th>...</th>\n",
       "      <td>...</td>\n",
       "      <td>...</td>\n",
       "      <td>...</td>\n",
       "      <td>...</td>\n",
       "      <td>...</td>\n",
       "      <td>...</td>\n",
       "      <td>...</td>\n",
       "      <td>...</td>\n",
       "      <td>...</td>\n",
       "      <td>...</td>\n",
       "      <td>...</td>\n",
       "      <td>...</td>\n",
       "      <td>...</td>\n",
       "      <td>...</td>\n",
       "      <td>...</td>\n",
       "      <td>...</td>\n",
       "      <td>...</td>\n",
       "      <td>...</td>\n",
       "      <td>...</td>\n",
       "      <td>...</td>\n",
       "      <td>...</td>\n",
       "    </tr>\n",
       "    <tr>\n",
       "      <th>131683</th>\n",
       "      <td>59569.0</td>\n",
       "      <td>2020-12-31 23:55:00</td>\n",
       "      <td>90.7</td>\n",
       "      <td>92.1</td>\n",
       "      <td>0.875</td>\n",
       "      <td>1.086</td>\n",
       "      <td>59493.0</td>\n",
       "      <td>95.504</td>\n",
       "      <td>97.272</td>\n",
       "      <td>0.293</td>\n",
       "      <td>...</td>\n",
       "      <td>-1.0</td>\n",
       "      <td>10.0</td>\n",
       "      <td>-1.0</td>\n",
       "      <td>-1.0</td>\n",
       "      <td>33.0</td>\n",
       "      <td>-1.0</td>\n",
       "      <td>-1.0</td>\n",
       "      <td>7.0</td>\n",
       "      <td>-1.0</td>\n",
       "      <td>-1.0</td>\n",
       "    </tr>\n",
       "    <tr>\n",
       "      <th>131684</th>\n",
       "      <td>59570.0</td>\n",
       "      <td>2020-12-31 23:56:00</td>\n",
       "      <td>90.7</td>\n",
       "      <td>92.2</td>\n",
       "      <td>0.852</td>\n",
       "      <td>1.089</td>\n",
       "      <td>59494.0</td>\n",
       "      <td>95.400</td>\n",
       "      <td>97.272</td>\n",
       "      <td>0.272</td>\n",
       "      <td>...</td>\n",
       "      <td>-1.0</td>\n",
       "      <td>7.0</td>\n",
       "      <td>-1.0</td>\n",
       "      <td>-1.0</td>\n",
       "      <td>53.0</td>\n",
       "      <td>-1.0</td>\n",
       "      <td>-1.0</td>\n",
       "      <td>10.0</td>\n",
       "      <td>-1.0</td>\n",
       "      <td>-1.0</td>\n",
       "    </tr>\n",
       "    <tr>\n",
       "      <th>131685</th>\n",
       "      <td>59571.0</td>\n",
       "      <td>2020-12-31 23:57:00</td>\n",
       "      <td>90.7</td>\n",
       "      <td>92.2</td>\n",
       "      <td>0.840</td>\n",
       "      <td>1.089</td>\n",
       "      <td>59495.0</td>\n",
       "      <td>95.296</td>\n",
       "      <td>97.272</td>\n",
       "      <td>0.261</td>\n",
       "      <td>...</td>\n",
       "      <td>-1.0</td>\n",
       "      <td>-1.0</td>\n",
       "      <td>-1.0</td>\n",
       "      <td>-1.0</td>\n",
       "      <td>-1.0</td>\n",
       "      <td>-1.0</td>\n",
       "      <td>-1.0</td>\n",
       "      <td>-1.0</td>\n",
       "      <td>-1.0</td>\n",
       "      <td>-1.0</td>\n",
       "    </tr>\n",
       "    <tr>\n",
       "      <th>131686</th>\n",
       "      <td>59572.0</td>\n",
       "      <td>2020-12-31 23:58:00</td>\n",
       "      <td>90.8</td>\n",
       "      <td>92.2</td>\n",
       "      <td>0.828</td>\n",
       "      <td>1.107</td>\n",
       "      <td>59496.0</td>\n",
       "      <td>95.296</td>\n",
       "      <td>97.272</td>\n",
       "      <td>0.254</td>\n",
       "      <td>...</td>\n",
       "      <td>-1.0</td>\n",
       "      <td>12.0</td>\n",
       "      <td>9.0</td>\n",
       "      <td>-1.0</td>\n",
       "      <td>29.0</td>\n",
       "      <td>67.0</td>\n",
       "      <td>-1.0</td>\n",
       "      <td>6.0</td>\n",
       "      <td>5.0</td>\n",
       "      <td>-1.0</td>\n",
       "    </tr>\n",
       "    <tr>\n",
       "      <th>131687</th>\n",
       "      <td>59573.0</td>\n",
       "      <td>2020-12-31 23:59:00</td>\n",
       "      <td>90.8</td>\n",
       "      <td>92.1</td>\n",
       "      <td>0.834</td>\n",
       "      <td>1.134</td>\n",
       "      <td>59497.0</td>\n",
       "      <td>95.296</td>\n",
       "      <td>97.376</td>\n",
       "      <td>0.239</td>\n",
       "      <td>...</td>\n",
       "      <td>-1.0</td>\n",
       "      <td>17.0</td>\n",
       "      <td>-1.0</td>\n",
       "      <td>-1.0</td>\n",
       "      <td>103.0</td>\n",
       "      <td>-1.0</td>\n",
       "      <td>-1.0</td>\n",
       "      <td>7.0</td>\n",
       "      <td>-1.0</td>\n",
       "      <td>-1.0</td>\n",
       "    </tr>\n",
       "  </tbody>\n",
       "</table>\n",
       "<p>131688 rows × 35 columns</p>\n",
       "</div>"
      ],
      "text/plain": [
       "        index_x       TIMESTAMP_UTC  rh_Avg(1)  rh_Avg(2)  temp_Avg(1)  \\\n",
       "0           NaN 2020-10-01 00:00:45        NaN        NaN          NaN   \n",
       "1           NaN 2020-10-01 00:01:45        NaN        NaN          NaN   \n",
       "2           NaN 2020-10-01 00:02:45        NaN        NaN          NaN   \n",
       "3           NaN 2020-10-01 00:03:45        NaN        NaN          NaN   \n",
       "4           NaN 2020-10-01 00:04:45        NaN        NaN          NaN   \n",
       "...         ...                 ...        ...        ...          ...   \n",
       "131683  59569.0 2020-12-31 23:55:00       90.7       92.1        0.875   \n",
       "131684  59570.0 2020-12-31 23:56:00       90.7       92.2        0.852   \n",
       "131685  59571.0 2020-12-31 23:57:00       90.7       92.2        0.840   \n",
       "131686  59572.0 2020-12-31 23:58:00       90.8       92.2        0.828   \n",
       "131687  59573.0 2020-12-31 23:59:00       90.8       92.1        0.834   \n",
       "\n",
       "        temp_Avg(2)  index_y  RH1_corr_cut  RH_2_corr_cut  AirTC_1_Avg  ...  \\\n",
       "0               NaN      NaN           NaN            NaN          NaN  ...   \n",
       "1               NaN      NaN           NaN            NaN          NaN  ...   \n",
       "2               NaN      NaN           NaN            NaN          NaN  ...   \n",
       "3               NaN      NaN           NaN            NaN          NaN  ...   \n",
       "4               NaN      NaN           NaN            NaN          NaN  ...   \n",
       "...             ...      ...           ...            ...          ...  ...   \n",
       "131683        1.086  59493.0        95.504         97.272        0.293  ...   \n",
       "131684        1.089  59494.0        95.400         97.272        0.272  ...   \n",
       "131685        1.089  59495.0        95.296         97.272        0.261  ...   \n",
       "131686        1.107  59496.0        95.296         97.272        0.254  ...   \n",
       "131687        1.134  59497.0        95.296         97.376        0.239  ...   \n",
       "\n",
       "        cbh_l3  cbe_l1  cbe_l2  cbe_l3  cdp_l1  cdp_l2  cdp_l3  cde_l1  \\\n",
       "0         -1.0   221.0    14.0    -1.0    63.0   116.0    -1.0    16.0   \n",
       "1         -1.0    12.0    -1.0    -1.0   122.0    -1.0    -1.0    10.0   \n",
       "2         -1.0     8.0    -1.0    -1.0   114.0    -1.0    -1.0    16.0   \n",
       "3         -1.0   239.0    15.0    -1.0    84.0    86.0    -1.0    46.0   \n",
       "4         -1.0   203.0     8.0    -1.0    83.0    79.0    -1.0    24.0   \n",
       "...        ...     ...     ...     ...     ...     ...     ...     ...   \n",
       "131683    -1.0    10.0    -1.0    -1.0    33.0    -1.0    -1.0     7.0   \n",
       "131684    -1.0     7.0    -1.0    -1.0    53.0    -1.0    -1.0    10.0   \n",
       "131685    -1.0    -1.0    -1.0    -1.0    -1.0    -1.0    -1.0    -1.0   \n",
       "131686    -1.0    12.0     9.0    -1.0    29.0    67.0    -1.0     6.0   \n",
       "131687    -1.0    17.0    -1.0    -1.0   103.0    -1.0    -1.0     7.0   \n",
       "\n",
       "        cde_l2  cde_l3  \n",
       "0         27.0    -1.0  \n",
       "1         -1.0    -1.0  \n",
       "2         -1.0    -1.0  \n",
       "3         39.0    -1.0  \n",
       "4         52.0    -1.0  \n",
       "...        ...     ...  \n",
       "131683    -1.0    -1.0  \n",
       "131684    -1.0    -1.0  \n",
       "131685    -1.0    -1.0  \n",
       "131686     5.0    -1.0  \n",
       "131687    -1.0    -1.0  \n",
       "\n",
       "[131688 rows x 35 columns]"
      ]
     },
     "execution_count": 28,
     "metadata": {},
     "output_type": "execute_result"
    }
   ],
   "source": [
    "zn_d['TIMESTAMP_UTC'] = pd.to_datetime(zn_d['TIMESTAMP_UTC'])\n",
    "n_d = pd.merge(xn_d,yn_d,on='TIMESTAMP_UTC', how = 'left')\n",
    "n_d = pd.merge(n_d,zn_d,on='TIMESTAMP_UTC', how = 'right')\n",
    "n_d"
   ]
  },
  {
   "cell_type": "code",
   "execution_count": 29,
   "id": "4a68caad",
   "metadata": {},
   "outputs": [],
   "source": [
    "##a = ['index', 'TIMESTAMP', 'rh_Avg(1)', 'rh_Avg(2)', 'temp_Avg(1)',\n",
    "#       'temp_Avg(2)', 'index', 'TIMESTAMP_UTC', 'RH_1_corr', 'RH_2_corr',\n",
    "#       'AirTC_1_Avg', 'AirTC_2_Avg', 'time', 'cbh', 'pbl', 'bcc', 'cbe', 'cde',\n",
    "#       'cho', 'nn1', 'nn2', 'nn3', 'sci']\n"
   ]
  },
  {
   "cell_type": "code",
   "execution_count": 30,
   "id": "813a9d30",
   "metadata": {},
   "outputs": [],
   "source": [
    "#j_m.columns = a"
   ]
  },
  {
   "cell_type": "code",
   "execution_count": 31,
   "id": "ec2f33dd",
   "metadata": {},
   "outputs": [],
   "source": [
    "#n_d.columns = a"
   ]
  },
  {
   "cell_type": "code",
   "execution_count": 32,
   "id": "bd187af1",
   "metadata": {},
   "outputs": [
    {
     "data": {
      "text/plain": [
       "129600"
      ]
     },
     "execution_count": 32,
     "metadata": {},
     "output_type": "execute_result"
    }
   ],
   "source": [
    "len(j_m.index)"
   ]
  },
  {
   "cell_type": "code",
   "execution_count": 33,
   "id": "4abe8a33",
   "metadata": {},
   "outputs": [],
   "source": [
    "x = j_m['sci'].values\n",
    "y = j_m['RH_2_corr_cut'].values\n",
    "z = j_m['rh_Avg(1)'].values\n",
    "\n",
    "x1 = n_d['sci'].values\n",
    "y1 = n_d['RH_2_corr_cut'].values\n",
    "z1 = n_d['rh_Avg(1)'].values"
   ]
  },
  {
   "cell_type": "code",
   "execution_count": 34,
   "id": "baf5d7b6",
   "metadata": {},
   "outputs": [],
   "source": [
    "#def sci(x,a,b,c):\n",
    "#    list_empty = []\n",
    "#    for i in range(len(x)):\n",
    "#        if x[i] == a:\n",
    "#            list_empty.append(10)\n",
    "#        elif x[i] == b:\n",
    "#            list_empty.append(20)\n",
    "#            \n",
    "#        elif x[i] == c:\n",
    "#            list_empty.append(30)\n",
    "#            \n",
    "#        \n",
    "#        else:\n",
    "#            list_empty.append(float('NAN'))\n",
    "#            \n",
    "#    return list_empty\n",
    "#\n",
    "\n",
    "def sci(x, lower_value,value):\n",
    "    ll = []\n",
    "    for i in range(len(x)):\n",
    "        if x[i] ==lower_value:\n",
    "            ll.append(value)\n",
    "        else:\n",
    "            ll.append(float('NAN'))\n",
    "            \n",
    "    return ll\n",
    "\n",
    "def relative_humidity(x,lower_value,value):\n",
    "    list_empty = []\n",
    "    for i in range(len(x)):\n",
    "        if x[i] >= lower_value:\n",
    "            list_empty.append(value)\n",
    "        \n",
    "        else:\n",
    "            list_empty.append(float('NAN'))\n",
    "            \n",
    "    return list_empty"
   ]
  },
  {
   "cell_type": "code",
   "execution_count": 35,
   "id": "d59b0731",
   "metadata": {},
   "outputs": [],
   "source": [
    "#j_m.index[100153:]"
   ]
  },
  {
   "cell_type": "code",
   "execution_count": 36,
   "id": "1cff3ec5",
   "metadata": {},
   "outputs": [],
   "source": [
    "h95 = relative_humidity(y, 95,40)\n",
    "h100 = relative_humidity(y, 98,50)\n",
    "h95_24 = relative_humidity(z, 95,60)\n",
    "h100_24 = relative_humidity(z, 98,70)\n",
    "\n",
    "\n",
    "j_m['h95']  = h95\n",
    "j_m['h100'] = h100\n",
    "j_m['h95_24'] = h95_24\n",
    "j_m['h100_24'] = h100_24"
   ]
  },
  {
   "cell_type": "code",
   "execution_count": 37,
   "id": "3be0fede",
   "metadata": {},
   "outputs": [],
   "source": [
    "rain = sci(x, 1.0,20.0)\n",
    "fog = sci(x, 2.0,10.0)\n",
    "snow = sci(x, 3.0,30.0)\n",
    "#sci2 = sci(x,a = 1.0, b= 2.0, c= 3.0)\n",
    "\n",
    "j_m['rain'] = rain\n",
    "j_m['fog'] = fog\n",
    "j_m['snow'] = snow"
   ]
  },
  {
   "cell_type": "code",
   "execution_count": 38,
   "id": "0bafeebe",
   "metadata": {},
   "outputs": [],
   "source": [
    "#j_m['sci2'] = sci2"
   ]
  },
  {
   "cell_type": "code",
   "execution_count": 39,
   "id": "c976b558",
   "metadata": {},
   "outputs": [],
   "source": [
    "h95 = relative_humidity(y1, 95,40)\n",
    "h100 = relative_humidity(y1, 98,50)\n",
    "h95_24 = relative_humidity(z1, 95,60)\n",
    "h100_24 = relative_humidity(z1, 98,70)\n",
    "\n",
    "n_d['h95']  = h95\n",
    "n_d['h100'] = h100\n",
    "n_d['h95_24'] = h95_24\n",
    "n_d['h100_24'] = h100_24\n",
    "\n",
    "\n",
    "rain = sci(x1, 1.0,20)\n",
    "fog = sci(x1, 2.0,10)\n",
    "snow = sci(x1, 3.0,30)\n",
    "\n",
    "n_d['rain'] = rain\n",
    "n_d['fog'] = fog\n",
    "n_d['snow'] = snow"
   ]
  },
  {
   "cell_type": "code",
   "execution_count": 40,
   "id": "bdbf3059",
   "metadata": {},
   "outputs": [
    {
     "data": {
      "text/plain": [
       "Index(['index_x', 'TIMESTAMP_UTC', 'rh_Avg(1)', 'rh_Avg(2)', 'temp_Avg(1)',\n",
       "       'temp_Avg(2)', 'index_y', 'RH1_corr_cut', 'RH_2_corr_cut',\n",
       "       'AirTC_1_Avg', 'AirTC_2_Avg', 'time', 'bcc', 'cho', 'nn1', 'nn2', 'nn3',\n",
       "       'sci', 'pbl_l1', 'pbl_l2', 'pbl_l3', 'pbs_l1', 'pbs_l2', 'pbs_l3',\n",
       "       'cbh_l1', 'cbh_l2', 'cbh_l3', 'cbe_l1', 'cbe_l2', 'cbe_l3', 'cdp_l1',\n",
       "       'cdp_l2', 'cdp_l3', 'cde_l1', 'cde_l2', 'cde_l3', 'h95', 'h100',\n",
       "       'h95_24', 'h100_24', 'rain', 'fog', 'snow'],\n",
       "      dtype='object')"
      ]
     },
     "execution_count": 40,
     "metadata": {},
     "output_type": "execute_result"
    }
   ],
   "source": [
    "j_m.columns"
   ]
  },
  {
   "cell_type": "code",
   "execution_count": 41,
   "id": "db066f2e",
   "metadata": {},
   "outputs": [],
   "source": [
    "#n_d['window_p'] = sci(n_d, 4,40)"
   ]
  },
  {
   "cell_type": "markdown",
   "id": "92ff84e0",
   "metadata": {},
   "source": [
    "%matplotlib notebook\n",
    "fig, ax = plt.subplots(1,1,figsize = (25,6),sharex= True)\n",
    "ax.plot(joined['TIMESTAMP_UTC'],joined['rh_Avg(1)'], label = '24m rh', color = 'blue')\n",
    "ax.plot(joined['TIMESTAMP_UTC'],joined['RH_2_corr'], label = '1m rh', color = 'red')\n",
    "\n",
    "#axis parameters\n",
    "ax.tick_params(axis='both', which='major', labelsize=18)\n",
    "ax.tick_params(axis='both', which='minor', labelsize=8)\n",
    "ax.tick_params(axis='x', labelrotation= 20)\n",
    "\n",
    "ax.set_ylim([20,100])\n",
    "ax.set_yticks(np.arange(20,101,20))\n",
    "\n",
    "\n",
    "ax.legend(loc= 'upper left', prop={'size': 12}, ncol = 5)\n",
    "ax.set_xlabel('TIMESTAMP_UTC', fontsize= 20, labelpad = 15)\n",
    "ax.set_ylabel('rh', fontsize=20, labelpad =15 )\n",
    "    \n",
    "ax.minorticks_on()\n",
    "    \n",
    "#ax.set_xbound(left, right)\n",
    "ax.xaxis.set_major_formatter(DateFormatter(\"%d-%m-%Y\"))\n",
    "#ax.xaxis.set_major_locator(DayLocator(interval= 10))\n",
    "    \n",
    "##padding\n",
    "ax.tick_params(axis='x', which='major', pad=15)\n",
    "ax.tick_params(axis='y', which='major', pad=5)\n",
    "\n",
    "\n",
    "ax2 = ax.twinx()\n",
    "ax2.scatter(joined['TIMESTAMP_UTC'],joined['cbh'], label = 'cbh', color = 'brown')\n",
    "\n",
    "ax2.tick_params(axis='both', which='major', labelsize=18)\n",
    "ax2.tick_params(axis='both', which='minor', labelsize=8)\n",
    "\n",
    "ax2.set_ylim([0,200])\n",
    "ax2.set_yticks(np.arange(0,201,50))\n",
    "\n",
    "ax2.legend(loc= 'lower right', prop={'size': 12}, ncol = 5)\n",
    "ax2.set_ylabel('cbh', fontsize=20, labelpad =15 )\n",
    "    \n",
    "ax2.minorticks_on()\n",
    "    \n",
    "#ax.set_xbound(left, right)\n",
    "ax2.xaxis.set_major_formatter(DateFormatter(\"%d-%m-%Y\"))\n",
    "#ax.xaxis.set_major_locator(DayLocator(interval= 10))\n",
    "\n",
    "ax3 = ax.twinx()\n",
    "\n",
    "ax3.scatter(joined['TIMESTAMP_UTC'],joined['pbl'], label = 'pbl', color = 'green')\n",
    "\n",
    "ax3.tick_params(axis='both', which='major', labelsize=18)\n",
    "ax3.tick_params(axis='both', which='minor', labelsize=8)\n",
    "\n",
    "ax3.set_ylim([0,200])\n",
    "ax3.set_yticks(np.arange(0,201,50))\n",
    "\n",
    "ax3.legend(loc= 'lower left', prop={'size': 12}, ncol = 5)\n",
    "ax3.set_ylabel('pbl', fontsize=20, labelpad =15 )\n",
    "ax3.spines[\"right\"].set_position((\"axes\", 1.06))\n",
    "ax3.minorticks_on()\n",
    "   \n",
    "#ax.set_xbound(left, right)\n",
    "ax3.xaxis.set_major_formatter(DateFormatter(\"%d-%m-%Y\"))\n",
    "#ax.xaxis.set_major_locator(DayLocator(interval= 10))\n",
    "\n",
    "\n",
    "fig.tight_layout()"
   ]
  },
  {
   "cell_type": "markdown",
   "id": "4d6478df",
   "metadata": {
    "scrolled": true
   },
   "source": [
    "fig, ax = plt.subplots(1,1,figsize = (25,8),sharex= True)\n",
    "ax.plot(joined['TIMESTAMP_UTC'],joined['pbl'], label = 'pbl', color = 'blue')\n",
    "#ax.plot(joined['TIMESTAMP_UTC'],joined['RH_2_corr'], label = '1m rh', color = 'red')\n",
    "\n",
    "#axis parameters\n",
    "ax.tick_params(axis='both', which='major', labelsize=18)\n",
    "ax.tick_params(axis='both', which='minor', labelsize=8)\n",
    "ax.tick_params(axis='x', labelrotation= 20)\n",
    "\n",
    "#ax.set_ylim([20,100])\n",
    "#ax.set_yticks(np.arange(20,101,20))\n",
    "\n",
    "\n",
    "ax.legend(loc= 'upper right', prop={'size': 12}, ncol = 5)\n",
    "ax.set_xlabel('TIMESTAMP_UTC', fontsize= 20, labelpad = 15)\n",
    "ax.set_ylabel('pbl', fontsize=20, labelpad =15 )\n",
    "    \n",
    "ax.minorticks_on()\n",
    "    \n",
    "#ax.set_xbound(left, right)\n",
    "ax.xaxis.set_major_formatter(DateFormatter(\"%d-%m-%Y\"))\n",
    "#ax.xaxis.set_major_locator(DayLocator(interval= 10))\n",
    "    \n",
    "##padding\n",
    "ax.tick_params(axis='x', which='major', pad=15)\n",
    "ax.tick_params(axis='y', which='major', pad=5)\n",
    "\n",
    "\n",
    "ax2 = ax.twinx()\n",
    "ax2.scatter(joined['TIMESTAMP_UTC'],joined['cbh'], label = 'cbh', color = 'brown')\n",
    "\n",
    "ax2.tick_params(axis='both', which='major', labelsize=18)\n",
    "ax2.tick_params(axis='both', which='minor', labelsize=8)\n",
    "\n",
    "ax2.set_ylim([0,200])\n",
    "ax2.set_yticks(np.arange(0,201,50))\n",
    "\n",
    "ax2.legend(loc= 'lower right', prop={'size': 12}, ncol = 5)\n",
    "ax2.set_ylabel('cbh', fontsize=20, labelpad =15 )\n",
    "    \n",
    "ax2.minorticks_on()\n",
    "    \n",
    "#ax.set_xbound(left, right)\n",
    "ax2.xaxis.set_major_formatter(DateFormatter(\"%d-%m-%Y\"))\n",
    "fig.tight_layout()"
   ]
  },
  {
   "cell_type": "code",
   "execution_count": 42,
   "id": "6bc747a2",
   "metadata": {},
   "outputs": [],
   "source": [
    "#df = pd.read_csv('/Users/varungandhi/Downloads/python_notebooks/final.csv')\n",
    "#df.columns"
   ]
  },
  {
   "cell_type": "code",
   "execution_count": 43,
   "id": "a01da723",
   "metadata": {},
   "outputs": [],
   "source": [
    "#df = df[['rain','fog', 'TIMESTAMP_UTC']]\n",
    "#df['TIMESTAMP_UTC'] = pd.to_datetime(df['TIMESTAMP_UTC'])"
   ]
  },
  {
   "cell_type": "code",
   "execution_count": 44,
   "id": "8d5d6cc4",
   "metadata": {},
   "outputs": [
    {
     "data": {
      "text/plain": [
       "0        2021-01-01 00:00:00\n",
       "1        2021-01-01 00:01:00\n",
       "2        2021-01-01 00:02:00\n",
       "3        2021-01-01 00:03:00\n",
       "4        2021-01-01 00:04:00\n",
       "                 ...        \n",
       "129595   2021-03-31 23:55:00\n",
       "129596   2021-03-31 23:56:00\n",
       "129597   2021-03-31 23:57:00\n",
       "129598   2021-03-31 23:58:00\n",
       "129599   2021-03-31 23:59:00\n",
       "Name: TIMESTAMP_UTC, Length: 129600, dtype: datetime64[ns]"
      ]
     },
     "execution_count": 44,
     "metadata": {},
     "output_type": "execute_result"
    }
   ],
   "source": [
    "j_m['TIMESTAMP_UTC']"
   ]
  },
  {
   "cell_type": "code",
   "execution_count": 45,
   "id": "9e7b2ea7",
   "metadata": {},
   "outputs": [
    {
     "data": {
      "text/plain": [
       "Timestamp('2020-11-20 15:07:00')"
      ]
     },
     "execution_count": 45,
     "metadata": {},
     "output_type": "execute_result"
    }
   ],
   "source": [
    "n_d['TIMESTAMP_UTC'][72120]"
   ]
  },
  {
   "cell_type": "code",
   "execution_count": 55,
   "id": "0a631b16",
   "metadata": {},
   "outputs": [
    {
     "data": {
      "image/png": "[encoded data removed]",
      "text/plain": [
       "<Figure size 2160x576 with 1 Axes>"
      ]
     },
     "metadata": {
      "needs_background": "light"
     },
     "output_type": "display_data"
    }
   ],
   "source": [
    "%matplotlib inline\n",
    "fig, ax1 = plt.subplots(1,1,figsize = (30,8),sharex= True)\n",
    "\n",
    "left = dt.date(2021, 1, 1)\n",
    "right = dt.date(2021, 3, 31)\n",
    "ax1.scatter(j_m['TIMESTAMP_UTC'],j_m['fog'], label = 'Fog', color = 'b', marker = '+', s = 100)\n",
    "ax1.scatter(j_m['TIMESTAMP_UTC'],j_m['rain'],label = 'Rain',color = 'g', marker = '.', s = 100)\n",
    "ax1.scatter(j_m['TIMESTAMP_UTC'],j_m['snow'],label = 'Snow',color = 'orange', marker = 'v', s= 20)\n",
    "\n",
    "ax1.plot(j_m['TIMESTAMP_UTC'],j_m['h95'], label = 'Rh_1m >95', color = 'red', linewidth = 10)\n",
    "ax1.plot(j_m['TIMESTAMP_UTC'],j_m['h100'], label = 'Rh_1m > 98', color = 'purple', linewidth = 10)\n",
    "ax1.plot(j_m['TIMESTAMP_UTC'],j_m['h95_24'], label = 'Rh_24m >95', color = 'black', linewidth = 10)\n",
    "ax1.plot(j_m['TIMESTAMP_UTC'],j_m['h100_24'], label = 'Rh_24m > 98', color = 'brown', linewidth = 10)\n",
    "\n",
    "#axis parameters\n",
    "ax1.tick_params(axis='both', which='major', labelsize=18)\n",
    "ax1.tick_params(axis='both', which='minor', labelsize=8)\n",
    "ax1.tick_params(axis='x', labelrotation= 20)\n",
    "\n",
    "ax1.set_ylim([10,100])\n",
    "ax1.set_yticks(np.arange(0,81,20))\n",
    "ax1.axes.yaxis.set_ticks([])\n",
    "\n",
    "ax1.legend(loc= 'upper right', prop={'size': 18}, ncol = 5)\n",
    "ax1.set_xlabel('TIMESTAMP_UTC', fontsize= 20, labelpad = 15,fontweight='bold')\n",
    "ax1.set_ylabel('SCI categories', fontsize=20, labelpad =15,fontweight='bold')\n",
    "    \n",
    "ax1.minorticks_on()\n",
    "    \n",
    "ax1.set_xbound(left, right)\n",
    "ax1.xaxis.set_major_formatter(DateFormatter(\"%d-%m-%Y\"))\n",
    "ax1.xaxis.set_major_locator(DayLocator(interval= 7))\n",
    "#plt.savefig('/Users/varungandhi/Downloads/paper2/plots/SCI_jan.png')"
   ]
  },
  {
   "cell_type": "code",
   "execution_count": 370,
   "id": "e92944fa",
   "metadata": {},
   "outputs": [
    {
     "data": {
      "image/png": "[encoded data removed]",
      "text/plain": [
       "<Figure size 1800x432 with 1 Axes>"
      ]
     },
     "metadata": {
      "needs_background": "light"
     },
     "output_type": "display_data"
    }
   ],
   "source": [
    "fig, ax1 = plt.subplots(1,1,figsize = (25,6),sharex= True)\n",
    "\n",
    "\n",
    "left = dt.date(2020, 10, 1)\n",
    "right = dt.date(2020, 12, 31)\n",
    "ax1.axvline(x = n_d['TIMESTAMP_UTC'][72120], linestyle = '--',color = 'black')\n",
    "ax1.scatter(n_d['TIMESTAMP_UTC'],n_d['fog'], label = 'fog', color = 'blue'  ,marker = '+',s =100)\n",
    "ax1.scatter(n_d['TIMESTAMP_UTC'],n_d['rain'],label = 'rain',color = 'g'     ,marker = '.',s =100)\n",
    "ax1.scatter(n_d['TIMESTAMP_UTC'],n_d['snow'],label = 'snow',color = 'orange',marker = 'v',s =20)\n",
    "\n",
    "#ax1.plot(n_d['TIMESTAMP_UTC'],n_d['window_p'], label = 'precipitation or window particle', color = 'black', linewidth = 10)\n",
    "\n",
    "    \n",
    "ax1.plot(n_d['TIMESTAMP_UTC'],n_d['h95'], label = 'Rh_1m >95', color = 'red', linewidth = 10)\n",
    "ax1.plot(n_d['TIMESTAMP_UTC'],n_d['h100'], label = 'Rh_1m  >98', color = 'purple', linewidth = 10)\n",
    "ax1.plot(n_d['TIMESTAMP_UTC'],n_d['h95_24'], label = 'Rh_24m > 95', color = 'black', linewidth = 10)\n",
    "ax1.plot(n_d['TIMESTAMP_UTC'],n_d['h100_24'], label = 'Rh_24m > 98', color = 'brown', linewidth = 10)\n",
    "\n",
    "#axis parameters\n",
    "ax1.tick_params(axis='both', which='major', labelsize=18)\n",
    "ax1.tick_params(axis='both', which='minor', labelsize=8)\n",
    "ax1.tick_params(axis='x', labelrotation= 20)\n",
    "\n",
    "ax1.set_ylim([20,100])\n",
    "ax1.set_yticks(np.arange(0,81,20))\n",
    "ax1.axes.yaxis.set_ticks([])\n",
    "\n",
    "\n",
    "ax1.legend(loc= 'upper right', prop={'size': 18}, ncol = 5)\n",
    "#ax1.set_xlabel('TIMESTAMP_UTC', fontsize= 20, labelpad = 15)\n",
    "ax1.set_ylabel('SCI categories', fontsize=20, labelpad =15, fontweight='bold')\n",
    "ax1.xaxis.set_major_formatter(DateFormatter(\"%d-%m-%Y\"))\n",
    "ax1.xaxis.set_major_locator(DayLocator(interval= 7))\n",
    "    \n",
    "ax1.minorticks_on()\n",
    "ax1.set_xbound(left, right)\n",
    "#plt.savefig('/Users/varungandhi/Downloads/paper2/plots/SCI_oct.png')\n"
   ]
  },
  {
   "cell_type": "code",
   "execution_count": 212,
   "id": "00796e59",
   "metadata": {},
   "outputs": [],
   "source": [
    "j_m.to_csv('jan_mar.csv', sep = ',')\n",
    "n_d.to_csv('nov_dec.csv', sep = ',')"
   ]
  },
  {
   "cell_type": "code",
   "execution_count": 108,
   "id": "0b10b8a2",
   "metadata": {},
   "outputs": [
    {
     "data": {
      "text/plain": [
       "0        2021-01-01 00:01:00\n",
       "1        2021-01-01 00:02:00\n",
       "2        2021-01-01 00:03:00\n",
       "3        2021-01-01 00:04:00\n",
       "4        2021-01-01 00:05:00\n",
       "                 ...        \n",
       "100149   2021-03-11 13:10:00\n",
       "100150   2021-03-11 13:11:00\n",
       "100151   2021-03-11 13:12:00\n",
       "100152   2021-03-11 13:13:00\n",
       "100153   2021-03-11 13:14:00\n",
       "Name: TIMESTAMP_UTC, Length: 100154, dtype: datetime64[ns]"
      ]
     },
     "execution_count": 108,
     "metadata": {},
     "output_type": "execute_result"
    }
   ],
   "source": [
    "j_m['TIMESTAMP_UTC']"
   ]
  },
  {
   "cell_type": "code",
   "execution_count": 109,
   "id": "1a062609",
   "metadata": {},
   "outputs": [
    {
     "data": {
      "text/plain": [
       "0        NaN\n",
       "1        NaN\n",
       "2        NaN\n",
       "3        NaN\n",
       "4        NaN\n",
       "          ..\n",
       "100149   NaN\n",
       "100150   NaN\n",
       "100151   NaN\n",
       "100152   NaN\n",
       "100153   NaN\n",
       "Name: fog, Length: 100154, dtype: float64"
      ]
     },
     "execution_count": 109,
     "metadata": {},
     "output_type": "execute_result"
    }
   ],
   "source": [
    "j_m['fog']"
   ]
  },
  {
   "cell_type": "code",
   "execution_count": 110,
   "id": "99bda8e5",
   "metadata": {},
   "outputs": [
    {
     "data": {
      "text/plain": [
       "0        NaN\n",
       "1        NaN\n",
       "2        NaN\n",
       "3        NaN\n",
       "4        NaN\n",
       "          ..\n",
       "100149   NaN\n",
       "100150   NaN\n",
       "100151   NaN\n",
       "100152   NaN\n",
       "100153   NaN\n",
       "Name: rain, Length: 100154, dtype: float64"
      ]
     },
     "execution_count": 110,
     "metadata": {},
     "output_type": "execute_result"
    }
   ],
   "source": [
    "j_m['rain']"
   ]
  },
  {
   "cell_type": "code",
   "execution_count": 111,
   "id": "364249ae",
   "metadata": {},
   "outputs": [
    {
     "data": {
      "text/plain": [
       "RangeIndex(start=0, stop=100154, step=1)"
      ]
     },
     "execution_count": 111,
     "metadata": {},
     "output_type": "execute_result"
    }
   ],
   "source": [
    "j_m.index"
   ]
  },
  {
   "cell_type": "code",
   "execution_count": 112,
   "id": "5c7e428d",
   "metadata": {},
   "outputs": [
    {
     "data": {
      "text/plain": [
       "0        NaN\n",
       "1        NaN\n",
       "2        NaN\n",
       "3        NaN\n",
       "4        NaN\n",
       "          ..\n",
       "100149   NaN\n",
       "100150   NaN\n",
       "100151   NaN\n",
       "100152   NaN\n",
       "100153   NaN\n",
       "Name: fog, Length: 100154, dtype: float64"
      ]
     },
     "execution_count": 112,
     "metadata": {},
     "output_type": "execute_result"
    }
   ],
   "source": [
    "j_m['fog']"
   ]
  },
  {
   "cell_type": "code",
   "execution_count": 41,
   "id": "be4713f3",
   "metadata": {},
   "outputs": [
    {
     "data": {
      "text/plain": [
       "0        2021-01-01 00:01:00\n",
       "1        2021-01-01 00:02:00\n",
       "2        2021-01-01 00:03:00\n",
       "3        2021-01-01 00:04:00\n",
       "4        2021-01-01 00:05:00\n",
       "                 ...        \n",
       "100149   2021-03-11 13:10:00\n",
       "100150   2021-03-11 13:11:00\n",
       "100151   2021-03-11 13:12:00\n",
       "100152   2021-03-11 13:13:00\n",
       "100153   2021-03-11 13:14:00\n",
       "Name: TIMESTAMP_UTC, Length: 100154, dtype: datetime64[ns]"
      ]
     },
     "execution_count": 41,
     "metadata": {},
     "output_type": "execute_result"
    }
   ],
   "source": [
    "j_m['TIMESTAMP_UTC']"
   ]
  },
  {
   "cell_type": "code",
   "execution_count": null,
   "id": "bf4059dd",
   "metadata": {},
   "outputs": [],
   "source": []
  },
  {
   "cell_type": "code",
   "execution_count": null,
   "id": "18e373ab",
   "metadata": {},
   "outputs": [],
   "source": []
  },
  {
   "cell_type": "code",
   "execution_count": null,
   "id": "0e78413f",
   "metadata": {},
   "outputs": [],
   "source": []
  }
 ],
 "metadata": {
  "kernelspec": {
   "display_name": "Python [conda env:icclim]",
   "language": "python",
   "name": "conda-env-icclim-py"
  },
  "language_info": {
   "codemirror_mode": {
    "name": "ipython",
    "version": 3
   },
   "file_extension": ".py",
   "mimetype": "text/x-python",
   "name": "python",
   "nbconvert_exporter": "python",
   "pygments_lexer": "ipython3",
   "version": "3.8.12"
  }
 },
 "nbformat": 4,
 "nbformat_minor": 5
}
