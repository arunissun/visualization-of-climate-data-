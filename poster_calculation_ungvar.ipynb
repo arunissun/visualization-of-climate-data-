{
 "cells": [
  {
   "cell_type": "code",
   "execution_count": 111,
   "id": "1dc1033e",
   "metadata": {},
   "outputs": [],
   "source": [
    "\n",
    "import pandas as pd\n",
    "import numpy as np\n",
    "\n",
    "def read_data(path):\n",
    "    \n",
    "    df = pd.read_excel(path, sheet_name='Ungvar')\n",
    "    return df\n",
    "\n",
    "df = read_data('/Volumes/Seagate Backup Plus Drive/historical/1900 - 1919/1909.xlsx')"
   ]
  },
  {
   "cell_type": "code",
   "execution_count": 112,
   "id": "0d5071ec",
   "metadata": {},
   "outputs": [],
   "source": [
    "df1 = df.iloc[3:34, 2:5]\n",
    "df2 = df.iloc[3:31, 9:12]\n",
    "df3 = df.iloc[3:34,15:18]\n",
    "df4 = df.iloc[52:82,2:5]\n",
    "df5 = df.iloc[52:83, 9:12]\n",
    "df6 = df.iloc[52:82,15:18]\n",
    "df7 = df.iloc[97:128,2:5]\n",
    "df8 = df.iloc[97:128,9:12]\n",
    "df9 = df.iloc[97:127,15:18]\n",
    "df10 = df.iloc[141:172,2:5]\n",
    "df11 = df.iloc[141:171,9:12]\n",
    "df12 = df.iloc[141:172,15:18]\n",
    "#df7"
   ]
  },
  {
   "cell_type": "code",
   "execution_count": 109,
   "id": "344ae60c",
   "metadata": {},
   "outputs": [],
   "source": [
    "def cal(df_1,df_2,df_3, df_4, df_5, df_6, df_7, df_8, df_9, df_10,df_11, df_12):\n",
    "    \n",
    "    array_1 = df_1.to_numpy(dtype = int)\n",
    "    array_2 = df_2.to_numpy(dtype= int)\n",
    "    array_3 = df_3.to_numpy(dtype= int)\n",
    "    array_4 = df_4.to_numpy(dtype= int)\n",
    "    array_5 = df_5.to_numpy(dtype= int)\n",
    "    array_6 = df_6.to_numpy(dtype= int)\n",
    "    array_7 = df_7.to_numpy(dtype= int)\n",
    "    array_8 = df_8.to_numpy(dtype= int)\n",
    "    array_9 = df_9.to_numpy(dtype= int)\n",
    "    array_10 = df_10.to_numpy(dtype= int)\n",
    "    array_11 = df_11.to_numpy(dtype= int)\n",
    "    array_12= df_12.to_numpy(dtype= int)\n",
    "    \n",
    "    #final_array = np.concatenate((array_1, array_2), axis = 0)\n",
    "    \n",
    "    final_array = np.concatenate((array_1, array_2, array_3,array_4, array_5,array_6,array_7, array_8, array_9, array_10, array_11, array_12), axis = 0)\n",
    "    return final_array"
   ]
  },
  {
   "cell_type": "code",
   "execution_count": 4,
   "id": "c96212ef",
   "metadata": {},
   "outputs": [
    {
     "data": {
      "text/plain": [
       "array([[0, 0, 0],\n",
       "       [0, 0, 0],\n",
       "       [0, 0, 0],\n",
       "       ...,\n",
       "       [0, 0, 0],\n",
       "       [0, 0, 0],\n",
       "       [0, 0, 0]])"
      ]
     },
     "execution_count": 4,
     "metadata": {},
     "output_type": "execute_result"
    }
   ],
   "source": [
    "year_1889 = cal(df1,df2,df3,df4,df5,df6,df7,df8,df9,df10,df11,df12)\n",
    "year_1889"
   ]
  },
  {
   "cell_type": "code",
   "execution_count": 8,
   "id": "d5d4f348",
   "metadata": {},
   "outputs": [
    {
     "data": {
      "text/plain": [
       "array([[0, 0, 0],\n",
       "       [0, 0, 0],\n",
       "       [0, 0, 0],\n",
       "       ...,\n",
       "       [0, 0, 0],\n",
       "       [0, 0, 0],\n",
       "       [0, 0, 0]])"
      ]
     },
     "execution_count": 8,
     "metadata": {},
     "output_type": "execute_result"
    }
   ],
   "source": [
    "year_1890 = cal(df1,df2,df3,df4,df5,df6,df7,df8,df9,df10,df11,df12)\n",
    "year_1890"
   ]
  },
  {
   "cell_type": "code",
   "execution_count": 12,
   "id": "fc724f0a",
   "metadata": {},
   "outputs": [
    {
     "data": {
      "text/plain": [
       "array([[0, 0, 0],\n",
       "       [0, 0, 0],\n",
       "       [0, 0, 0],\n",
       "       ...,\n",
       "       [1, 0, 0],\n",
       "       [0, 0, 0],\n",
       "       [1, 0, 0]])"
      ]
     },
     "execution_count": 12,
     "metadata": {},
     "output_type": "execute_result"
    }
   ],
   "source": [
    "year_1891 = cal(df1,df2,df3,df4,df5,df6,df7,df8,df9,df10,df11,df12)\n",
    "year_1891"
   ]
  },
  {
   "cell_type": "code",
   "execution_count": 16,
   "id": "dd42d728",
   "metadata": {},
   "outputs": [
    {
     "data": {
      "text/plain": [
       "array([[0, 1, 0],\n",
       "       [0, 0, 0],\n",
       "       [0, 0, 0],\n",
       "       ...,\n",
       "       [0, 0, 0],\n",
       "       [0, 0, 0],\n",
       "       [0, 0, 0]])"
      ]
     },
     "execution_count": 16,
     "metadata": {},
     "output_type": "execute_result"
    }
   ],
   "source": [
    "year_1892 = cal(df1,df2,df3,df4,df5,df6,df7,df8,df9,df10,df11,df12)\n",
    "year_1892"
   ]
  },
  {
   "cell_type": "code",
   "execution_count": 20,
   "id": "c423aca6",
   "metadata": {},
   "outputs": [
    {
     "data": {
      "text/plain": [
       "array([[0, 0, 0],\n",
       "       [0, 0, 0],\n",
       "       [0, 0, 0],\n",
       "       ...,\n",
       "       [0, 0, 0],\n",
       "       [0, 0, 0],\n",
       "       [0, 0, 0]])"
      ]
     },
     "execution_count": 20,
     "metadata": {},
     "output_type": "execute_result"
    }
   ],
   "source": [
    "year_1893 = cal(df1,df2,df3,df4,df5,df6,df7,df8,df9,df10,df11,df12)\n",
    "year_1893"
   ]
  },
  {
   "cell_type": "code",
   "execution_count": 24,
   "id": "99ec103d",
   "metadata": {},
   "outputs": [
    {
     "data": {
      "text/plain": [
       "array([[0, 0, 0],\n",
       "       [0, 0, 0],\n",
       "       [0, 0, 0],\n",
       "       ...,\n",
       "       [0, 1, 0],\n",
       "       [0, 0, 0],\n",
       "       [0, 0, 0]])"
      ]
     },
     "execution_count": 24,
     "metadata": {},
     "output_type": "execute_result"
    }
   ],
   "source": [
    "year_1894 = cal(df1,df2,df3,df4,df5,df6,df7,df8,df9,df10,df11,df12)\n",
    "year_1894"
   ]
  },
  {
   "cell_type": "code",
   "execution_count": 28,
   "id": "4c47ae08",
   "metadata": {},
   "outputs": [
    {
     "data": {
      "text/plain": [
       "array([[0, 0, 0],\n",
       "       [0, 0, 0],\n",
       "       [0, 0, 0],\n",
       "       ...,\n",
       "       [0, 0, 0],\n",
       "       [0, 0, 0],\n",
       "       [0, 0, 0]])"
      ]
     },
     "execution_count": 28,
     "metadata": {},
     "output_type": "execute_result"
    }
   ],
   "source": [
    "year_1895 = cal(df1,df2,df3,df4,df5,df6,df7,df8,df9,df10,df11,df12)\n",
    "year_1895"
   ]
  },
  {
   "cell_type": "code",
   "execution_count": 32,
   "id": "eb99788e",
   "metadata": {},
   "outputs": [
    {
     "data": {
      "text/plain": [
       "array([[0, 0, 0],\n",
       "       [0, 0, 0],\n",
       "       [0, 0, 0],\n",
       "       ...,\n",
       "       [0, 0, 0],\n",
       "       [0, 0, 0],\n",
       "       [0, 0, 1]])"
      ]
     },
     "execution_count": 32,
     "metadata": {},
     "output_type": "execute_result"
    }
   ],
   "source": [
    "year_1896 = cal(df1,df2,df3,df4,df5,df6,df7,df8,df9,df10,df11,df12)\n",
    "year_1896"
   ]
  },
  {
   "cell_type": "code",
   "execution_count": 36,
   "id": "fdc97db7",
   "metadata": {},
   "outputs": [
    {
     "data": {
      "text/plain": [
       "array([[0, 0, 0],\n",
       "       [0, 0, 0],\n",
       "       [0, 0, 0],\n",
       "       ...,\n",
       "       [0, 0, 0],\n",
       "       [0, 0, 0],\n",
       "       [0, 0, 0]])"
      ]
     },
     "execution_count": 36,
     "metadata": {},
     "output_type": "execute_result"
    }
   ],
   "source": [
    "year_1897 = cal(df1,df2,df3,df4,df5,df6,df7,df8,df9,df10,df11,df12)\n",
    "year_1897"
   ]
  },
  {
   "cell_type": "code",
   "execution_count": 40,
   "id": "8f8c0a44",
   "metadata": {},
   "outputs": [
    {
     "data": {
      "text/plain": [
       "array([[0, 0, 0],\n",
       "       [0, 0, 0],\n",
       "       [0, 0, 0],\n",
       "       ...,\n",
       "       [0, 0, 0],\n",
       "       [0, 0, 0],\n",
       "       [0, 0, 0]])"
      ]
     },
     "execution_count": 40,
     "metadata": {},
     "output_type": "execute_result"
    }
   ],
   "source": [
    "year_1898 = cal(df1,df2,df3,df4,df5,df6,df7,df8,df9,df10,df11,df12)\n",
    "year_1898"
   ]
  },
  {
   "cell_type": "code",
   "execution_count": 44,
   "id": "2b30aa4c",
   "metadata": {},
   "outputs": [
    {
     "data": {
      "text/plain": [
       "array([[0, 0, 0],\n",
       "       [0, 0, 0],\n",
       "       [0, 0, 0],\n",
       "       ...,\n",
       "       [0, 0, 0],\n",
       "       [0, 0, 0],\n",
       "       [0, 0, 0]])"
      ]
     },
     "execution_count": 44,
     "metadata": {},
     "output_type": "execute_result"
    }
   ],
   "source": [
    "year_1899 = cal(df1,df2,df3,df4,df5,df6,df7,df8,df9,df10,df11,df12)\n",
    "year_1899"
   ]
  },
  {
   "cell_type": "code",
   "execution_count": 48,
   "id": "73150846",
   "metadata": {},
   "outputs": [],
   "source": [
    "year_1900 = cal(df1,df2,df3,df4,df5,df6,df7,df8,df9,df10,df11,df12)\n"
   ]
  },
  {
   "cell_type": "code",
   "execution_count": 54,
   "id": "7ad81a31",
   "metadata": {},
   "outputs": [
    {
     "data": {
      "text/plain": [
       "array([[0, 0, 0],\n",
       "       [0, 0, 0],\n",
       "       [0, 0, 0],\n",
       "       ...,\n",
       "       [0, 0, 0],\n",
       "       [0, 0, 0],\n",
       "       [0, 1, 1]])"
      ]
     },
     "execution_count": 54,
     "metadata": {},
     "output_type": "execute_result"
    }
   ],
   "source": [
    "year_1901 = cal(df1,df2,df3,df4,df5,df6,df7,df8,df9,df10,df11,df12)\n",
    "year_1901"
   ]
  },
  {
   "cell_type": "code",
   "execution_count": 58,
   "id": "ac059c0a",
   "metadata": {},
   "outputs": [
    {
     "data": {
      "text/plain": [
       "array([[1, 0, 0],\n",
       "       [0, 0, 0],\n",
       "       [1, 1, 1],\n",
       "       ...,\n",
       "       [0, 0, 0],\n",
       "       [0, 0, 0],\n",
       "       [0, 0, 0]])"
      ]
     },
     "execution_count": 58,
     "metadata": {},
     "output_type": "execute_result"
    }
   ],
   "source": [
    "year_1902 = cal(df1,df2,df3,df4,df5,df6,df7,df8,df9,df10,df11,df12)\n",
    "year_1902"
   ]
  },
  {
   "cell_type": "code",
   "execution_count": 62,
   "id": "2a09b7b6",
   "metadata": {},
   "outputs": [
    {
     "data": {
      "text/plain": [
       "array([[1, 1, 1],\n",
       "       [0, 1, 1],\n",
       "       [0, 0, 0],\n",
       "       ...,\n",
       "       [0, 0, 0],\n",
       "       [0, 0, 0],\n",
       "       [0, 0, 0]])"
      ]
     },
     "execution_count": 62,
     "metadata": {},
     "output_type": "execute_result"
    }
   ],
   "source": [
    "year_1903 = cal(df1,df2,df3,df4,df5,df6,df7,df8,df9,df10,df11,df12)\n",
    "year_1903"
   ]
  },
  {
   "cell_type": "code",
   "execution_count": 66,
   "id": "b0743f10",
   "metadata": {},
   "outputs": [
    {
     "data": {
      "text/plain": [
       "array([[0, 0, 0],\n",
       "       [0, 0, 0],\n",
       "       [0, 0, 0],\n",
       "       ...,\n",
       "       [0, 0, 0],\n",
       "       [0, 0, 0],\n",
       "       [0, 0, 0]])"
      ]
     },
     "execution_count": 66,
     "metadata": {},
     "output_type": "execute_result"
    }
   ],
   "source": [
    "year_1904 = cal(df1,df2,df3,df4,df5,df6,df7,df8,df9,df10,df11,df12)\n",
    "year_1904"
   ]
  },
  {
   "cell_type": "code",
   "execution_count": 70,
   "id": "913359d7",
   "metadata": {},
   "outputs": [
    {
     "data": {
      "text/plain": [
       "array([[0, 0, 0],\n",
       "       [0, 0, 0],\n",
       "       [0, 0, 0],\n",
       "       ...,\n",
       "       [0, 0, 1],\n",
       "       [1, 1, 1],\n",
       "       [0, 0, 0]])"
      ]
     },
     "execution_count": 70,
     "metadata": {},
     "output_type": "execute_result"
    }
   ],
   "source": [
    "year_1905 = cal(df1,df2,df3,df4,df5,df6,df7,df8,df9,df10,df11,df12)\n",
    "year_1905"
   ]
  },
  {
   "cell_type": "code",
   "execution_count": 102,
   "id": "b079cb8a",
   "metadata": {},
   "outputs": [
    {
     "data": {
      "text/plain": [
       "array([[0, 0, 0],\n",
       "       [0, 0, 0],\n",
       "       [0, 0, 0],\n",
       "       ...,\n",
       "       [0, 0, 1],\n",
       "       [0, 0, 0],\n",
       "       [0, 0, 0]])"
      ]
     },
     "execution_count": 102,
     "metadata": {},
     "output_type": "execute_result"
    }
   ],
   "source": [
    "year_1906 = cal(df1,df2,df3,df4,df5,df6,df7,df8,df9,df10,df11,df12)\n",
    "year_1906"
   ]
  },
  {
   "cell_type": "code",
   "execution_count": 106,
   "id": "3bf47bd9",
   "metadata": {},
   "outputs": [
    {
     "data": {
      "text/plain": [
       "array([[0, 0, 0],\n",
       "       [0, 0, 0],\n",
       "       [0, 0, 0],\n",
       "       ...,\n",
       "       [0, 0, 0],\n",
       "       [0, 0, 0],\n",
       "       [0, 0, 0]])"
      ]
     },
     "execution_count": 106,
     "metadata": {},
     "output_type": "execute_result"
    }
   ],
   "source": [
    "year_1907 = cal(df1,df2,df3,df4,df5,df6,df7,df8,df9,df10,df11,df12)\n",
    "year_1907"
   ]
  },
  {
   "cell_type": "code",
   "execution_count": 110,
   "id": "e1bb4e25",
   "metadata": {},
   "outputs": [
    {
     "data": {
      "text/plain": [
       "array([[0, 0, 0],\n",
       "       [0, 0, 0],\n",
       "       [0, 0, 0],\n",
       "       ...,\n",
       "       [0, 0, 0],\n",
       "       [0, 0, 0],\n",
       "       [0, 0, 0]])"
      ]
     },
     "execution_count": 110,
     "metadata": {},
     "output_type": "execute_result"
    }
   ],
   "source": [
    "year_1908 = cal(df1,df2,df3,df4,df5,df6,df7,df8,df9,df10,df11,df12)\n",
    "year_1908"
   ]
  },
  {
   "cell_type": "code",
   "execution_count": 113,
   "id": "35bd2637",
   "metadata": {},
   "outputs": [
    {
     "data": {
      "text/plain": [
       "array([[0, 0, 0],\n",
       "       [0, 0, 0],\n",
       "       [0, 0, 0],\n",
       "       ...,\n",
       "       [0, 0, 0],\n",
       "       [0, 0, 0],\n",
       "       [0, 0, 0]])"
      ]
     },
     "execution_count": 113,
     "metadata": {},
     "output_type": "execute_result"
    }
   ],
   "source": [
    "year_1909 = cal(df1,df2,df3,df4,df5,df6,df7,df8,df9,df10,df11,df12)\n",
    "year_1909"
   ]
  },
  {
   "cell_type": "code",
   "execution_count": 74,
   "id": "898d1b31",
   "metadata": {},
   "outputs": [
    {
     "data": {
      "text/plain": [
       "array([[0, 0, 0],\n",
       "       [0, 0, 0],\n",
       "       [0, 0, 0],\n",
       "       ...,\n",
       "       [0, 0, 0],\n",
       "       [0, 0, 1],\n",
       "       [0, 0, 0]])"
      ]
     },
     "execution_count": 74,
     "metadata": {},
     "output_type": "execute_result"
    }
   ],
   "source": [
    "year_1910 = cal(df1,df2,df3,df4,df5,df6,df7,df8,df9,df10,df11,df12)\n",
    "year_1910"
   ]
  },
  {
   "cell_type": "code",
   "execution_count": 78,
   "id": "c22d08eb",
   "metadata": {},
   "outputs": [
    {
     "data": {
      "text/plain": [
       "array([[0, 0, 0],\n",
       "       [0, 0, 0],\n",
       "       [1, 1, 1],\n",
       "       ...,\n",
       "       [0, 0, 0],\n",
       "       [0, 0, 0],\n",
       "       [0, 0, 0]])"
      ]
     },
     "execution_count": 78,
     "metadata": {},
     "output_type": "execute_result"
    }
   ],
   "source": [
    "year_1911 = cal(df1,df2,df3,df4,df5,df6,df7,df8,df9,df10,df11,df12)\n",
    "year_1911"
   ]
  },
  {
   "cell_type": "code",
   "execution_count": 82,
   "id": "d1a4e6cd",
   "metadata": {},
   "outputs": [
    {
     "data": {
      "text/plain": [
       "array([[0, 0, 0],\n",
       "       [0, 0, 0],\n",
       "       [0, 0, 0],\n",
       "       ...,\n",
       "       [0, 0, 0],\n",
       "       [1, 1, 1],\n",
       "       [1, 1, 1]])"
      ]
     },
     "execution_count": 82,
     "metadata": {},
     "output_type": "execute_result"
    }
   ],
   "source": [
    "year_1912 = cal(df1,df2,df3,df4,df5,df6,df7,df8,df9,df10,df11,df12)\n",
    "year_1912"
   ]
  },
  {
   "cell_type": "code",
   "execution_count": 86,
   "id": "26e9b430",
   "metadata": {},
   "outputs": [
    {
     "data": {
      "text/plain": [
       "array([[0, 0, 0],\n",
       "       [0, 0, 0],\n",
       "       [0, 0, 0],\n",
       "       ...,\n",
       "       [0, 0, 0],\n",
       "       [0, 0, 0],\n",
       "       [0, 0, 0]])"
      ]
     },
     "execution_count": 86,
     "metadata": {},
     "output_type": "execute_result"
    }
   ],
   "source": [
    "year_1913 = cal(df1,df2,df3,df4,df5,df6,df7,df8,df9,df10,df11,df12)\n",
    "year_1913"
   ]
  },
  {
   "cell_type": "code",
   "execution_count": 90,
   "id": "b1c8e1fa",
   "metadata": {},
   "outputs": [
    {
     "data": {
      "text/plain": [
       "array([[0, 0, 0],\n",
       "       [0, 0, 0],\n",
       "       [0, 0, 0],\n",
       "       ...,\n",
       "       [0, 0, 0],\n",
       "       [0, 0, 0],\n",
       "       [0, 0, 0]])"
      ]
     },
     "execution_count": 90,
     "metadata": {},
     "output_type": "execute_result"
    }
   ],
   "source": [
    "year_1914 = cal(df1,df2,df3,df4,df5,df6,df7,df8,df9,df10,df11,df12)\n",
    "year_1914"
   ]
  },
  {
   "cell_type": "code",
   "execution_count": 94,
   "id": "a6e502a5",
   "metadata": {},
   "outputs": [
    {
     "data": {
      "text/plain": [
       "array([[0, 0, 0],\n",
       "       [0, 0, 0],\n",
       "       [0, 0, 0],\n",
       "       ...,\n",
       "       [1, 0, 0],\n",
       "       [0, 0, 0],\n",
       "       [0, 0, 0]])"
      ]
     },
     "execution_count": 94,
     "metadata": {},
     "output_type": "execute_result"
    }
   ],
   "source": [
    "year_1915 = cal(df1,df2,df3,df4,df5,df6,df7,df8,df9,df10,df11,df12)\n",
    "year_1915"
   ]
  },
  {
   "cell_type": "code",
   "execution_count": 98,
   "id": "b3021c30",
   "metadata": {},
   "outputs": [
    {
     "data": {
      "text/plain": [
       "array([[1, 1, 1],\n",
       "       [0, 0, 0],\n",
       "       [1, 1, 0],\n",
       "       ...,\n",
       "       [0, 0, 0],\n",
       "       [0, 0, 0],\n",
       "       [0, 0, 0]])"
      ]
     },
     "execution_count": 98,
     "metadata": {},
     "output_type": "execute_result"
    }
   ],
   "source": [
    "year_1916 = cal(df1,df2,df3,df4,df5,df6,df7,df8,df9,df10,df11,df12)\n",
    "year_1916"
   ]
  },
  {
   "cell_type": "code",
   "execution_count": 114,
   "id": "15f9ef6c",
   "metadata": {},
   "outputs": [],
   "source": [
    "def cals(arr1, arr2, arr3, arr4, arr5, arr6, arr7, arr8, arr9, arr10, arr11, arr12, arr13, arr14, arr15, arr16,\n",
    "         arr17,arr18,arr19,arr20,arr21,arr22,arr23,arr24,arr25,arr26,arr27,arr28):\n",
    "    \n",
    "    years_array = np.concatenate((arr1, arr2, arr3, arr4, arr5, arr6, arr7,\n",
    "                                  arr8, arr9, arr10, arr11, arr12, arr13, \n",
    "                                  arr14, arr15, arr16,arr17,arr18,arr19,\n",
    "                                  arr20,arr21,arr22,arr23,arr24,arr25,\n",
    "                                  arr26,arr27,arr28), axis = 0)\n",
    "    final_array = years_array.reshape(years_array.shape[0]*years_array.shape[1])\n",
    "    \n",
    "    a_str = ''.join(str(x) for x in final_array)\n",
    "    \n",
    "    c_str = a_str.split('0')\n",
    "    \n",
    "    a1 = 0\n",
    "    a2 = 0\n",
    "    a3 = 0\n",
    "    a4 = 0\n",
    "    a5 = 0\n",
    "    a6 = 0\n",
    "    a7 = 0\n",
    "    a8 = 0\n",
    "    a9 = 0\n",
    "    a10 = 0\n",
    "    a11 = 0\n",
    "    a12 = 0\n",
    "    a13 = 0\n",
    "    a14 = 0\n",
    "    a15 = 0\n",
    "    a16 = 0\n",
    "    a17 = 0\n",
    "    a18 = 0\n",
    "    a19 = 0\n",
    "    a20 = 0\n",
    "    \n",
    "    find_pattern = ['1', '11', '111', '1111','11111', '111111', '1111111', '11111111',\n",
    "                   '111111111', '1111111111', '11111111111', '111111111111', '1111111111111',\n",
    "                   '11111111111111','111111111111111', '1111111111111111', '11111111111111111',\n",
    "                   '111111111111111111', '1111111111111111111', '11111111111111111111']\n",
    "\n",
    "    for p in range(len(c_str)):\n",
    "        if find_pattern[0] == c_str[p]:\n",
    "            a1+=1\n",
    "            \n",
    "        if find_pattern[1] == c_str[p]:\n",
    "            a2+=1\n",
    "            \n",
    "        if find_pattern[2] == c_str[p]:\n",
    "            a3+=1\n",
    "            \n",
    "        if find_pattern[3] == c_str[p]:\n",
    "            a4+=1\n",
    "            \n",
    "        if find_pattern[4] == c_str[p]:\n",
    "            a5+=1\n",
    "            \n",
    "        if find_pattern[5] == c_str[p]:\n",
    "            a6+=1\n",
    "            \n",
    "        if find_pattern[6] == c_str[p]:\n",
    "            a7+=1\n",
    "            \n",
    "        if find_pattern[7] == c_str[p]:\n",
    "            a8+=1\n",
    "            \n",
    "        if find_pattern[8] == c_str[p]:\n",
    "            a9+=1\n",
    "            \n",
    "        if find_pattern[9] == c_str[p]:\n",
    "            a10+=1\n",
    "            \n",
    "        if find_pattern[10] == c_str[p]:\n",
    "            a11+=1\n",
    "            \n",
    "        if find_pattern[11] == c_str[p]:\n",
    "            a12+=1\n",
    "            \n",
    "        if find_pattern[12] == c_str[p]:\n",
    "            a13+=1\n",
    "            \n",
    "        if find_pattern[13] == c_str[p]:\n",
    "            a14+=1\n",
    "            \n",
    "        if find_pattern[14] == c_str[p]:\n",
    "            a15+=1\n",
    "        \n",
    "        if find_pattern[15] == c_str[p]:\n",
    "            a16+=1\n",
    "        \n",
    "        if find_pattern[16] == c_str[p]:\n",
    "            a17+=1\n",
    "            \n",
    "        if find_pattern[17] == c_str[p]:\n",
    "            a18+=1\n",
    "            \n",
    "        if find_pattern[18] == c_str[p]:\n",
    "            a19+=1\n",
    "            \n",
    "        if find_pattern[10] == c_str[p]:\n",
    "            a20+=1\n",
    "        \n",
    "    return a1,a2,a3,a4,a5,a6,a7,a8,a9,a10,a11,a12,a13,a14,a15,a16,a17,a18,a19,a20"
   ]
  },
  {
   "cell_type": "code",
   "execution_count": 115,
   "id": "86784cd1",
   "metadata": {},
   "outputs": [
    {
     "data": {
      "text/plain": [
       "(361, 81, 43, 22, 16, 10, 4, 2, 0, 4, 0, 3, 1, 0, 0, 2, 0, 0, 0, 0)"
      ]
     },
     "execution_count": 115,
     "metadata": {},
     "output_type": "execute_result"
    }
   ],
   "source": [
    "result = cals(year_1889,year_1890, year_1891, year_1892, year_1893,year_1894, year_1895, \n",
    "              year_1896, year_1897, year_1898,year_1899,year_1900, year_1901, \n",
    "              year_1902, year_1903, year_1904, year_1905, year_1906, year_1907,\n",
    "              year_1908, year_1909, year_1910, year_1911, \n",
    "              year_1912, year_1913, year_1914, \n",
    "              year_1915, year_1916)\n",
    "result"
   ]
  },
  {
   "cell_type": "code",
   "execution_count": null,
   "id": "18757c0c",
   "metadata": {},
   "outputs": [],
   "source": []
  }
 ],
 "metadata": {
  "kernelspec": {
   "display_name": "Python 3 (ipykernel)",
   "language": "python",
   "name": "python3"
  },
  "language_info": {
   "codemirror_mode": {
    "name": "ipython",
    "version": 3
   },
   "file_extension": ".py",
   "mimetype": "text/x-python",
   "name": "python",
   "nbconvert_exporter": "python",
   "pygments_lexer": "ipython3",
   "version": "3.8.11"
  }
 },
 "nbformat": 4,
 "nbformat_minor": 5
}
