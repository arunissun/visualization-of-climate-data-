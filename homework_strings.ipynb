{
 "cells": [
  {
   "cell_type": "code",
   "execution_count": 89,
   "id": "0b1e1072",
   "metadata": {},
   "outputs": [],
   "source": [
    "from itertools import cycle\n",
    "from collections import Counter\n",
    "import numpy as np"
   ]
  },
  {
   "cell_type": "code",
   "execution_count": 122,
   "id": "ae6bdb5b",
   "metadata": {},
   "outputs": [],
   "source": [
    "fruits = [\"orange\",\"apple\",\"banana\",\"strawberry\",\"kiwi\"]\n",
    "desks = [\"A\",\"B\",\"C\"]"
   ]
  },
  {
   "cell_type": "code",
   "execution_count": 112,
   "id": "0283907f",
   "metadata": {},
   "outputs": [],
   "source": [
    "every_third_char = \"\".join(fruits)[2::3]\n"
   ]
  },
  {
   "cell_type": "code",
   "execution_count": 113,
   "id": "5b3b1aab",
   "metadata": {},
   "outputs": [
    {
     "data": {
      "text/plain": [
       "'aepbasaeyw'"
      ]
     },
     "execution_count": 113,
     "metadata": {},
     "output_type": "execute_result"
    }
   ],
   "source": [
    "every_third_char"
   ]
  },
  {
   "cell_type": "code",
   "execution_count": 114,
   "id": "2ea270aa",
   "metadata": {},
   "outputs": [
    {
     "data": {
      "text/plain": [
       "'oabsk'"
      ]
     },
     "execution_count": 114,
     "metadata": {},
     "output_type": "execute_result"
    }
   ],
   "source": [
    "x = \"\"\n",
    "for i in range(len(fruits)): \n",
    "    x +=  \"\".join(fruits[i][0])\n",
    "    \n",
    "x"
   ]
  },
  {
   "cell_type": "code",
   "execution_count": 115,
   "id": "49625523",
   "metadata": {},
   "outputs": [
    {
     "data": {
      "text/plain": [
       "'obask'"
      ]
     },
     "execution_count": 115,
     "metadata": {},
     "output_type": "execute_result"
    }
   ],
   "source": [
    "res = sorted(fruits, key = lambda x: x.split()[0][2])\n",
    "y = \"\"\n",
    "for i in range(len(res)): \n",
    "    y +=  \"\".join(res[i][0])\n",
    "    \n",
    "y"
   ]
  },
  {
   "cell_type": "code",
   "execution_count": 116,
   "id": "4e4d0066",
   "metadata": {},
   "outputs": [
    {
     "data": {
      "text/plain": [
       "'skoab'"
      ]
     },
     "execution_count": 116,
     "metadata": {},
     "output_type": "execute_result"
    }
   ],
   "source": [
    "res = sorted(fruits , key = lambda x : x.split()[0][-1], reverse= True)\n",
    "y = \"\"\n",
    "for i in range(len(res)): \n",
    "    y +=  \"\".join(res[i][0])\n",
    "    \n",
    "y\n",
    "\n"
   ]
  },
  {
   "cell_type": "code",
   "execution_count": 123,
   "id": "f3facbc2",
   "metadata": {},
   "outputs": [
    {
     "name": "stdout",
     "output_type": "stream",
     "text": [
      "['A_orange', 'B_apple', 'C_banana', 'A_strawberry', 'B_kiwi']\n"
     ]
    }
   ],
   "source": [
    "nl = []\n",
    "for i , fruit in enumerate(fruits):\n",
    "    if i%len(desks) ==0:\n",
    "        nl.append(f'{desks[0]}_{fruit}')\n",
    "        \n",
    "    elif i%len(desks) ==1:\n",
    "        nl.append(f'{desks[1]}_{fruit}')\n",
    "    elif i%len(desks) ==2:\n",
    "        nl.append(f'{desks[2]}_{fruit}')\n",
    "\n",
    "        \n",
    "print(nl)"
   ]
  },
  {
   "cell_type": "code",
   "execution_count": 25,
   "id": "753745f7",
   "metadata": {},
   "outputs": [
    {
     "data": {
      "text/plain": [
       "[0, 2]"
      ]
     },
     "execution_count": 25,
     "metadata": {},
     "output_type": "execute_result"
    }
   ],
   "source": [
    "ll = [[0,1,2], [3,4,5], [6,7,8]]\n",
    "ll[0][0::2]"
   ]
  },
  {
   "cell_type": "code",
   "execution_count": 26,
   "id": "71d7d4c0",
   "metadata": {},
   "outputs": [
    {
     "data": {
      "text/plain": [
       "[6, 8]"
      ]
     },
     "execution_count": 26,
     "metadata": {},
     "output_type": "execute_result"
    }
   ],
   "source": [
    "ll[1:][1][0::2]"
   ]
  },
  {
   "cell_type": "code",
   "execution_count": 29,
   "id": "ee51075e",
   "metadata": {},
   "outputs": [],
   "source": [
    "a = np.array(ll)"
   ]
  },
  {
   "cell_type": "code",
   "execution_count": 30,
   "id": "2d56490c",
   "metadata": {},
   "outputs": [
    {
     "data": {
      "text/plain": [
       "array([4, 7])"
      ]
     },
     "execution_count": 30,
     "metadata": {},
     "output_type": "execute_result"
    }
   ],
   "source": [
    "a[1:, 1]"
   ]
  },
  {
   "cell_type": "code",
   "execution_count": 33,
   "id": "5024c827",
   "metadata": {},
   "outputs": [
    {
     "data": {
      "text/plain": [
       "array([2, 5, 8])"
      ]
     },
     "execution_count": 33,
     "metadata": {},
     "output_type": "execute_result"
    }
   ],
   "source": [
    "a[:,2]"
   ]
  },
  {
   "cell_type": "code",
   "execution_count": 35,
   "id": "77751a9e",
   "metadata": {},
   "outputs": [
    {
     "data": {
      "text/plain": [
       "array([[3, 4],\n",
       "       [6, 7]])"
      ]
     },
     "execution_count": 35,
     "metadata": {},
     "output_type": "execute_result"
    }
   ],
   "source": [
    "a[1:,:2]"
   ]
  },
  {
   "cell_type": "code",
   "execution_count": 39,
   "id": "7bd40416",
   "metadata": {},
   "outputs": [
    {
     "data": {
      "text/plain": [
       "array([[ 0,  1,  2,  3,  4],\n",
       "       [ 5,  6,  7,  8,  9],\n",
       "       [10, 11, 12, 13, 14],\n",
       "       [15, 16, 17, 18, 19],\n",
       "       [20, 21, 22, 23, 24]])"
      ]
     },
     "execution_count": 39,
     "metadata": {},
     "output_type": "execute_result"
    }
   ],
   "source": [
    "np.arange(25).reshape((5,5))  "
   ]
  },
  {
   "cell_type": "code",
   "execution_count": 40,
   "id": "3cc555a2",
   "metadata": {},
   "outputs": [
    {
     "data": {
      "text/plain": [
       "array([ 20.        ,  22.75862069,  25.51724138,  28.27586207,\n",
       "        31.03448276,  33.79310345,  36.55172414,  39.31034483,\n",
       "        42.06896552,  44.82758621,  47.5862069 ,  50.34482759,\n",
       "        53.10344828,  55.86206897,  58.62068966,  61.37931034,\n",
       "        64.13793103,  66.89655172,  69.65517241,  72.4137931 ,\n",
       "        75.17241379,  77.93103448,  80.68965517,  83.44827586,\n",
       "        86.20689655,  88.96551724,  91.72413793,  94.48275862,\n",
       "        97.24137931, 100.        ])"
      ]
     },
     "execution_count": 40,
     "metadata": {},
     "output_type": "execute_result"
    }
   ],
   "source": [
    "np.linspace(20,100,30)# here 30 means 30 elements"
   ]
  },
  {
   "cell_type": "code",
   "execution_count": 41,
   "id": "0239a247",
   "metadata": {},
   "outputs": [
    {
     "data": {
      "text/plain": [
       "array([ 0, 30, 60, 90])"
      ]
     },
     "execution_count": 41,
     "metadata": {},
     "output_type": "execute_result"
    }
   ],
   "source": [
    "np.arange(0,100,30) # here 30 means step is 30 "
   ]
  },
  {
   "cell_type": "code",
   "execution_count": 42,
   "id": "ac3ae788",
   "metadata": {},
   "outputs": [
    {
     "data": {
      "text/plain": [
       "array([1.e+001, 1.e+034, 1.e+067, 1.e+100])"
      ]
     },
     "execution_count": 42,
     "metadata": {},
     "output_type": "execute_result"
    }
   ],
   "source": [
    "np.logspace(1,100,4)# gives 4 log elements betwenn 1 and 100"
   ]
  },
  {
   "cell_type": "code",
   "execution_count": 126,
   "id": "2f638ee7",
   "metadata": {},
   "outputs": [],
   "source": [
    "import csv\n",
    "\n",
    "a = np.arange(9).reshape((3,3))\n",
    "\n",
    "with open('/Users/varungandhi/Downloads/myfile.csv', 'w', newline='') as file:\n",
    "    mywriter = csv.writer(file, delimiter=',')\n",
    "    mywriter.writerows(a)\n",
    "    \n",
    "    \n",
    "    \n"
   ]
  },
  {
   "cell_type": "code",
   "execution_count": 137,
   "id": "6e52e5ec",
   "metadata": {},
   "outputs": [
    {
     "name": "stdout",
     "output_type": "stream",
     "text": [
      "0 [0 1 2]\n",
      "0 0\n",
      "1 1\n",
      "2 2\n",
      "1 [3 4 5]\n",
      "0 3\n",
      "1 4\n",
      "2 5\n",
      "2 [6 7 8]\n",
      "0 6\n",
      "1 7\n",
      "2 8\n"
     ]
    }
   ],
   "source": [
    "with open('/Users/varungandhi/Downloads/example.csv', 'w') as fp:\n",
    "    \n",
    "    for i,row in enumerate(a):\n",
    "        print(i,row)\n",
    "        for j,val in enumerate(row):\n",
    "            print(j,val)\n",
    "            if j!= 2:\n",
    "                fp.write(str(val) + \",\")\n",
    "            else:\n",
    "                fp.write(str(val) + \"\\n\")"
   ]
  },
  {
   "cell_type": "code",
   "execution_count": null,
   "id": "6e42c4fd",
   "metadata": {},
   "outputs": [],
   "source": []
  }
 ],
 "metadata": {
  "kernelspec": {
   "display_name": "Python 3 (ipykernel)",
   "language": "python",
   "name": "python3"
  },
  "language_info": {
   "codemirror_mode": {
    "name": "ipython",
    "version": 3
   },
   "file_extension": ".py",
   "mimetype": "text/x-python",
   "name": "python",
   "nbconvert_exporter": "python",
   "pygments_lexer": "ipython3",
   "version": "3.8.11"
  }
 },
 "nbformat": 4,
 "nbformat_minor": 5
}
