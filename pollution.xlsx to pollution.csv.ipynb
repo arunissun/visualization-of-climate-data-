{
 "cells": [
  {
   "cell_type": "code",
   "execution_count": 16,
   "id": "5c6b4bb6",
   "metadata": {},
   "outputs": [],
   "source": [
    "import pandas as pd\n",
    "import numpy as np\n",
    "pl = pd.read_excel('/Users/varungandhi/Downloads/pol.xlsx')\n",
    "            \n",
    "def bob():\n",
    "    an = []\n",
    "    for i in range(1,len(pl.columns[1:])+1):\n",
    "        \n",
    "        \n",
    "        arr = pl.iloc[:,i].values\n",
    "        an.append(arr)\n",
    "       \n",
    "    for j in range(len(an)):\n",
    "        for k in range(len(an[j])):\n",
    "            if type(an[j][k]) ==str:\n",
    "                if an[j][k] != ' ':\n",
    "                    an[j][k] = float(an[j][k][:-5].replace(',', '.'))\n",
    "    for i in range(len(an)):\n",
    "        an[i] = an[i].reshape(an[i].shape[0],1)\n",
    "            \n",
    "    return an\n",
    "                \n",
    "x = bob()\n",
    "df = pd.DataFrame(np.hstack((x[0],x[1],x[2],x[3],x[4],x[5],x[6],x[7],x[8])), \n",
    "                  columns=[i for i in pl.columns[1:]])\n",
    "df['TIMESTAMP'] = pl['Dátum']"
   ]
  },
  {
   "cell_type": "code",
   "execution_count": 17,
   "id": "bf24fd42",
   "metadata": {},
   "outputs": [],
   "source": [
    "df.to_excel('/Users/varungandhi/Desktop/data_1/pollution.xlsx')"
   ]
  },
  {
   "cell_type": "code",
   "execution_count": null,
   "id": "abc2398c",
   "metadata": {},
   "outputs": [],
   "source": []
  },
  {
   "cell_type": "code",
   "execution_count": null,
   "id": "99cb7dbf",
   "metadata": {},
   "outputs": [],
   "source": []
  }
 ],
 "metadata": {
  "kernelspec": {
   "display_name": "Python [conda env:icclim]",
   "language": "python",
   "name": "conda-env-icclim-py"
  },
  "language_info": {
   "codemirror_mode": {
    "name": "ipython",
    "version": 3
   },
   "file_extension": ".py",
   "mimetype": "text/x-python",
   "name": "python",
   "nbconvert_exporter": "python",
   "pygments_lexer": "ipython3",
   "version": "3.8.12"
  }
 },
 "nbformat": 4,
 "nbformat_minor": 5
}
