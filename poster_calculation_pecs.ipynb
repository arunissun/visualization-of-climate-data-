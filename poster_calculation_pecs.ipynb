{
 "cells": [
  {
   "cell_type": "code",
   "execution_count": 120,
   "id": "53078440",
   "metadata": {},
   "outputs": [],
   "source": [
    "\n",
    "import pandas as pd\n",
    "import numpy as np\n",
    "\n",
    "def read_data(path):\n",
    "    \n",
    "    df = pd.read_excel(path, sheet_name='Pecs')\n",
    "    return df\n",
    "\n",
    "df = read_data('/Volumes/Seagate Backup Plus Drive/historical/1900 - 1919/1916.xlsx')"
   ]
  },
  {
   "cell_type": "code",
   "execution_count": 121,
   "id": "19e71b41",
   "metadata": {},
   "outputs": [],
   "source": [
    "df1 = df.iloc[3:34, 2:5]\n",
    "df2 = df.iloc[3:31, 9:12]\n",
    "df3 = df.iloc[3:34,15:18]\n",
    "df4 = df.iloc[48:78,2:5]\n",
    "df5 = df.iloc[48:79, 9:12]\n",
    "df6 = df.iloc[48:78,15:18]\n",
    "df7 = df.iloc[93:124,2:5]\n",
    "df8 = df.iloc[93:124,9:12]\n",
    "df9 = df.iloc[93:123,15:18]\n",
    "df10 = df.iloc[138:169,2:5]\n",
    "df11 = df.iloc[138:168,9:12]\n",
    "df12 = df.iloc[138:169,15:18]\n",
    "#df7"
   ]
  },
  {
   "cell_type": "code",
   "execution_count": 122,
   "id": "a5484439",
   "metadata": {},
   "outputs": [],
   "source": [
    "def cal(df_1,df_2,df_3, df_4, df_5, df_6, df_7, df_8, df_9, df_10,df_11, df_12):\n",
    "    \n",
    "    array_1 = df_1.to_numpy(dtype = int)\n",
    "    array_2 = df_2.to_numpy(dtype= int)\n",
    "    array_3 = df_3.to_numpy(dtype= int)\n",
    "    array_4 = df_4.to_numpy(dtype= int)\n",
    "    array_5 = df_5.to_numpy(dtype= int)\n",
    "    array_6 = df_6.to_numpy(dtype= int)\n",
    "    array_7 = df_7.to_numpy(dtype= int)\n",
    "    array_8 = df_8.to_numpy(dtype= int)\n",
    "    array_9 = df_9.to_numpy(dtype= int)\n",
    "    array_10 = df_10.to_numpy(dtype= int)\n",
    "    array_11 = df_11.to_numpy(dtype= int)\n",
    "    array_12= df_12.to_numpy(dtype= int)\n",
    "    \n",
    "    #final_array = np.concatenate((array_1, array_2), axis = 0)\n",
    "    \n",
    "    final_array = np.concatenate((array_1, array_2, array_3,array_4, array_5,array_6,array_7, array_8, array_9, array_10, array_11, array_12), axis = 0)\n",
    "    return final_array"
   ]
  },
  {
   "cell_type": "code",
   "execution_count": 6,
   "id": "d9f01b44",
   "metadata": {},
   "outputs": [
    {
     "data": {
      "text/plain": [
       "array([[0, 0, 0],\n",
       "       [0, 0, 0],\n",
       "       [0, 0, 0],\n",
       "       ...,\n",
       "       [0, 0, 0],\n",
       "       [0, 0, 0],\n",
       "       [0, 0, 0]])"
      ]
     },
     "execution_count": 6,
     "metadata": {},
     "output_type": "execute_result"
    }
   ],
   "source": [
    "year_1890 = cal(df1,df2,df3,df4,df5,df6,df7,df8,df9,df10,df11,df12)\n",
    "year_1890"
   ]
  },
  {
   "cell_type": "code",
   "execution_count": 10,
   "id": "799a9284",
   "metadata": {},
   "outputs": [
    {
     "data": {
      "text/plain": [
       "array([[0, 0, 0],\n",
       "       [0, 0, 0],\n",
       "       [0, 0, 0],\n",
       "       ...,\n",
       "       [0, 1, 1],\n",
       "       [0, 0, 0],\n",
       "       [0, 0, 0]])"
      ]
     },
     "execution_count": 10,
     "metadata": {},
     "output_type": "execute_result"
    }
   ],
   "source": [
    "year_1891 = cal(df1,df2,df3,df4,df5,df6,df7,df8,df9,df10,df11,df12)\n",
    "year_1891"
   ]
  },
  {
   "cell_type": "code",
   "execution_count": 14,
   "id": "d3de33dc",
   "metadata": {},
   "outputs": [
    {
     "data": {
      "text/plain": [
       "array([[0, 0, 0],\n",
       "       [0, 0, 0],\n",
       "       [0, 0, 0],\n",
       "       ...,\n",
       "       [0, 0, 0],\n",
       "       [0, 1, 1],\n",
       "       [1, 1, 1]])"
      ]
     },
     "execution_count": 14,
     "metadata": {},
     "output_type": "execute_result"
    }
   ],
   "source": [
    "year_1892 = cal(df1,df2,df3,df4,df5,df6,df7,df8,df9,df10,df11,df12)\n",
    "year_1892"
   ]
  },
  {
   "cell_type": "code",
   "execution_count": 18,
   "id": "bde649be",
   "metadata": {},
   "outputs": [
    {
     "data": {
      "text/plain": [
       "array([[0, 0, 0],\n",
       "       [0, 0, 0],\n",
       "       [0, 0, 0],\n",
       "       ...,\n",
       "       [0, 0, 0],\n",
       "       [0, 0, 0],\n",
       "       [0, 0, 0]])"
      ]
     },
     "execution_count": 18,
     "metadata": {},
     "output_type": "execute_result"
    }
   ],
   "source": [
    "year_1893 = cal(df1,df2,df3,df4,df5,df6,df7,df8,df9,df10,df11,df12)\n",
    "year_1893"
   ]
  },
  {
   "cell_type": "code",
   "execution_count": 22,
   "id": "45ac2441",
   "metadata": {},
   "outputs": [
    {
     "data": {
      "text/plain": [
       "array([[0, 0, 0],\n",
       "       [0, 0, 0],\n",
       "       [0, 0, 0],\n",
       "       ...,\n",
       "       [0, 1, 0],\n",
       "       [0, 0, 0],\n",
       "       [0, 0, 0]])"
      ]
     },
     "execution_count": 22,
     "metadata": {},
     "output_type": "execute_result"
    }
   ],
   "source": [
    "year_1894 = cal(df1,df2,df3,df4,df5,df6,df7,df8,df9,df10,df11,df12)\n",
    "year_1894"
   ]
  },
  {
   "cell_type": "code",
   "execution_count": 26,
   "id": "1ddcde42",
   "metadata": {},
   "outputs": [
    {
     "data": {
      "text/plain": [
       "array([[0, 0, 0],\n",
       "       [0, 0, 0],\n",
       "       [0, 0, 0],\n",
       "       ...,\n",
       "       [0, 0, 0],\n",
       "       [0, 0, 0],\n",
       "       [0, 0, 0]])"
      ]
     },
     "execution_count": 26,
     "metadata": {},
     "output_type": "execute_result"
    }
   ],
   "source": [
    "year_1895 = cal(df1,df2,df3,df4,df5,df6,df7,df8,df9,df10,df11,df12)\n",
    "year_1895"
   ]
  },
  {
   "cell_type": "code",
   "execution_count": 30,
   "id": "1ffc7e76",
   "metadata": {},
   "outputs": [
    {
     "data": {
      "text/plain": [
       "array([[0, 0, 0],\n",
       "       [0, 0, 0],\n",
       "       [0, 0, 0],\n",
       "       ...,\n",
       "       [0, 0, 0],\n",
       "       [0, 0, 0],\n",
       "       [0, 0, 0]])"
      ]
     },
     "execution_count": 30,
     "metadata": {},
     "output_type": "execute_result"
    }
   ],
   "source": [
    "year_1896 = cal(df1,df2,df3,df4,df5,df6,df7,df8,df9,df10,df11,df12)\n",
    "year_1896"
   ]
  },
  {
   "cell_type": "code",
   "execution_count": 34,
   "id": "9c3613f8",
   "metadata": {},
   "outputs": [
    {
     "data": {
      "text/plain": [
       "array([[0, 0, 0],\n",
       "       [1, 0, 0],\n",
       "       [0, 0, 0],\n",
       "       ...,\n",
       "       [1, 1, 1],\n",
       "       [1, 1, 1],\n",
       "       [1, 0, 0]])"
      ]
     },
     "execution_count": 34,
     "metadata": {},
     "output_type": "execute_result"
    }
   ],
   "source": [
    "year_1897 = cal(df1,df2,df3,df4,df5,df6,df7,df8,df9,df10,df11,df12)\n",
    "year_1897"
   ]
  },
  {
   "cell_type": "code",
   "execution_count": 38,
   "id": "13baa94d",
   "metadata": {},
   "outputs": [
    {
     "data": {
      "text/plain": [
       "array([[0, 0, 0],\n",
       "       [0, 0, 0],\n",
       "       [0, 0, 0],\n",
       "       ...,\n",
       "       [0, 0, 0],\n",
       "       [0, 0, 0],\n",
       "       [0, 0, 0]])"
      ]
     },
     "execution_count": 38,
     "metadata": {},
     "output_type": "execute_result"
    }
   ],
   "source": [
    "year_1898 = cal(df1,df2,df3,df4,df5,df6,df7,df8,df9,df10,df11,df12)\n",
    "year_1898"
   ]
  },
  {
   "cell_type": "code",
   "execution_count": 42,
   "id": "b7c79608",
   "metadata": {},
   "outputs": [
    {
     "data": {
      "text/plain": [
       "array([[1, 0, 0],\n",
       "       [0, 0, 0],\n",
       "       [0, 0, 0],\n",
       "       ...,\n",
       "       [0, 0, 0],\n",
       "       [0, 0, 0],\n",
       "       [0, 0, 0]])"
      ]
     },
     "execution_count": 42,
     "metadata": {},
     "output_type": "execute_result"
    }
   ],
   "source": [
    "year_1899 = cal(df1,df2,df3,df4,df5,df6,df7,df8,df9,df10,df11,df12)\n",
    "year_1899"
   ]
  },
  {
   "cell_type": "code",
   "execution_count": 46,
   "id": "4e8c0836",
   "metadata": {},
   "outputs": [
    {
     "data": {
      "text/plain": [
       "array([[0, 0, 0],\n",
       "       [0, 0, 0],\n",
       "       [0, 0, 0],\n",
       "       ...,\n",
       "       [0, 0, 0],\n",
       "       [0, 0, 0],\n",
       "       [0, 0, 0]])"
      ]
     },
     "execution_count": 46,
     "metadata": {},
     "output_type": "execute_result"
    }
   ],
   "source": [
    "year_1900 = cal(df1,df2,df3,df4,df5,df6,df7,df8,df9,df10,df11,df12)\n",
    "year_1900"
   ]
  },
  {
   "cell_type": "code",
   "execution_count": 50,
   "id": "f68cc656",
   "metadata": {},
   "outputs": [
    {
     "data": {
      "text/plain": [
       "array([[0, 0, 0],\n",
       "       [0, 0, 0],\n",
       "       [0, 0, 0],\n",
       "       ...,\n",
       "       [1, 1, 1],\n",
       "       [1, 1, 1],\n",
       "       [1, 1, 1]])"
      ]
     },
     "execution_count": 50,
     "metadata": {},
     "output_type": "execute_result"
    }
   ],
   "source": [
    "year_1901 = cal(df1,df2,df3,df4,df5,df6,df7,df8,df9,df10,df11,df12)\n",
    "year_1901"
   ]
  },
  {
   "cell_type": "code",
   "execution_count": 54,
   "id": "523edcd0",
   "metadata": {},
   "outputs": [
    {
     "data": {
      "text/plain": [
       "array([[0, 0, 0],\n",
       "       [1, 0, 0],\n",
       "       [0, 0, 0],\n",
       "       ...,\n",
       "       [0, 0, 0],\n",
       "       [0, 0, 0],\n",
       "       [0, 0, 0]])"
      ]
     },
     "execution_count": 54,
     "metadata": {},
     "output_type": "execute_result"
    }
   ],
   "source": [
    "year_1902 = cal(df1,df2,df3,df4,df5,df6,df7,df8,df9,df10,df11,df12)\n",
    "year_1902"
   ]
  },
  {
   "cell_type": "code",
   "execution_count": 62,
   "id": "012209ee",
   "metadata": {},
   "outputs": [
    {
     "data": {
      "text/plain": [
       "array([[0, 0, 0],\n",
       "       [0, 0, 0],\n",
       "       [0, 0, 0],\n",
       "       ...,\n",
       "       [0, 0, 0],\n",
       "       [1, 0, 0],\n",
       "       [0, 0, 0]])"
      ]
     },
     "execution_count": 62,
     "metadata": {},
     "output_type": "execute_result"
    }
   ],
   "source": [
    "year_1903 = cal(df1,df2,df3,df4,df5,df6,df7,df8,df9,df10,df11,df12)\n",
    "year_1903"
   ]
  },
  {
   "cell_type": "code",
   "execution_count": 71,
   "id": "19700c67",
   "metadata": {},
   "outputs": [
    {
     "data": {
      "text/plain": [
       "array([[0, 0, 0],\n",
       "       [1, 1, 1],\n",
       "       [1, 0, 0],\n",
       "       ...,\n",
       "       [0, 0, 0],\n",
       "       [0, 0, 0],\n",
       "       [0, 0, 0]])"
      ]
     },
     "execution_count": 71,
     "metadata": {},
     "output_type": "execute_result"
    }
   ],
   "source": [
    "year_1904 = cal(df1,df2,df3,df4,df5,df6,df7,df8,df9,df10,df11,df12)\n",
    "year_1904"
   ]
  },
  {
   "cell_type": "code",
   "execution_count": 75,
   "id": "06ff755c",
   "metadata": {},
   "outputs": [
    {
     "data": {
      "text/plain": [
       "array([[0, 0, 0],\n",
       "       [0, 0, 0],\n",
       "       [0, 0, 0],\n",
       "       ...,\n",
       "       [1, 1, 1],\n",
       "       [1, 0, 0],\n",
       "       [0, 0, 0]])"
      ]
     },
     "execution_count": 75,
     "metadata": {},
     "output_type": "execute_result"
    }
   ],
   "source": [
    "year_1905 = cal(df1,df2,df3,df4,df5,df6,df7,df8,df9,df10,df11,df12)\n",
    "year_1905"
   ]
  },
  {
   "cell_type": "code",
   "execution_count": 79,
   "id": "fcb5e65c",
   "metadata": {},
   "outputs": [
    {
     "data": {
      "text/plain": [
       "array([[0, 0, 0],\n",
       "       [0, 0, 0],\n",
       "       [0, 0, 0],\n",
       "       ...,\n",
       "       [0, 0, 0],\n",
       "       [0, 0, 0],\n",
       "       [0, 0, 0]])"
      ]
     },
     "execution_count": 79,
     "metadata": {},
     "output_type": "execute_result"
    }
   ],
   "source": [
    "year_1906 = cal(df1,df2,df3,df4,df5,df6,df7,df8,df9,df10,df11,df12)\n",
    "year_1906"
   ]
  },
  {
   "cell_type": "code",
   "execution_count": 84,
   "id": "9460b734",
   "metadata": {},
   "outputs": [
    {
     "data": {
      "text/plain": [
       "array([[0, 0, 0],\n",
       "       [0, 0, 0],\n",
       "       [0, 0, 0],\n",
       "       ...,\n",
       "       [0, 0, 0],\n",
       "       [1, 1, 1],\n",
       "       [0, 0, 0]])"
      ]
     },
     "execution_count": 84,
     "metadata": {},
     "output_type": "execute_result"
    }
   ],
   "source": [
    "year_1907 = cal(df1,df2,df3,df4,df5,df6,df7,df8,df9,df10,df11,df12)\n",
    "year_1907"
   ]
  },
  {
   "cell_type": "code",
   "execution_count": 88,
   "id": "60c29c11",
   "metadata": {},
   "outputs": [
    {
     "data": {
      "text/plain": [
       "array([[1, 1, 0],\n",
       "       [0, 0, 0],\n",
       "       [0, 0, 0],\n",
       "       ...,\n",
       "       [0, 0, 0],\n",
       "       [0, 0, 0],\n",
       "       [0, 0, 0]])"
      ]
     },
     "execution_count": 88,
     "metadata": {},
     "output_type": "execute_result"
    }
   ],
   "source": [
    "year_1908 = cal(df1,df2,df3,df4,df5,df6,df7,df8,df9,df10,df11,df12)\n",
    "year_1908"
   ]
  },
  {
   "cell_type": "code",
   "execution_count": 92,
   "id": "5509a352",
   "metadata": {},
   "outputs": [
    {
     "data": {
      "text/plain": [
       "array([[0, 0, 0],\n",
       "       [0, 0, 0],\n",
       "       [0, 0, 0],\n",
       "       ...,\n",
       "       [0, 0, 0],\n",
       "       [0, 0, 0],\n",
       "       [0, 0, 0]])"
      ]
     },
     "execution_count": 92,
     "metadata": {},
     "output_type": "execute_result"
    }
   ],
   "source": [
    "year_1909 = cal(df1,df2,df3,df4,df5,df6,df7,df8,df9,df10,df11,df12)\n",
    "year_1909"
   ]
  },
  {
   "cell_type": "code",
   "execution_count": 96,
   "id": "d80e9598",
   "metadata": {},
   "outputs": [
    {
     "data": {
      "text/plain": [
       "array([[0, 0, 0],\n",
       "       [0, 0, 0],\n",
       "       [0, 0, 0],\n",
       "       ...,\n",
       "       [0, 0, 0],\n",
       "       [0, 0, 0],\n",
       "       [0, 0, 0]])"
      ]
     },
     "execution_count": 96,
     "metadata": {},
     "output_type": "execute_result"
    }
   ],
   "source": [
    "year_1910 = cal(df1,df2,df3,df4,df5,df6,df7,df8,df9,df10,df11,df12)\n",
    "year_1910"
   ]
  },
  {
   "cell_type": "code",
   "execution_count": 103,
   "id": "74b3d5ab",
   "metadata": {},
   "outputs": [
    {
     "data": {
      "text/plain": [
       "array([[0, 0, 0],\n",
       "       [0, 0, 0],\n",
       "       [0, 0, 0],\n",
       "       ...,\n",
       "       [0, 0, 0],\n",
       "       [0, 0, 0],\n",
       "       [0, 0, 0]])"
      ]
     },
     "execution_count": 103,
     "metadata": {},
     "output_type": "execute_result"
    }
   ],
   "source": [
    "year_1911 = cal(df1,df2,df3,df4,df5,df6,df7,df8,df9,df10,df11,df12)\n",
    "year_1911"
   ]
  },
  {
   "cell_type": "code",
   "execution_count": 107,
   "id": "6a640101",
   "metadata": {},
   "outputs": [
    {
     "data": {
      "text/plain": [
       "array([[0, 0, 0],\n",
       "       [0, 0, 0],\n",
       "       [0, 0, 1],\n",
       "       ...,\n",
       "       [0, 0, 0],\n",
       "       [0, 1, 0],\n",
       "       [1, 0, 0]])"
      ]
     },
     "execution_count": 107,
     "metadata": {},
     "output_type": "execute_result"
    }
   ],
   "source": [
    "year_1912 = cal(df1,df2,df3,df4,df5,df6,df7,df8,df9,df10,df11,df12)\n",
    "year_1912"
   ]
  },
  {
   "cell_type": "code",
   "execution_count": 111,
   "id": "514e271e",
   "metadata": {},
   "outputs": [
    {
     "data": {
      "text/plain": [
       "array([[0, 1, 1],\n",
       "       [1, 1, 0],\n",
       "       [0, 1, 1],\n",
       "       ...,\n",
       "       [0, 0, 0],\n",
       "       [0, 0, 0],\n",
       "       [0, 0, 0]])"
      ]
     },
     "execution_count": 111,
     "metadata": {},
     "output_type": "execute_result"
    }
   ],
   "source": [
    "year_1913 = cal(df1,df2,df3,df4,df5,df6,df7,df8,df9,df10,df11,df12)\n",
    "year_1913"
   ]
  },
  {
   "cell_type": "code",
   "execution_count": 115,
   "id": "849d47bc",
   "metadata": {},
   "outputs": [
    {
     "data": {
      "text/plain": [
       "array([[0, 0, 0],\n",
       "       [0, 0, 0],\n",
       "       [0, 0, 0],\n",
       "       ...,\n",
       "       [0, 0, 0],\n",
       "       [0, 0, 0],\n",
       "       [0, 0, 0]])"
      ]
     },
     "execution_count": 115,
     "metadata": {},
     "output_type": "execute_result"
    }
   ],
   "source": [
    "year_1914 = cal(df1,df2,df3,df4,df5,df6,df7,df8,df9,df10,df11,df12)\n",
    "year_1914"
   ]
  },
  {
   "cell_type": "code",
   "execution_count": 119,
   "id": "48795a98",
   "metadata": {},
   "outputs": [
    {
     "data": {
      "text/plain": [
       "array([[0, 0, 0],\n",
       "       [0, 0, 0],\n",
       "       [1, 0, 0],\n",
       "       ...,\n",
       "       [0, 0, 0],\n",
       "       [0, 0, 0],\n",
       "       [0, 0, 0]])"
      ]
     },
     "execution_count": 119,
     "metadata": {},
     "output_type": "execute_result"
    }
   ],
   "source": [
    "year_1915 = cal(df1,df2,df3,df4,df5,df6,df7,df8,df9,df10,df11,df12)\n",
    "year_1915"
   ]
  },
  {
   "cell_type": "code",
   "execution_count": 123,
   "id": "3b6ae0f1",
   "metadata": {},
   "outputs": [
    {
     "data": {
      "text/plain": [
       "array([[0, 1, 0],\n",
       "       [0, 0, 0],\n",
       "       [0, 0, 0],\n",
       "       ...,\n",
       "       [1, 0, 0],\n",
       "       [0, 0, 0],\n",
       "       [0, 0, 0]])"
      ]
     },
     "execution_count": 123,
     "metadata": {},
     "output_type": "execute_result"
    }
   ],
   "source": [
    "year_1916 = cal(df1,df2,df3,df4,df5,df6,df7,df8,df9,df10,df11,df12)\n",
    "year_1916"
   ]
  },
  {
   "cell_type": "code",
   "execution_count": 124,
   "id": "7619ac62",
   "metadata": {},
   "outputs": [],
   "source": [
    "def cals(arr1, arr2, arr3, arr4, arr5, arr6, arr7, arr8, arr9, arr10, arr11, arr12, arr13, arr14, arr15, arr16,\n",
    "         arr17,arr18,arr19,arr20,arr21,arr22,arr23,arr24,arr25,arr26,arr27):\n",
    "    \n",
    "    years_array = np.concatenate((arr1, arr2, arr3, arr4, arr5, arr6, arr7,\n",
    "                                  arr8, arr9, arr10, arr11, arr12, arr13, \n",
    "                                  arr14, arr15, arr16,arr17,arr18,arr19,\n",
    "                                  arr20,arr21,arr22,arr23,arr24,arr25,\n",
    "                                  arr26,arr27), axis = 0)\n",
    "    final_array = years_array.reshape(years_array.shape[0]*years_array.shape[1])\n",
    "    \n",
    "    a_str = ''.join(str(x) for x in final_array)\n",
    "    \n",
    "    c_str = a_str.split('0')\n",
    "    \n",
    "    a1 = 0\n",
    "    a2 = 0\n",
    "    a3 = 0\n",
    "    a4 = 0\n",
    "    a5 = 0\n",
    "    a6 = 0\n",
    "    a7 = 0\n",
    "    a8 = 0\n",
    "    a9 = 0\n",
    "    a10 = 0\n",
    "    a11 = 0\n",
    "    a12 = 0\n",
    "    a13 = 0\n",
    "    a14 = 0\n",
    "    a15 = 0\n",
    "    a16 = 0\n",
    "    a17 = 0\n",
    "    a18 = 0\n",
    "    a19 = 0\n",
    "    a20 = 0\n",
    "    \n",
    "    find_pattern = ['1', '11', '111', '1111','11111', '111111', '1111111', '11111111',\n",
    "                   '111111111', '1111111111', '11111111111', '111111111111', '1111111111111',\n",
    "                   '11111111111111','111111111111111', '1111111111111111', '11111111111111111',\n",
    "                   '111111111111111111', '1111111111111111111', '11111111111111111111']\n",
    "\n",
    "    for p in range(len(c_str)):\n",
    "        if find_pattern[0] == c_str[p]:\n",
    "            a1+=1\n",
    "            \n",
    "        if find_pattern[1] == c_str[p]:\n",
    "            a2+=1\n",
    "            \n",
    "        if find_pattern[2] == c_str[p]:\n",
    "            a3+=1\n",
    "            \n",
    "        if find_pattern[3] == c_str[p]:\n",
    "            a4+=1\n",
    "            \n",
    "        if find_pattern[4] == c_str[p]:\n",
    "            a5+=1\n",
    "            \n",
    "        if find_pattern[5] == c_str[p]:\n",
    "            a6+=1\n",
    "            \n",
    "        if find_pattern[6] == c_str[p]:\n",
    "            a7+=1\n",
    "            \n",
    "        if find_pattern[7] == c_str[p]:\n",
    "            a8+=1\n",
    "            \n",
    "        if find_pattern[8] == c_str[p]:\n",
    "            a9+=1\n",
    "            \n",
    "        if find_pattern[9] == c_str[p]:\n",
    "            a10+=1\n",
    "            \n",
    "        if find_pattern[10] == c_str[p]:\n",
    "            a11+=1\n",
    "            \n",
    "        if find_pattern[11] == c_str[p]:\n",
    "            a12+=1\n",
    "            \n",
    "        if find_pattern[12] == c_str[p]:\n",
    "            a13+=1\n",
    "            \n",
    "        if find_pattern[13] == c_str[p]:\n",
    "            a14+=1\n",
    "            \n",
    "        if find_pattern[14] == c_str[p]:\n",
    "            a15+=1\n",
    "        \n",
    "        if find_pattern[15] == c_str[p]:\n",
    "            a16+=1\n",
    "        \n",
    "        if find_pattern[16] == c_str[p]:\n",
    "            a17+=1\n",
    "            \n",
    "        if find_pattern[17] == c_str[p]:\n",
    "            a18+=1\n",
    "            \n",
    "        if find_pattern[18] == c_str[p]:\n",
    "            a19+=1\n",
    "            \n",
    "        if find_pattern[10] == c_str[p]:\n",
    "            a20+=1\n",
    "        \n",
    "    return a1,a2,a3,a4,a5,a6,a7,a8,a9,a10,a11,a12,a13,a14,a15,a16,a17,a18,a19,a20"
   ]
  },
  {
   "cell_type": "code",
   "execution_count": 125,
   "id": "93d6a6ac",
   "metadata": {},
   "outputs": [
    {
     "data": {
      "text/plain": [
       "(502, 70, 50, 31, 13, 10, 8, 2, 4, 5, 3, 0, 1, 1, 2, 0, 0, 1, 0, 3)"
      ]
     },
     "execution_count": 125,
     "metadata": {},
     "output_type": "execute_result"
    }
   ],
   "source": [
    "result = cals(year_1890, year_1891, year_1892, year_1893,year_1894, year_1895, \n",
    "              year_1896, year_1897, year_1898,year_1899,year_1900, year_1901, \n",
    "              year_1902, year_1903, year_1904, year_1905, year_1906, year_1907,\n",
    "              year_1908, year_1909, year_1910, year_1911, \n",
    "              year_1912, year_1913, year_1914, \n",
    "              year_1915, year_1916)\n",
    "result"
   ]
  },
  {
   "cell_type": "code",
   "execution_count": null,
   "id": "6b588c61",
   "metadata": {},
   "outputs": [],
   "source": []
  }
 ],
 "metadata": {
  "kernelspec": {
   "display_name": "Python 3 (ipykernel)",
   "language": "python",
   "name": "python3"
  },
  "language_info": {
   "codemirror_mode": {
    "name": "ipython",
    "version": 3
   },
   "file_extension": ".py",
   "mimetype": "text/x-python",
   "name": "python",
   "nbconvert_exporter": "python",
   "pygments_lexer": "ipython3",
   "version": "3.8.11"
  }
 },
 "nbformat": 4,
 "nbformat_minor": 5
}
