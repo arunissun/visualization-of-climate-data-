{
 "cells": [
  {
   "cell_type": "code",
   "execution_count": 32,
   "id": "f2729a48",
   "metadata": {},
   "outputs": [],
   "source": [
    "from datetime import datetime, timedelta\n",
    "\n",
    "import numpy as np\n",
    "import pandas as pd\n",
    "import matplotlib.pyplot as plt\n",
    "#import matplotlib.dates as mdates\n",
    "from matplotlib.dates import DayLocator, DateFormatter"
   ]
  },
  {
   "cell_type": "code",
   "execution_count": 2,
   "id": "30239e56",
   "metadata": {},
   "outputs": [
    {
     "data": {
      "text/html": [
       "<div>\n",
       "<style scoped>\n",
       "    .dataframe tbody tr th:only-of-type {\n",
       "        vertical-align: middle;\n",
       "    }\n",
       "\n",
       "    .dataframe tbody tr th {\n",
       "        vertical-align: top;\n",
       "    }\n",
       "\n",
       "    .dataframe thead th {\n",
       "        text-align: right;\n",
       "    }\n",
       "</style>\n",
       "<table border=\"1\" class=\"dataframe\">\n",
       "  <thead>\n",
       "    <tr style=\"text-align: right;\">\n",
       "      <th></th>\n",
       "      <th>index</th>\n",
       "      <th>time</th>\n",
       "      <th>V3</th>\n",
       "      <th>V4</th>\n",
       "      <th>V5</th>\n",
       "      <th>V6</th>\n",
       "      <th>global</th>\n",
       "      <th>reflex</th>\n",
       "      <th>Lupper</th>\n",
       "      <th>Llower</th>\n",
       "      <th>Net_rn</th>\n",
       "    </tr>\n",
       "  </thead>\n",
       "  <tbody>\n",
       "    <tr>\n",
       "      <th>0</th>\n",
       "      <td>0</td>\n",
       "      <td>2020-12-29 15:30:00</td>\n",
       "      <td>41.415000</td>\n",
       "      <td>7.747667</td>\n",
       "      <td>-43.366000</td>\n",
       "      <td>-9.518933</td>\n",
       "      <td>95.668650</td>\n",
       "      <td>20.221410</td>\n",
       "      <td>-64.181680</td>\n",
       "      <td>-14.088021</td>\n",
       "      <td>25.353581</td>\n",
       "    </tr>\n",
       "    <tr>\n",
       "      <th>1</th>\n",
       "      <td>1</td>\n",
       "      <td>2020-12-29 16:00:00</td>\n",
       "      <td>21.593000</td>\n",
       "      <td>3.831300</td>\n",
       "      <td>-54.655000</td>\n",
       "      <td>-11.026800</td>\n",
       "      <td>49.879830</td>\n",
       "      <td>9.999693</td>\n",
       "      <td>-80.889400</td>\n",
       "      <td>-16.319664</td>\n",
       "      <td>-24.689599</td>\n",
       "    </tr>\n",
       "    <tr>\n",
       "      <th>2</th>\n",
       "      <td>2</td>\n",
       "      <td>2020-12-29 16:30:00</td>\n",
       "      <td>2.967267</td>\n",
       "      <td>0.577033</td>\n",
       "      <td>-33.313333</td>\n",
       "      <td>-9.599333</td>\n",
       "      <td>6.854386</td>\n",
       "      <td>1.506057</td>\n",
       "      <td>-49.303733</td>\n",
       "      <td>-14.207013</td>\n",
       "      <td>-29.748391</td>\n",
       "    </tr>\n",
       "    <tr>\n",
       "      <th>3</th>\n",
       "      <td>3</td>\n",
       "      <td>2020-12-29 17:00:00</td>\n",
       "      <td>0.000000</td>\n",
       "      <td>0.000000</td>\n",
       "      <td>-22.724667</td>\n",
       "      <td>-8.870033</td>\n",
       "      <td>0.000000</td>\n",
       "      <td>0.000000</td>\n",
       "      <td>-33.632507</td>\n",
       "      <td>-13.127649</td>\n",
       "      <td>-20.504857</td>\n",
       "    </tr>\n",
       "    <tr>\n",
       "      <th>4</th>\n",
       "      <td>4</td>\n",
       "      <td>2020-12-29 17:30:00</td>\n",
       "      <td>0.000000</td>\n",
       "      <td>0.000000</td>\n",
       "      <td>-25.948667</td>\n",
       "      <td>-8.846333</td>\n",
       "      <td>0.000000</td>\n",
       "      <td>0.000000</td>\n",
       "      <td>-38.404027</td>\n",
       "      <td>-13.092573</td>\n",
       "      <td>-25.311453</td>\n",
       "    </tr>\n",
       "  </tbody>\n",
       "</table>\n",
       "</div>"
      ],
      "text/plain": [
       "   index                 time         V3        V4         V5         V6  \\\n",
       "0      0  2020-12-29 15:30:00  41.415000  7.747667 -43.366000  -9.518933   \n",
       "1      1  2020-12-29 16:00:00  21.593000  3.831300 -54.655000 -11.026800   \n",
       "2      2  2020-12-29 16:30:00   2.967267  0.577033 -33.313333  -9.599333   \n",
       "3      3  2020-12-29 17:00:00   0.000000  0.000000 -22.724667  -8.870033   \n",
       "4      4  2020-12-29 17:30:00   0.000000  0.000000 -25.948667  -8.846333   \n",
       "\n",
       "      global     reflex     Lupper     Llower     Net_rn  \n",
       "0  95.668650  20.221410 -64.181680 -14.088021  25.353581  \n",
       "1  49.879830   9.999693 -80.889400 -16.319664 -24.689599  \n",
       "2   6.854386   1.506057 -49.303733 -14.207013 -29.748391  \n",
       "3   0.000000   0.000000 -33.632507 -13.127649 -20.504857  \n",
       "4   0.000000   0.000000 -38.404027 -13.092573 -25.311453  "
      ]
     },
     "execution_count": 2,
     "metadata": {},
     "output_type": "execute_result"
    }
   ],
   "source": [
    "net_rad = pd.read_csv('/Volumes/Seagate Backup Plus Drive/data_exp1/NetRad_30min.csv')\n",
    "net_rad = net_rad[(net_rad['time'] >= '2020-12-29 15:30:00') & (net_rad['time'] <= '2021-03-31 23:50:00')]\n",
    "net_rad = net_rad.reset_index()\n",
    "net_rad.head()\n"
   ]
  },
  {
   "cell_type": "code",
   "execution_count": 3,
   "id": "34a424cd",
   "metadata": {},
   "outputs": [
    {
     "data": {
      "text/html": [
       "<div>\n",
       "<style scoped>\n",
       "    .dataframe tbody tr th:only-of-type {\n",
       "        vertical-align: middle;\n",
       "    }\n",
       "\n",
       "    .dataframe tbody tr th {\n",
       "        vertical-align: top;\n",
       "    }\n",
       "\n",
       "    .dataframe thead th {\n",
       "        text-align: right;\n",
       "    }\n",
       "</style>\n",
       "<table border=\"1\" class=\"dataframe\">\n",
       "  <thead>\n",
       "    <tr style=\"text-align: right;\">\n",
       "      <th></th>\n",
       "      <th>index</th>\n",
       "      <th>time</th>\n",
       "      <th>V3</th>\n",
       "      <th>V4</th>\n",
       "      <th>V5</th>\n",
       "      <th>V6</th>\n",
       "      <th>global</th>\n",
       "      <th>reflex</th>\n",
       "      <th>Lupper</th>\n",
       "      <th>Llower</th>\n",
       "      <th>Net_rn</th>\n",
       "    </tr>\n",
       "  </thead>\n",
       "  <tbody>\n",
       "    <tr>\n",
       "      <th>4428</th>\n",
       "      <td>4428</td>\n",
       "      <td>2021-03-31 21:30:00</td>\n",
       "      <td>0.0</td>\n",
       "      <td>0.0</td>\n",
       "      <td>-51.482667</td>\n",
       "      <td>-21.193333</td>\n",
       "      <td>0.0</td>\n",
       "      <td>0.0</td>\n",
       "      <td>-76.194347</td>\n",
       "      <td>-31.366133</td>\n",
       "      <td>-44.828213</td>\n",
       "    </tr>\n",
       "    <tr>\n",
       "      <th>4429</th>\n",
       "      <td>4429</td>\n",
       "      <td>2021-03-31 22:00:00</td>\n",
       "      <td>0.0</td>\n",
       "      <td>0.0</td>\n",
       "      <td>-49.026000</td>\n",
       "      <td>-20.759333</td>\n",
       "      <td>0.0</td>\n",
       "      <td>0.0</td>\n",
       "      <td>-72.558480</td>\n",
       "      <td>-30.723813</td>\n",
       "      <td>-41.834667</td>\n",
       "    </tr>\n",
       "    <tr>\n",
       "      <th>4430</th>\n",
       "      <td>4430</td>\n",
       "      <td>2021-03-31 22:30:00</td>\n",
       "      <td>0.0</td>\n",
       "      <td>0.0</td>\n",
       "      <td>-46.764000</td>\n",
       "      <td>-18.420333</td>\n",
       "      <td>0.0</td>\n",
       "      <td>0.0</td>\n",
       "      <td>-69.210720</td>\n",
       "      <td>-27.262093</td>\n",
       "      <td>-41.948627</td>\n",
       "    </tr>\n",
       "    <tr>\n",
       "      <th>4431</th>\n",
       "      <td>4431</td>\n",
       "      <td>2021-03-31 23:00:00</td>\n",
       "      <td>0.0</td>\n",
       "      <td>0.0</td>\n",
       "      <td>-45.371667</td>\n",
       "      <td>-17.657667</td>\n",
       "      <td>0.0</td>\n",
       "      <td>0.0</td>\n",
       "      <td>-67.150067</td>\n",
       "      <td>-26.133347</td>\n",
       "      <td>-41.016720</td>\n",
       "    </tr>\n",
       "    <tr>\n",
       "      <th>4432</th>\n",
       "      <td>4432</td>\n",
       "      <td>2021-03-31 23:30:00</td>\n",
       "      <td>0.0</td>\n",
       "      <td>0.0</td>\n",
       "      <td>-44.252000</td>\n",
       "      <td>-16.788333</td>\n",
       "      <td>0.0</td>\n",
       "      <td>0.0</td>\n",
       "      <td>-65.492960</td>\n",
       "      <td>-24.846733</td>\n",
       "      <td>-40.646227</td>\n",
       "    </tr>\n",
       "  </tbody>\n",
       "</table>\n",
       "</div>"
      ],
      "text/plain": [
       "      index                 time   V3   V4         V5         V6  global  \\\n",
       "4428   4428  2021-03-31 21:30:00  0.0  0.0 -51.482667 -21.193333     0.0   \n",
       "4429   4429  2021-03-31 22:00:00  0.0  0.0 -49.026000 -20.759333     0.0   \n",
       "4430   4430  2021-03-31 22:30:00  0.0  0.0 -46.764000 -18.420333     0.0   \n",
       "4431   4431  2021-03-31 23:00:00  0.0  0.0 -45.371667 -17.657667     0.0   \n",
       "4432   4432  2021-03-31 23:30:00  0.0  0.0 -44.252000 -16.788333     0.0   \n",
       "\n",
       "      reflex     Lupper     Llower     Net_rn  \n",
       "4428     0.0 -76.194347 -31.366133 -44.828213  \n",
       "4429     0.0 -72.558480 -30.723813 -41.834667  \n",
       "4430     0.0 -69.210720 -27.262093 -41.948627  \n",
       "4431     0.0 -67.150067 -26.133347 -41.016720  \n",
       "4432     0.0 -65.492960 -24.846733 -40.646227  "
      ]
     },
     "execution_count": 3,
     "metadata": {},
     "output_type": "execute_result"
    }
   ],
   "source": [
    "net_rad.tail()"
   ]
  },
  {
   "cell_type": "code",
   "execution_count": 4,
   "id": "124574b2",
   "metadata": {},
   "outputs": [],
   "source": [
    "synop = pd.read_excel('/Users/varungandhi/Downloads/Budapest-44527-10-perces.xlsx')\n",
    "synop = synop.rename(columns = {'idő (CET)':'Time (CET)'})\n",
    "synop = synop[(synop['Time (CET)'] >= '2020-12-29 15:30:00') & (synop['Time (CET)'] <= '2021-03-31 23:50:00')]\n",
    "synop = synop.reset_index()\n",
    "synop['Time (CET)'] = pd.to_datetime(synop['Time (CET)'])\n",
    "synop = synop.resample('30min', on = 'Time (CET)', closed = 'left').mean()"
   ]
  },
  {
   "cell_type": "code",
   "execution_count": 5,
   "id": "9f061ec2",
   "metadata": {},
   "outputs": [
    {
     "data": {
      "text/plain": [
       "(4433, 11)"
      ]
     },
     "execution_count": 5,
     "metadata": {},
     "output_type": "execute_result"
    }
   ],
   "source": [
    "net_rad.shape"
   ]
  },
  {
   "cell_type": "code",
   "execution_count": 6,
   "id": "2040a930",
   "metadata": {},
   "outputs": [
    {
     "data": {
      "text/plain": [
       "pandas.core.series.Series"
      ]
     },
     "execution_count": 6,
     "metadata": {},
     "output_type": "execute_result"
    }
   ],
   "source": [
    "type(net_rad['time'])"
   ]
  },
  {
   "cell_type": "code",
   "execution_count": 7,
   "id": "2bfc2dc1",
   "metadata": {},
   "outputs": [
    {
     "data": {
      "text/plain": [
       "(4433,)"
      ]
     },
     "execution_count": 7,
     "metadata": {},
     "output_type": "execute_result"
    }
   ],
   "source": [
    "  \n",
    "\n",
    "\n",
    "times = pd.date_range(\"2020-12-29 13:30:00\",\"2021-03-31 21:30:00\", freq= '30T')\n",
    "times.shape"
   ]
  },
  {
   "cell_type": "code",
   "execution_count": 8,
   "id": "3505c193",
   "metadata": {},
   "outputs": [],
   "source": [
    "net_rad['time_utc'] = times"
   ]
  },
  {
   "cell_type": "code",
   "execution_count": 9,
   "id": "b202751c",
   "metadata": {},
   "outputs": [],
   "source": [
    "\n",
    "\n",
    "synop = synop.reset_index()\n",
    "synop = synop.iloc[6:, :]\n",
    "synop = synop.reset_index()"
   ]
  },
  {
   "cell_type": "code",
   "execution_count": 10,
   "id": "2d18dfc0",
   "metadata": {},
   "outputs": [],
   "source": [
    "combined_rad = pd.concat([net_rad, synop], axis = 1)\n",
    "combined_rad = combined_rad.set_index(combined_rad['time_utc'])\n",
    "combined_rad['Rn_lw'] = combined_rad['Lupper']- combined_rad['Llower']\n",
    "#combined_rad['utctime'] = times "
   ]
  },
  {
   "cell_type": "code",
   "execution_count": 11,
   "id": "7a86a1d7",
   "metadata": {},
   "outputs": [],
   "source": [
    "def visibility(lower_value, upper_value,value):\n",
    "    list_empty = []\n",
    "    for i in range(len(combined_rad['V'])):\n",
    "        if combined_rad['V'][i] >= lower_value and combined_rad['V'][i] <= upper_value:\n",
    "            list_empty.append(value)\n",
    "        \n",
    "        else:\n",
    "            list_empty.append(float('NAN'))\n",
    "            \n",
    "    return list_empty\n",
    "\n",
    "Vis_1000 = visibility( 0, 1000, 50)\n",
    "Vis_500 = visibility( 0, 500, 70)\n",
    "Vis_2000 = visibility( 0, 2000, 20)\n",
    "Vis_5000 = visibility( 0, 5000, -50)\n",
    "combined_rad['Vis_1000'] = Vis_1000\n",
    "combined_rad['Vis_2000'] = Vis_2000\n",
    "combined_rad['Vis_5000'] = Vis_5000\n",
    "combined_rad['Vis_500'] = Vis_500"
   ]
  },
  {
   "cell_type": "code",
   "execution_count": 72,
   "id": "881d88f2",
   "metadata": {},
   "outputs": [
    {
     "data": {
      "image/png": "[encoded data removed]",
      "text/plain": [
       "<Figure size 1440x432 with 1 Axes>"
      ]
     },
     "metadata": {
      "needs_background": "light"
     },
     "output_type": "display_data"
    }
   ],
   "source": [
    "fig, ax = plt.subplots(1)\n",
    "plt.rcParams[\"figure.figsize\"] = (20,6)\n",
    "params = {'mathtext.default': 'regular' }          \n",
    "ax.plot(combined_rad['Net_rn'][1600:1800], label = 'Net_Rn')\n",
    "\n",
    "\n",
    "ax.plot(combined_rad['global'][1600:1800], label = 'Global')\n",
    "ax.plot(combined_rad['Rn_lw'][1600:1800], label = 'Rn_lw')\n",
    "#\n",
    "#\n",
    "## visibility\n",
    "#\n",
    "#\n",
    "ax.plot(combined_rad['Vis_1000'][1600:1800], linewidth=5, label = 'Visibility < 1000m')\n",
    "ax.plot(combined_rad['Vis_500'][1600:1800], linewidth=5, label = 'Visibility < 500m')\n",
    "ax.plot(combined_rad['Vis_2000'][1600:1800], linewidth=5, label = 'Visibility < 2000m')\n",
    "ax.plot(combined_rad['Vis_5000'][1600:1800], linewidth=5, label = 'Visibility < 5000m')\n",
    "\n",
    "ax.tick_params(axis='both', which='major', labelsize=18)\n",
    "ax.tick_params(axis='both', which='minor', labelsize=8)\n",
    "ax.tick_params(axis='x', labelrotation=0)\n",
    "\n",
    "#ax.set_ylim([-150.0,450])\n",
    "ax.set_yticks(np.arange(-100,500, 50.0))\n",
    "ax.legend(loc= 'upper right', prop={'size': 14}, ncol = 5)\n",
    "ax.set_xlabel('TIMESTAMP_UTC', fontsize=18)\n",
    "ax.set_ylabel('Radiation ($W/m^2$)', fontsize=20)\n",
    "##fig.set_size_inches(20, 6)\n",
    "#fig.autofmt_xdate()\n",
    "ax.minorticks_on()\n",
    "ax.xaxis.set_major_locator(DayLocator())\n",
    "ax.xaxis.set_major_formatter(DateFormatter(\"%d-%m-%Y\"))\n"
   ]
  },
  {
   "cell_type": "code",
   "execution_count": 13,
   "id": "acd95c6e",
   "metadata": {},
   "outputs": [
    {
     "data": {
      "text/plain": [
       "Index(['index', 'time', 'V3', 'V4', 'V5', 'V6', 'global', 'reflex', 'Lupper',\n",
       "       'Llower', 'Net_rn', 'time_utc', 'level_0', 'Time (CET)', 'index', 'T',\n",
       "       'U', 'P', 'FS', 'FSD', 'R', 'V', 'SR', 'SREF', 'SAL', 'SSUL', 'ET10',\n",
       "       'ET20', 'ET50', 'ET100', 'EU10', 'EU20', 'EU50', 'Rn_lw', 'Vis_1000',\n",
       "       'Vis_2000', 'Vis_5000', 'Vis_500'],\n",
       "      dtype='object')"
      ]
     },
     "execution_count": 13,
     "metadata": {},
     "output_type": "execute_result"
    }
   ],
   "source": [
    "combined_rad.columns"
   ]
  },
  {
   "cell_type": "code",
   "execution_count": 14,
   "id": "ad8e92cc",
   "metadata": {},
   "outputs": [],
   "source": [
    "net_rad_nov = pd.read_excel('/Volumes/Seagate Backup Plus Drive/data_exp1/energy budget.xlsm')"
   ]
  },
  {
   "cell_type": "code",
   "execution_count": 15,
   "id": "58d3a383",
   "metadata": {},
   "outputs": [],
   "source": [
    "net_rad_nov = net_rad_nov.iloc[23:, :]"
   ]
  },
  {
   "cell_type": "code",
   "execution_count": 16,
   "id": "326fe544",
   "metadata": {},
   "outputs": [
    {
     "data": {
      "text/html": [
       "<div>\n",
       "<style scoped>\n",
       "    .dataframe tbody tr th:only-of-type {\n",
       "        vertical-align: middle;\n",
       "    }\n",
       "\n",
       "    .dataframe tbody tr th {\n",
       "        vertical-align: top;\n",
       "    }\n",
       "\n",
       "    .dataframe thead th {\n",
       "        text-align: right;\n",
       "    }\n",
       "</style>\n",
       "<table border=\"1\" class=\"dataframe\">\n",
       "  <thead>\n",
       "    <tr style=\"text-align: right;\">\n",
       "      <th></th>\n",
       "      <th>TIMESTAMP</th>\n",
       "      <th>Global</th>\n",
       "      <th>Net_Sol</th>\n",
       "      <th>Net_infra</th>\n",
       "      <th>Net_rad</th>\n",
       "      <th>CR3000</th>\n",
       "      <th>5671</th>\n",
       "    </tr>\n",
       "  </thead>\n",
       "  <tbody>\n",
       "    <tr>\n",
       "      <th>23</th>\n",
       "      <td>20/11/2020 18:50:00</td>\n",
       "      <td>0</td>\n",
       "      <td>0</td>\n",
       "      <td>-57.24</td>\n",
       "      <td>-57.24</td>\n",
       "      <td>-10.96</td>\n",
       "      <td>-11.83</td>\n",
       "    </tr>\n",
       "    <tr>\n",
       "      <th>24</th>\n",
       "      <td>20/11/2020 18:51:00</td>\n",
       "      <td>0</td>\n",
       "      <td>0</td>\n",
       "      <td>-56.32</td>\n",
       "      <td>-56.32</td>\n",
       "      <td>-11.06</td>\n",
       "      <td>-11.93</td>\n",
       "    </tr>\n",
       "    <tr>\n",
       "      <th>25</th>\n",
       "      <td>20/11/2020 18:52:00</td>\n",
       "      <td>0</td>\n",
       "      <td>0</td>\n",
       "      <td>-57.751</td>\n",
       "      <td>-57.751</td>\n",
       "      <td>-11.16</td>\n",
       "      <td>-12.05</td>\n",
       "    </tr>\n",
       "    <tr>\n",
       "      <th>26</th>\n",
       "      <td>20/11/2020 18:53:00</td>\n",
       "      <td>0</td>\n",
       "      <td>0</td>\n",
       "      <td>-58.093</td>\n",
       "      <td>-58.093</td>\n",
       "      <td>-11.26</td>\n",
       "      <td>-12.15</td>\n",
       "    </tr>\n",
       "    <tr>\n",
       "      <th>27</th>\n",
       "      <td>20/11/2020 18:54:00</td>\n",
       "      <td>0</td>\n",
       "      <td>0</td>\n",
       "      <td>-58.115</td>\n",
       "      <td>-58.115</td>\n",
       "      <td>-11.36</td>\n",
       "      <td>-12.27</td>\n",
       "    </tr>\n",
       "  </tbody>\n",
       "</table>\n",
       "</div>"
      ],
      "text/plain": [
       "              TIMESTAMP Global Net_Sol Net_infra Net_rad CR3000   5671\n",
       "23  20/11/2020 18:50:00      0       0    -57.24  -57.24 -10.96 -11.83\n",
       "24  20/11/2020 18:51:00      0       0    -56.32  -56.32 -11.06 -11.93\n",
       "25  20/11/2020 18:52:00      0       0   -57.751 -57.751 -11.16 -12.05\n",
       "26  20/11/2020 18:53:00      0       0   -58.093 -58.093 -11.26 -12.15\n",
       "27  20/11/2020 18:54:00      0       0   -58.115 -58.115 -11.36 -12.27"
      ]
     },
     "execution_count": 16,
     "metadata": {},
     "output_type": "execute_result"
    }
   ],
   "source": [
    "net_rad_nov.columns\n",
    "net_rad_nov.tail()\n",
    "net_rad_nov.head()"
   ]
  },
  {
   "cell_type": "code",
   "execution_count": 17,
   "id": "39b4c8fa",
   "metadata": {},
   "outputs": [
    {
     "data": {
      "text/plain": [
       "(17077,)"
      ]
     },
     "execution_count": 17,
     "metadata": {},
     "output_type": "execute_result"
    }
   ],
   "source": [
    "times_nov = pd.date_range(\"2020-11-20 16:50:00\",\"2020-12-02 13:26:00\", freq= '1T')\n",
    "times_nov.shape"
   ]
  },
  {
   "cell_type": "code",
   "execution_count": 18,
   "id": "fecdf505",
   "metadata": {},
   "outputs": [
    {
     "data": {
      "text/plain": [
       "(17077, 7)"
      ]
     },
     "execution_count": 18,
     "metadata": {},
     "output_type": "execute_result"
    }
   ],
   "source": [
    "net_rad_nov.shape"
   ]
  },
  {
   "cell_type": "code",
   "execution_count": 19,
   "id": "fd47a48c",
   "metadata": {},
   "outputs": [],
   "source": [
    "net_rad_nov['timeutc'] = times_nov"
   ]
  },
  {
   "cell_type": "code",
   "execution_count": 20,
   "id": "8e128b86",
   "metadata": {},
   "outputs": [
    {
     "name": "stderr",
     "output_type": "stream",
     "text": [
      "/Applications/anaconda3/envs/ARUN/lib/python3.8/site-packages/pandas/core/apply.py:507: FutureWarning: Dropping invalid columns in DataFrameGroupBy.mean is deprecated. In a future version, a TypeError will be raised. Before calling .mean, select only columns which should be valid for the function.\n",
      "  return self._try_aggregate_string_function(obj, f, *self.args, **self.kwargs)\n"
     ]
    }
   ],
   "source": [
    "net_rad_nov['timeutc'] = pd.to_datetime(net_rad_nov['timeutc'])\n",
    "net_rad_nov = net_rad_nov.resample('30min', closed = 'left', on = 'timeutc').mean()"
   ]
  },
  {
   "cell_type": "code",
   "execution_count": 21,
   "id": "49f705f6",
   "metadata": {},
   "outputs": [
    {
     "name": "stderr",
     "output_type": "stream",
     "text": [
      "/var/folders/lj/42kjq4jj2lj80_y4pkyqbcwh0000gn/T/ipykernel_36704/677673786.py:1: FutureWarning: In a future version of pandas all arguments of DataFrame.drop except for the argument 'labels' will be keyword-only\n",
      "  net_rad_nov = net_rad_nov.drop('timeutc', 1)\n"
     ]
    }
   ],
   "source": [
    "net_rad_nov = net_rad_nov.drop('timeutc', 1)"
   ]
  },
  {
   "cell_type": "code",
   "execution_count": 22,
   "id": "5d17085f",
   "metadata": {},
   "outputs": [],
   "source": [
    "net_rad_nov.reset_index(inplace = True)"
   ]
  },
  {
   "cell_type": "code",
   "execution_count": 23,
   "id": "dfd1e214",
   "metadata": {},
   "outputs": [],
   "source": [
    "synop = pd.read_excel('/Users/varungandhi/Downloads/Budapest-44527-10-perces.xlsx')\n",
    "synop = synop.rename(columns = {'idő (CET)':'Time (CET)'})\n",
    "synop_nov = synop[(synop['Time (CET)'] >= '2020-11-20 16:50:00') & (synop['Time (CET)'] <= '2020-12-02 13:26:00')]\n",
    "synop_nov = synop_nov.reset_index()\n",
    "synop_nov['Time (CET)'] = pd.to_datetime(synop_nov['Time (CET)'])\n",
    "synop_nov = synop_nov.resample('30min', on = 'Time (CET)', closed = 'left').mean()"
   ]
  },
  {
   "cell_type": "code",
   "execution_count": 24,
   "id": "8cddd56b",
   "metadata": {},
   "outputs": [],
   "source": [
    "synop_nov.reset_index(inplace = True)"
   ]
  },
  {
   "cell_type": "code",
   "execution_count": 25,
   "id": "283ccae3",
   "metadata": {},
   "outputs": [],
   "source": [
    "synop_nov = synop_nov.iloc[6:, :]\n",
    "synop_nov = synop_nov.reset_index()"
   ]
  },
  {
   "cell_type": "code",
   "execution_count": 26,
   "id": "cda42317",
   "metadata": {},
   "outputs": [],
   "source": [
    "combined_rad_nov = pd.concat([net_rad_nov, synop_nov], axis = 1)"
   ]
  },
  {
   "cell_type": "code",
   "execution_count": 27,
   "id": "48f8f12a",
   "metadata": {},
   "outputs": [],
   "source": [
    "combined_rad_nov = combined_rad_nov.set_index(combined_rad_nov['timeutc'])"
   ]
  },
  {
   "cell_type": "code",
   "execution_count": 28,
   "id": "a6e44c23",
   "metadata": {},
   "outputs": [],
   "source": [
    "def visibility(lower_value, upper_value,value):\n",
    "    list_empty = []\n",
    "    for i in range(len(combined_rad_nov['V'])):\n",
    "        if combined_rad_nov['V'][i] >= lower_value and combined_rad_nov['V'][i] <= upper_value:\n",
    "            list_empty.append(value)\n",
    "        \n",
    "        else:\n",
    "            list_empty.append(float('NAN'))\n",
    "            \n",
    "    return list_empty\n",
    "\n",
    "Vis_1000 = visibility( 0, 1000, 50)\n",
    "Vis_500 = visibility( 0, 500, 70)\n",
    "Vis_2000 = visibility( 0, 2000, 20)\n",
    "Vis_5000 = visibility( 0, 5000, -50)\n",
    "combined_rad_nov['Vis_1000'] = Vis_1000\n",
    "combined_rad_nov['Vis_2000'] = Vis_2000\n",
    "combined_rad_nov['Vis_5000'] = Vis_5000\n",
    "combined_rad_nov['Vis_500'] = Vis_500"
   ]
  },
  {
   "cell_type": "code",
   "execution_count": 73,
   "id": "459f6d44",
   "metadata": {},
   "outputs": [
    {
     "data": {
      "image/png": "[encoded data removed]",
      "text/plain": [
       "<Figure size 1440x432 with 1 Axes>"
      ]
     },
     "metadata": {
      "needs_background": "light"
     },
     "output_type": "display_data"
    }
   ],
   "source": [
    "fig, ax = plt.subplots(1)\n",
    "plt.rcParams[\"figure.figsize\"] = (20,6)\n",
    "params = {'mathtext.default': 'regular' }          \n",
    "ax.plot(combined_rad_nov['Net_rad'][55:270], label = 'Net_Rn')\n",
    "ax.plot(combined_rad_nov['Global'][55:270], label = 'Global')\n",
    "ax.plot(combined_rad_nov['Net_infra'][55:270], label = 'Rn_Lw')\n",
    "\n",
    "ax.plot(combined_rad_nov['Vis_1000'][55:270], linewidth=5, label = 'Visibility < 1000m')\n",
    "ax.plot(combined_rad_nov['Vis_500'][55:270], linewidth=5, label = 'Visibility < 500m')\n",
    "ax.plot(combined_rad_nov['Vis_2000'][55:270], linewidth=5, label = 'Visibility < 2000m')\n",
    "ax.plot(combined_rad_nov['Vis_5000'][55:270], linewidth=5, label = 'Visibility < 5000m')\n",
    "##\n",
    "ax.tick_params(axis='both', which='major', labelsize=18)\n",
    "ax.tick_params(axis='both', which='minor', labelsize=8)\n",
    "ax.tick_params(axis='x', labelrotation=0)\n",
    "\n",
    "#ax.set_ylim([-100,400])\n",
    "ax.set_yticks(np.arange(-100,500, 50.0))\n",
    "ax.legend(loc= 'upper right', prop={'size': 14}, ncol = 5)\n",
    "ax.set_xlabel('TIMESTAMP_UTC', fontsize=18)\n",
    "ax.set_ylabel('Radiation ($W/m^2$)', fontsize=20)\n",
    "\n",
    "ax.minorticks_on()\n",
    "ax.xaxis.set_major_locator(DayLocator())\n",
    "ax.xaxis.set_major_formatter(DateFormatter(\"%d-%m-%Y\"))"
   ]
  },
  {
   "cell_type": "code",
   "execution_count": 161,
   "id": "ad39d371",
   "metadata": {},
   "outputs": [
    {
     "data": {
      "text/plain": [
       "(570, 19)"
      ]
     },
     "execution_count": 161,
     "metadata": {},
     "output_type": "execute_result"
    }
   ],
   "source": [
    "synop_nov.shape"
   ]
  },
  {
   "cell_type": "code",
   "execution_count": 162,
   "id": "67576631",
   "metadata": {},
   "outputs": [
    {
     "data": {
      "text/plain": [
       "(570, 8)"
      ]
     },
     "execution_count": 162,
     "metadata": {},
     "output_type": "execute_result"
    }
   ],
   "source": [
    "net_rad_nov.shape"
   ]
  },
  {
   "cell_type": "code",
   "execution_count": 169,
   "id": "a2863408",
   "metadata": {},
   "outputs": [
    {
     "data": {
      "text/html": [
       "<div>\n",
       "<style scoped>\n",
       "    .dataframe tbody tr th:only-of-type {\n",
       "        vertical-align: middle;\n",
       "    }\n",
       "\n",
       "    .dataframe tbody tr th {\n",
       "        vertical-align: top;\n",
       "    }\n",
       "\n",
       "    .dataframe thead th {\n",
       "        text-align: right;\n",
       "    }\n",
       "</style>\n",
       "<table border=\"1\" class=\"dataframe\">\n",
       "  <thead>\n",
       "    <tr style=\"text-align: right;\">\n",
       "      <th></th>\n",
       "      <th>timeutc</th>\n",
       "      <th>Global</th>\n",
       "      <th>Net_Sol</th>\n",
       "      <th>Net_infra</th>\n",
       "      <th>Net_rad</th>\n",
       "      <th>CR3000</th>\n",
       "      <th>5671</th>\n",
       "      <th>time,utc</th>\n",
       "      <th>Time (CET)</th>\n",
       "      <th>index</th>\n",
       "      <th>...</th>\n",
       "      <th>SREF</th>\n",
       "      <th>SAL</th>\n",
       "      <th>SSUL</th>\n",
       "      <th>ET10</th>\n",
       "      <th>ET20</th>\n",
       "      <th>ET50</th>\n",
       "      <th>ET100</th>\n",
       "      <th>EU10</th>\n",
       "      <th>EU20</th>\n",
       "      <th>EU50</th>\n",
       "    </tr>\n",
       "    <tr>\n",
       "      <th>timeutc</th>\n",
       "      <th></th>\n",
       "      <th></th>\n",
       "      <th></th>\n",
       "      <th></th>\n",
       "      <th></th>\n",
       "      <th></th>\n",
       "      <th></th>\n",
       "      <th></th>\n",
       "      <th></th>\n",
       "      <th></th>\n",
       "      <th></th>\n",
       "      <th></th>\n",
       "      <th></th>\n",
       "      <th></th>\n",
       "      <th></th>\n",
       "      <th></th>\n",
       "      <th></th>\n",
       "      <th></th>\n",
       "      <th></th>\n",
       "      <th></th>\n",
       "      <th></th>\n",
       "    </tr>\n",
       "  </thead>\n",
       "  <tbody>\n",
       "    <tr>\n",
       "      <th>2020-11-20 16:30:00</th>\n",
       "      <td>2020-11-20 16:30:00</td>\n",
       "      <td>0.000000</td>\n",
       "      <td>0.000000</td>\n",
       "      <td>-57.992700</td>\n",
       "      <td>-57.992700</td>\n",
       "      <td>-11.403000</td>\n",
       "      <td>-12.321000</td>\n",
       "      <td>2020-11-20 16:30:00</td>\n",
       "      <td>2020-11-20 16:30:00</td>\n",
       "      <td>2836.0</td>\n",
       "      <td>...</td>\n",
       "      <td>0.000000</td>\n",
       "      <td>287.100000</td>\n",
       "      <td>336.600000</td>\n",
       "      <td>9.200000</td>\n",
       "      <td>9.600000</td>\n",
       "      <td>10.800000</td>\n",
       "      <td>12.000000</td>\n",
       "      <td>0.17</td>\n",
       "      <td>0.12</td>\n",
       "      <td>0.18</td>\n",
       "    </tr>\n",
       "    <tr>\n",
       "      <th>2020-11-20 17:00:00</th>\n",
       "      <td>2020-11-20 17:00:00</td>\n",
       "      <td>0.000000</td>\n",
       "      <td>0.000000</td>\n",
       "      <td>-38.569567</td>\n",
       "      <td>-38.569567</td>\n",
       "      <td>-13.135333</td>\n",
       "      <td>-14.255667</td>\n",
       "      <td>2020-11-20 17:00:00</td>\n",
       "      <td>2020-11-20 17:00:00</td>\n",
       "      <td>2838.0</td>\n",
       "      <td>...</td>\n",
       "      <td>0.000000</td>\n",
       "      <td>264.933333</td>\n",
       "      <td>332.533333</td>\n",
       "      <td>9.066667</td>\n",
       "      <td>9.600000</td>\n",
       "      <td>10.800000</td>\n",
       "      <td>12.033333</td>\n",
       "      <td>0.17</td>\n",
       "      <td>0.12</td>\n",
       "      <td>0.18</td>\n",
       "    </tr>\n",
       "    <tr>\n",
       "      <th>2020-11-20 17:30:00</th>\n",
       "      <td>2020-11-20 17:30:00</td>\n",
       "      <td>0.000000</td>\n",
       "      <td>0.000000</td>\n",
       "      <td>-49.806667</td>\n",
       "      <td>-49.806667</td>\n",
       "      <td>-14.947333</td>\n",
       "      <td>-16.337000</td>\n",
       "      <td>2020-11-20 17:30:00</td>\n",
       "      <td>2020-11-20 17:30:00</td>\n",
       "      <td>2841.0</td>\n",
       "      <td>...</td>\n",
       "      <td>0.000000</td>\n",
       "      <td>252.400000</td>\n",
       "      <td>328.066667</td>\n",
       "      <td>8.900000</td>\n",
       "      <td>9.500000</td>\n",
       "      <td>10.800000</td>\n",
       "      <td>12.033333</td>\n",
       "      <td>0.17</td>\n",
       "      <td>0.12</td>\n",
       "      <td>0.18</td>\n",
       "    </tr>\n",
       "    <tr>\n",
       "      <th>2020-11-20 18:00:00</th>\n",
       "      <td>2020-11-20 18:00:00</td>\n",
       "      <td>0.000000</td>\n",
       "      <td>0.000000</td>\n",
       "      <td>-50.758700</td>\n",
       "      <td>-50.758700</td>\n",
       "      <td>-16.039000</td>\n",
       "      <td>-17.549000</td>\n",
       "      <td>2020-11-20 18:00:00</td>\n",
       "      <td>2020-11-20 18:00:00</td>\n",
       "      <td>2844.0</td>\n",
       "      <td>...</td>\n",
       "      <td>0.000000</td>\n",
       "      <td>265.800000</td>\n",
       "      <td>328.633333</td>\n",
       "      <td>8.700000</td>\n",
       "      <td>9.433333</td>\n",
       "      <td>10.800000</td>\n",
       "      <td>12.000000</td>\n",
       "      <td>0.17</td>\n",
       "      <td>0.12</td>\n",
       "      <td>0.18</td>\n",
       "    </tr>\n",
       "    <tr>\n",
       "      <th>2020-11-20 18:30:00</th>\n",
       "      <td>2020-11-20 18:30:00</td>\n",
       "      <td>0.000000</td>\n",
       "      <td>0.000000</td>\n",
       "      <td>-38.151933</td>\n",
       "      <td>-38.151933</td>\n",
       "      <td>-17.066333</td>\n",
       "      <td>-18.659667</td>\n",
       "      <td>2020-11-20 18:30:00</td>\n",
       "      <td>2020-11-20 18:30:00</td>\n",
       "      <td>2847.0</td>\n",
       "      <td>...</td>\n",
       "      <td>0.000000</td>\n",
       "      <td>268.166667</td>\n",
       "      <td>328.733333</td>\n",
       "      <td>8.533333</td>\n",
       "      <td>9.333333</td>\n",
       "      <td>10.800000</td>\n",
       "      <td>12.000000</td>\n",
       "      <td>0.17</td>\n",
       "      <td>0.12</td>\n",
       "      <td>0.18</td>\n",
       "    </tr>\n",
       "    <tr>\n",
       "      <th>...</th>\n",
       "      <td>...</td>\n",
       "      <td>...</td>\n",
       "      <td>...</td>\n",
       "      <td>...</td>\n",
       "      <td>...</td>\n",
       "      <td>...</td>\n",
       "      <td>...</td>\n",
       "      <td>...</td>\n",
       "      <td>...</td>\n",
       "      <td>...</td>\n",
       "      <td>...</td>\n",
       "      <td>...</td>\n",
       "      <td>...</td>\n",
       "      <td>...</td>\n",
       "      <td>...</td>\n",
       "      <td>...</td>\n",
       "      <td>...</td>\n",
       "      <td>...</td>\n",
       "      <td>...</td>\n",
       "      <td>...</td>\n",
       "      <td>...</td>\n",
       "    </tr>\n",
       "    <tr>\n",
       "      <th>2020-12-02 11:00:00</th>\n",
       "      <td>2020-12-02 11:00:00</td>\n",
       "      <td>235.635400</td>\n",
       "      <td>216.055400</td>\n",
       "      <td>-59.082033</td>\n",
       "      <td>156.973367</td>\n",
       "      <td>-13.372000</td>\n",
       "      <td>-14.552667</td>\n",
       "      <td>2020-12-02 11:00:00</td>\n",
       "      <td>2020-12-02 11:00:00</td>\n",
       "      <td>4530.0</td>\n",
       "      <td>...</td>\n",
       "      <td>63.533333</td>\n",
       "      <td>246.266667</td>\n",
       "      <td>331.500000</td>\n",
       "      <td>1.900000</td>\n",
       "      <td>3.200000</td>\n",
       "      <td>7.200000</td>\n",
       "      <td>9.600000</td>\n",
       "      <td>0.16</td>\n",
       "      <td>0.11</td>\n",
       "      <td>0.17</td>\n",
       "    </tr>\n",
       "    <tr>\n",
       "      <th>2020-12-02 11:30:00</th>\n",
       "      <td>2020-12-02 11:30:00</td>\n",
       "      <td>277.329733</td>\n",
       "      <td>251.137733</td>\n",
       "      <td>-73.469267</td>\n",
       "      <td>177.668467</td>\n",
       "      <td>-12.215000</td>\n",
       "      <td>-13.786000</td>\n",
       "      <td>2020-12-02 11:30:00</td>\n",
       "      <td>2020-12-02 11:30:00</td>\n",
       "      <td>4533.0</td>\n",
       "      <td>...</td>\n",
       "      <td>42.566667</td>\n",
       "      <td>244.166667</td>\n",
       "      <td>328.766667</td>\n",
       "      <td>1.966667</td>\n",
       "      <td>3.166667</td>\n",
       "      <td>7.200000</td>\n",
       "      <td>9.600000</td>\n",
       "      <td>0.16</td>\n",
       "      <td>0.11</td>\n",
       "      <td>0.17</td>\n",
       "    </tr>\n",
       "    <tr>\n",
       "      <th>2020-12-02 12:00:00</th>\n",
       "      <td>2020-12-02 12:00:00</td>\n",
       "      <td>123.894587</td>\n",
       "      <td>112.968353</td>\n",
       "      <td>-68.317667</td>\n",
       "      <td>44.650687</td>\n",
       "      <td>-10.331333</td>\n",
       "      <td>-12.368333</td>\n",
       "      <td>2020-12-02 12:00:00</td>\n",
       "      <td>2020-12-02 12:00:00</td>\n",
       "      <td>4536.0</td>\n",
       "      <td>...</td>\n",
       "      <td>42.166667</td>\n",
       "      <td>250.133333</td>\n",
       "      <td>330.666667</td>\n",
       "      <td>2.133333</td>\n",
       "      <td>3.133333</td>\n",
       "      <td>7.200000</td>\n",
       "      <td>9.600000</td>\n",
       "      <td>0.16</td>\n",
       "      <td>0.11</td>\n",
       "      <td>0.17</td>\n",
       "    </tr>\n",
       "    <tr>\n",
       "      <th>2020-12-02 12:30:00</th>\n",
       "      <td>2020-12-02 12:30:00</td>\n",
       "      <td>104.693793</td>\n",
       "      <td>96.557660</td>\n",
       "      <td>-55.656467</td>\n",
       "      <td>40.901193</td>\n",
       "      <td>-9.050000</td>\n",
       "      <td>-10.970333</td>\n",
       "      <td>2020-12-02 12:30:00</td>\n",
       "      <td>2020-12-02 12:30:00</td>\n",
       "      <td>4539.0</td>\n",
       "      <td>...</td>\n",
       "      <td>74.300000</td>\n",
       "      <td>240.400000</td>\n",
       "      <td>342.266667</td>\n",
       "      <td>2.233333</td>\n",
       "      <td>3.200000</td>\n",
       "      <td>7.200000</td>\n",
       "      <td>9.600000</td>\n",
       "      <td>0.16</td>\n",
       "      <td>0.11</td>\n",
       "      <td>0.17</td>\n",
       "    </tr>\n",
       "    <tr>\n",
       "      <th>2020-12-02 13:00:00</th>\n",
       "      <td>2020-12-02 13:00:00</td>\n",
       "      <td>81.893837</td>\n",
       "      <td>75.443393</td>\n",
       "      <td>-46.360741</td>\n",
       "      <td>29.082652</td>\n",
       "      <td>-8.361111</td>\n",
       "      <td>-10.060370</td>\n",
       "      <td>2020-12-02 13:00:00</td>\n",
       "      <td>2020-12-02 13:00:00</td>\n",
       "      <td>4542.0</td>\n",
       "      <td>...</td>\n",
       "      <td>37.900000</td>\n",
       "      <td>228.433333</td>\n",
       "      <td>327.900000</td>\n",
       "      <td>2.433333</td>\n",
       "      <td>3.200000</td>\n",
       "      <td>7.133333</td>\n",
       "      <td>9.600000</td>\n",
       "      <td>0.16</td>\n",
       "      <td>0.11</td>\n",
       "      <td>0.17</td>\n",
       "    </tr>\n",
       "  </tbody>\n",
       "</table>\n",
       "<p>570 rows × 28 columns</p>\n",
       "</div>"
      ],
      "text/plain": [
       "                                timeutc      Global     Net_Sol  Net_infra  \\\n",
       "timeutc                                                                      \n",
       "2020-11-20 16:30:00 2020-11-20 16:30:00    0.000000    0.000000 -57.992700   \n",
       "2020-11-20 17:00:00 2020-11-20 17:00:00    0.000000    0.000000 -38.569567   \n",
       "2020-11-20 17:30:00 2020-11-20 17:30:00    0.000000    0.000000 -49.806667   \n",
       "2020-11-20 18:00:00 2020-11-20 18:00:00    0.000000    0.000000 -50.758700   \n",
       "2020-11-20 18:30:00 2020-11-20 18:30:00    0.000000    0.000000 -38.151933   \n",
       "...                                 ...         ...         ...        ...   \n",
       "2020-12-02 11:00:00 2020-12-02 11:00:00  235.635400  216.055400 -59.082033   \n",
       "2020-12-02 11:30:00 2020-12-02 11:30:00  277.329733  251.137733 -73.469267   \n",
       "2020-12-02 12:00:00 2020-12-02 12:00:00  123.894587  112.968353 -68.317667   \n",
       "2020-12-02 12:30:00 2020-12-02 12:30:00  104.693793   96.557660 -55.656467   \n",
       "2020-12-02 13:00:00 2020-12-02 13:00:00   81.893837   75.443393 -46.360741   \n",
       "\n",
       "                        Net_rad     CR3000       5671            time,utc  \\\n",
       "timeutc                                                                     \n",
       "2020-11-20 16:30:00  -57.992700 -11.403000 -12.321000 2020-11-20 16:30:00   \n",
       "2020-11-20 17:00:00  -38.569567 -13.135333 -14.255667 2020-11-20 17:00:00   \n",
       "2020-11-20 17:30:00  -49.806667 -14.947333 -16.337000 2020-11-20 17:30:00   \n",
       "2020-11-20 18:00:00  -50.758700 -16.039000 -17.549000 2020-11-20 18:00:00   \n",
       "2020-11-20 18:30:00  -38.151933 -17.066333 -18.659667 2020-11-20 18:30:00   \n",
       "...                         ...        ...        ...                 ...   \n",
       "2020-12-02 11:00:00  156.973367 -13.372000 -14.552667 2020-12-02 11:00:00   \n",
       "2020-12-02 11:30:00  177.668467 -12.215000 -13.786000 2020-12-02 11:30:00   \n",
       "2020-12-02 12:00:00   44.650687 -10.331333 -12.368333 2020-12-02 12:00:00   \n",
       "2020-12-02 12:30:00   40.901193  -9.050000 -10.970333 2020-12-02 12:30:00   \n",
       "2020-12-02 13:00:00   29.082652  -8.361111 -10.060370 2020-12-02 13:00:00   \n",
       "\n",
       "                             Time (CET)   index  ...       SREF         SAL  \\\n",
       "timeutc                                          ...                          \n",
       "2020-11-20 16:30:00 2020-11-20 16:30:00  2836.0  ...   0.000000  287.100000   \n",
       "2020-11-20 17:00:00 2020-11-20 17:00:00  2838.0  ...   0.000000  264.933333   \n",
       "2020-11-20 17:30:00 2020-11-20 17:30:00  2841.0  ...   0.000000  252.400000   \n",
       "2020-11-20 18:00:00 2020-11-20 18:00:00  2844.0  ...   0.000000  265.800000   \n",
       "2020-11-20 18:30:00 2020-11-20 18:30:00  2847.0  ...   0.000000  268.166667   \n",
       "...                                 ...     ...  ...        ...         ...   \n",
       "2020-12-02 11:00:00 2020-12-02 11:00:00  4530.0  ...  63.533333  246.266667   \n",
       "2020-12-02 11:30:00 2020-12-02 11:30:00  4533.0  ...  42.566667  244.166667   \n",
       "2020-12-02 12:00:00 2020-12-02 12:00:00  4536.0  ...  42.166667  250.133333   \n",
       "2020-12-02 12:30:00 2020-12-02 12:30:00  4539.0  ...  74.300000  240.400000   \n",
       "2020-12-02 13:00:00 2020-12-02 13:00:00  4542.0  ...  37.900000  228.433333   \n",
       "\n",
       "                           SSUL      ET10      ET20       ET50      ET100  \\\n",
       "timeutc                                                                     \n",
       "2020-11-20 16:30:00  336.600000  9.200000  9.600000  10.800000  12.000000   \n",
       "2020-11-20 17:00:00  332.533333  9.066667  9.600000  10.800000  12.033333   \n",
       "2020-11-20 17:30:00  328.066667  8.900000  9.500000  10.800000  12.033333   \n",
       "2020-11-20 18:00:00  328.633333  8.700000  9.433333  10.800000  12.000000   \n",
       "2020-11-20 18:30:00  328.733333  8.533333  9.333333  10.800000  12.000000   \n",
       "...                         ...       ...       ...        ...        ...   \n",
       "2020-12-02 11:00:00  331.500000  1.900000  3.200000   7.200000   9.600000   \n",
       "2020-12-02 11:30:00  328.766667  1.966667  3.166667   7.200000   9.600000   \n",
       "2020-12-02 12:00:00  330.666667  2.133333  3.133333   7.200000   9.600000   \n",
       "2020-12-02 12:30:00  342.266667  2.233333  3.200000   7.200000   9.600000   \n",
       "2020-12-02 13:00:00  327.900000  2.433333  3.200000   7.133333   9.600000   \n",
       "\n",
       "                     EU10  EU20  EU50  \n",
       "timeutc                                \n",
       "2020-11-20 16:30:00  0.17  0.12  0.18  \n",
       "2020-11-20 17:00:00  0.17  0.12  0.18  \n",
       "2020-11-20 17:30:00  0.17  0.12  0.18  \n",
       "2020-11-20 18:00:00  0.17  0.12  0.18  \n",
       "2020-11-20 18:30:00  0.17  0.12  0.18  \n",
       "...                   ...   ...   ...  \n",
       "2020-12-02 11:00:00  0.16  0.11  0.17  \n",
       "2020-12-02 11:30:00  0.16  0.11  0.17  \n",
       "2020-12-02 12:00:00  0.16  0.11  0.17  \n",
       "2020-12-02 12:30:00  0.16  0.11  0.17  \n",
       "2020-12-02 13:00:00  0.16  0.11  0.17  \n",
       "\n",
       "[570 rows x 28 columns]"
      ]
     },
     "execution_count": 169,
     "metadata": {},
     "output_type": "execute_result"
    }
   ],
   "source": [
    "combined_rad_nov"
   ]
  },
  {
   "cell_type": "code",
   "execution_count": null,
   "id": "88cae547",
   "metadata": {},
   "outputs": [],
   "source": []
  }
 ],
 "metadata": {
  "kernelspec": {
   "display_name": "Python 3 (ipykernel)",
   "language": "python",
   "name": "python3"
  },
  "language_info": {
   "codemirror_mode": {
    "name": "ipython",
    "version": 3
   },
   "file_extension": ".py",
   "mimetype": "text/x-python",
   "name": "python",
   "nbconvert_exporter": "python",
   "pygments_lexer": "ipython3",
   "version": "3.8.11"
  }
 },
 "nbformat": 4,
 "nbformat_minor": 5
}
