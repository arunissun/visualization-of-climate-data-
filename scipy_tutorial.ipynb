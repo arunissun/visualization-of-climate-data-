{
 "cells": [
  {
   "cell_type": "code",
   "execution_count": 1,
   "id": "84ba18de",
   "metadata": {},
   "outputs": [],
   "source": [
    "import numpy as np\n",
    "import matplotlib.pyplot as plt\n",
    "import scipy as sp"
   ]
  },
  {
   "cell_type": "code",
   "execution_count": 3,
   "id": "110916f6",
   "metadata": {},
   "outputs": [],
   "source": [
    "#minimizing the function\n",
    "from scipy.optimize import minimize"
   ]
  },
  {
   "cell_type": "code",
   "execution_count": 4,
   "id": "97f3eb3e",
   "metadata": {},
   "outputs": [],
   "source": [
    "def f(x):\n",
    "    return (x-3)**2"
   ]
  },
  {
   "cell_type": "code",
   "execution_count": 6,
   "id": "0993047f",
   "metadata": {},
   "outputs": [
    {
     "data": {
      "text/plain": [
       "      fun: 5.551437397369767e-17\n",
       " hess_inv: array([[0.5]])\n",
       "      jac: array([-4.3254289e-13])\n",
       "  message: 'Optimization terminated successfully.'\n",
       "     nfev: 6\n",
       "      nit: 2\n",
       "     njev: 3\n",
       "   status: 0\n",
       "  success: True\n",
       "        x: array([2.99999999])"
      ]
     },
     "execution_count": 6,
     "metadata": {},
     "output_type": "execute_result"
    }
   ],
   "source": [
    "res = minimize(f,2)\n",
    "res"
   ]
  },
  {
   "cell_type": "code",
   "execution_count": 7,
   "id": "38786f29",
   "metadata": {},
   "outputs": [
    {
     "data": {
      "text/plain": [
       "array([2.99999999])"
      ]
     },
     "execution_count": 7,
     "metadata": {},
     "output_type": "execute_result"
    }
   ],
   "source": [
    "res.x"
   ]
  },
  {
   "cell_type": "code",
   "execution_count": 8,
   "id": "ea8e9746",
   "metadata": {},
   "outputs": [],
   "source": [
    "# 2 dimesional function\n",
    "f = lambda x: (x[0] - 1)**2 +(x[1]-2.5)**2  ## for the fucntion (x-1)**2 - (y - 2.5)**2"
   ]
  },
  {
   "cell_type": "code",
   "execution_count": 9,
   "id": "490cee37",
   "metadata": {},
   "outputs": [
    {
     "data": {
      "text/plain": [
       "0.25"
      ]
     },
     "execution_count": 9,
     "metadata": {},
     "output_type": "execute_result"
    }
   ],
   "source": [
    "f([1,2])"
   ]
  },
  {
   "cell_type": "code",
   "execution_count": 10,
   "id": "a3b8ed51",
   "metadata": {},
   "outputs": [],
   "source": [
    "cons = ({'type': 'ineq', 'fun': lambda x: x[0]-2*x[1] +2},\n",
    "        {'type': 'ineq', 'fun': lambda x: -x[0]-2*x[1] +6},\n",
    "        {'type': 'ineq', 'fun': lambda x: x[0]-2*x[1] +2}\n",
    "       )\n",
    "bnds = ((0,None), (0, None))"
   ]
  },
  {
   "cell_type": "code",
   "execution_count": 12,
   "id": "1d8c27a4",
   "metadata": {},
   "outputs": [
    {
     "data": {
      "text/plain": [
       "     fun: 0.8000000011920985\n",
       "     jac: array([ 0.80000002, -1.59999999])\n",
       " message: 'Optimization terminated successfully'\n",
       "    nfev: 10\n",
       "     nit: 3\n",
       "    njev: 3\n",
       "  status: 0\n",
       " success: True\n",
       "       x: array([1.4, 1.7])"
      ]
     },
     "execution_count": 12,
     "metadata": {},
     "output_type": "execute_result"
    }
   ],
   "source": [
    "res = minimize(f, (2,0), bounds = bnds, constraints= cons)\n",
    "res"
   ]
  },
  {
   "cell_type": "code",
   "execution_count": 13,
   "id": "f3c10065",
   "metadata": {},
   "outputs": [],
   "source": [
    "#minimize?\n"
   ]
  },
  {
   "cell_type": "code",
   "execution_count": 14,
   "id": "091ada04",
   "metadata": {},
   "outputs": [
    {
     "data": {
      "text/plain": [
       "<matplotlib.collections.PathCollection at 0x7ff059563dc0>"
      ]
     },
     "execution_count": 14,
     "metadata": {},
     "output_type": "execute_result"
    },
    {
     "data": {
      "image/png": "[encoded data removed]",
      "text/plain": [
       "<Figure size 432x288 with 1 Axes>"
      ]
     },
     "metadata": {
      "needs_background": "light"
     },
     "output_type": "display_data"
    }
   ],
   "source": [
    "#interpolation\n",
    "x = np.linspace(0,10,10)\n",
    "y = x**2 * np.sin(x)\n",
    "plt.scatter(x,y)"
   ]
  },
  {
   "cell_type": "code",
   "execution_count": 18,
   "id": "6a062635",
   "metadata": {},
   "outputs": [],
   "source": [
    "from scipy.interpolate import interp1d"
   ]
  },
  {
   "cell_type": "code",
   "execution_count": 20,
   "id": "3205477e",
   "metadata": {},
   "outputs": [
    {
     "data": {
      "text/plain": [
       "[<matplotlib.lines.Line2D at 0x7ff059c67f10>]"
      ]
     },
     "execution_count": 20,
     "metadata": {},
     "output_type": "execute_result"
    },
    {
     "data": {
      "image/png": "[encoded data removed]",
      "text/plain": [
       "<Figure size 432x288 with 1 Axes>"
      ]
     },
     "metadata": {
      "needs_background": "light"
     },
     "output_type": "display_data"
    }
   ],
   "source": [
    "f = interp1d(x,y, kind = 'linear')\n",
    "x_dense = np.linspace(0,10,100)\n",
    "y_dense = f(x_dense)\n",
    "plt.plot(x_dense, y_dense)"
   ]
  },
  {
   "cell_type": "code",
   "execution_count": 22,
   "id": "54403fc8",
   "metadata": {},
   "outputs": [
    {
     "data": {
      "text/plain": [
       "[<matplotlib.lines.Line2D at 0x7ff0594bd1c0>]"
      ]
     },
     "execution_count": 22,
     "metadata": {},
     "output_type": "execute_result"
    },
    {
     "data": {
      "image/png": "[encoded data removed]",
      "text/plain": [
       "<Figure size 432x288 with 1 Axes>"
      ]
     },
     "metadata": {
      "needs_background": "light"
     },
     "output_type": "display_data"
    }
   ],
   "source": [
    "f = interp1d(x,y, kind = 'cubic')\n",
    "x_dense = np.linspace(0,10,100)\n",
    "y_dense = f(x_dense)\n",
    "plt.plot(x_dense, y_dense)"
   ]
  },
  {
   "cell_type": "code",
   "execution_count": 31,
   "id": "b482e59b",
   "metadata": {},
   "outputs": [
    {
     "data": {
      "text/plain": [
       "<matplotlib.collections.PathCollection at 0x7ff05a08fc70>"
      ]
     },
     "execution_count": 31,
     "metadata": {},
     "output_type": "execute_result"
    },
    {
     "data": {
      "image/png": "[encoded data removed]",
      "text/plain": [
       "<Figure size 432x288 with 1 Axes>"
      ]
     },
     "metadata": {
      "needs_background": "light"
     },
     "output_type": "display_data"
    }
   ],
   "source": [
    "#curve fitting\n",
    "x_data = np.linspace(0, 10, 10) # this data is made here , we can collect our own data also \n",
    "y_data = 4*x_data**2 + 2\n",
    "plt.scatter(x_data, y_data)"
   ]
  },
  {
   "cell_type": "code",
   "execution_count": 32,
   "id": "19407d7b",
   "metadata": {},
   "outputs": [],
   "source": [
    "from scipy.optimize import curve_fit\n",
    "def func(x,a,b):\n",
    "    return a*x**2 + b\n",
    "\n",
    "popt, pcov = curve_fit(func, x_data, y_data, p0 = (1,1))"
   ]
  },
  {
   "cell_type": "code",
   "execution_count": 33,
   "id": "ab7a3bd2",
   "metadata": {},
   "outputs": [
    {
     "data": {
      "text/plain": [
       "array([4., 2.])"
      ]
     },
     "execution_count": 33,
     "metadata": {},
     "output_type": "execute_result"
    }
   ],
   "source": [
    "popt"
   ]
  },
  {
   "cell_type": "code",
   "execution_count": 34,
   "id": "4e9a3963",
   "metadata": {},
   "outputs": [],
   "source": [
    "\n",
    "\n",
    "t_data = np.array([ 0.   ,  0.34482759,  0.68965517,  1.03448276,  1.37931034,\n",
    "        1.72413793,  2.06896552,  2.4137931 ,  2.75862069,  3.10344828,\n",
    "        3.44827586,  3.79310345,  4.13793103,  4.48275862,  4.82758621,\n",
    "        5.17241379,  5.51724138,  5.86206897,  6.20689655,  6.55172414,\n",
    "        6.89655172,  7.24137931,  7.5862069 ,  7.93103448,  8.27586207,\n",
    "        8.62068966,  8.96551724,  9.31034483,  9.65517241, 10.        ])\n",
    "y_data = np.array([ 4.3303953 ,  1.61137995, -2.15418696, -3.90137249, -1.67259042,\n",
    "        2.16884383,  3.86635998,  1.85194506, -1.8489224 , -3.96560495,\n",
    "       -2.13385255,  1.59425817,  4.06145238,  1.89300594, -1.76870297,\n",
    "       -4.26791226, -2.46874133,  1.37019912,  4.24945607,  2.27038039,\n",
    "       -1.50299303, -3.46774049, -2.50845488,  1.20022052,  3.81633703,\n",
    "        2.91511556, -1.24569189, -3.72716214, -2.54549857,  0.87262548])\n",
    "\n"
   ]
  },
  {
   "cell_type": "code",
   "execution_count": 35,
   "id": "0c5ba9ab",
   "metadata": {},
   "outputs": [
    {
     "data": {
      "text/plain": [
       "[<matplotlib.lines.Line2D at 0x7ff05b409dc0>]"
      ]
     },
     "execution_count": 35,
     "metadata": {},
     "output_type": "execute_result"
    },
    {
     "data": {
      "image/png": "[encoded data removed]",
      "text/plain": [
       "<Figure size 432x288 with 1 Axes>"
      ]
     },
     "metadata": {
      "needs_background": "light"
     },
     "output_type": "display_data"
    }
   ],
   "source": [
    "plt.plot(t_data, y_data, \"o--\")"
   ]
  },
  {
   "cell_type": "code",
   "execution_count": 36,
   "id": "5eac5c4f",
   "metadata": {},
   "outputs": [
    {
     "data": {
      "text/plain": [
       "array([3.94836218, 2.99899521, 0.10411349])"
      ]
     },
     "execution_count": 36,
     "metadata": {},
     "output_type": "execute_result"
    }
   ],
   "source": [
    "def func(x, A, w, phi):\n",
    "    return A*np.cos(w*x+phi)\n",
    "\n",
    "popt, pcov = curve_fit(func, t_data, y_data, p0=(4, np.pi, 0))\n",
    "popt"
   ]
  },
  {
   "cell_type": "code",
   "execution_count": 38,
   "id": "3cb0fcf6",
   "metadata": {},
   "outputs": [
    {
     "data": {
      "text/plain": [
       "[<matplotlib.lines.Line2D at 0x7ff05b69e280>]"
      ]
     },
     "execution_count": 38,
     "metadata": {},
     "output_type": "execute_result"
    },
    {
     "data": {
      "image/png": "[encoded data removed]",
      "text/plain": [
       "<Figure size 432x288 with 1 Axes>"
      ]
     },
     "metadata": {
      "needs_background": "light"
     },
     "output_type": "display_data"
    }
   ],
   "source": [
    "A, w, phi = popt\n",
    "t = np.linspace(0,10,100)\n",
    "y = func(t, A, w, phi)\n",
    "plt.scatter(t_data, y_data)\n",
    "plt.plot(t, y, color = 'g')"
   ]
  },
  {
   "cell_type": "code",
   "execution_count": 42,
   "id": "63bc5a8e",
   "metadata": {},
   "outputs": [
    {
     "name": "stdout",
     "output_type": "stream",
     "text": [
      "[2.61882716e-03 1.85638043e-05 6.63424701e-04] [0.05117448 0.00430857 0.02575703]\n"
     ]
    }
   ],
   "source": [
    "# error on omega \n",
    "a = np.diag(pcov)  # variance of the A, w , phi\n",
    "b = np.sqrt(np.diag(pcov))  # sd or error on the 3 parameters\n",
    "print(a,b)"
   ]
  },
  {
   "cell_type": "code",
   "execution_count": 43,
   "id": "9b41958b",
   "metadata": {},
   "outputs": [
    {
     "data": {
      "image/png": "[encoded data removed]",
      "text/plain": [
       "<Figure size 432x288 with 1 Axes>"
      ]
     },
     "metadata": {
      "needs_background": "light"
     },
     "output_type": "display_data"
    }
   ],
   "source": [
    "### special polynomials\n",
    "\n",
    "## legendre and bessel functions\n",
    "\n",
    "\n",
    "from scipy.special import legendre\n",
    "x = np.linspace(0, 1, 100)\n",
    "plt.plot(x, legendre(6)(x))\n",
    "plt.show()\n",
    "\n"
   ]
  },
  {
   "cell_type": "code",
   "execution_count": 45,
   "id": "e18daacc",
   "metadata": {},
   "outputs": [
    {
     "data": {
      "image/png": "[encoded data removed]",
      "text/plain": [
       "<Figure size 432x288 with 1 Axes>"
      ]
     },
     "metadata": {
      "needs_background": "light"
     },
     "output_type": "display_data"
    }
   ],
   "source": [
    "from scipy.special import jv\n",
    "x = np.linspace(0, 10, 100)\n",
    "plt.plot(x, jv(3,x))\n",
    "plt.show() "
   ]
  },
  {
   "cell_type": "code",
   "execution_count": 46,
   "id": "1410359c",
   "metadata": {},
   "outputs": [],
   "source": [
    "## calculus\n",
    "from scipy.misc import derivative "
   ]
  },
  {
   "cell_type": "code",
   "execution_count": 47,
   "id": "373e71da",
   "metadata": {},
   "outputs": [],
   "source": [
    "def f(x):\n",
    "    return x**2 * np.sin(2*x) * np.exp(-x)\n",
    "x = np.linspace(0,1,100)"
   ]
  },
  {
   "cell_type": "code",
   "execution_count": 50,
   "id": "085abebe",
   "metadata": {},
   "outputs": [
    {
     "data": {
      "text/plain": [
       "[<matplotlib.lines.Line2D at 0x7ff05bc94400>]"
      ]
     },
     "execution_count": 50,
     "metadata": {},
     "output_type": "execute_result"
    },
    {
     "data": {
      "image/png": "[encoded data removed]",
      "text/plain": [
       "<Figure size 432x288 with 1 Axes>"
      ]
     },
     "metadata": {
      "needs_background": "light"
     },
     "output_type": "display_data"
    }
   ],
   "source": [
    "plt.plot(x, f(x))\n",
    "plt.plot(x,derivative(f,x, dx = 1e-6))\n",
    "plt.plot(x, derivative(f,x,dx = 1e-6, n=2))"
   ]
  },
  {
   "cell_type": "code",
   "execution_count": 52,
   "id": "a6e158c1",
   "metadata": {},
   "outputs": [
    {
     "data": {
      "text/plain": [
       "0.10246777930717413"
      ]
     },
     "execution_count": 52,
     "metadata": {},
     "output_type": "execute_result"
    }
   ],
   "source": [
    "###integration\n",
    "from scipy.integrate import quad\n",
    "integrand = lambda x: x**2 * np.sin(x) * np.exp(-x)\n",
    "integral, integral_error = quad(integrand, 0,1)\n",
    "integral"
   ]
  },
  {
   "cell_type": "code",
   "execution_count": 75,
   "id": "4da94d58",
   "metadata": {},
   "outputs": [],
   "source": [
    "from scipy.integrate import dblquad\n",
    "integrand = lambda y,x : np.sin(x + y**2)\n",
    "lwr_y = lambda x : -x\n",
    "upr_y = lambda x : x**2\n",
    "integral, integral_error = dblquad(integrand, 0,1, lwr_y, upr_y)"
   ]
  },
  {
   "cell_type": "code",
   "execution_count": 76,
   "id": "ce3a443e",
   "metadata": {},
   "outputs": [
    {
     "name": "stdout",
     "output_type": "stream",
     "text": [
      "0.5900903244088529 2.0545915475811425e-14\n"
     ]
    }
   ],
   "source": [
    "print(integral, integral_error)"
   ]
  },
  {
   "cell_type": "code",
   "execution_count": 57,
   "id": "30d06035",
   "metadata": {},
   "outputs": [],
   "source": [
    "# differential equations\n",
    "from scipy.integrate import odeint"
   ]
  },
  {
   "cell_type": "code",
   "execution_count": 61,
   "id": "47a480b9",
   "metadata": {},
   "outputs": [
    {
     "data": {
      "text/plain": [
       "array([ 0.        , -0.05047933, -0.10080451, -0.15082334, -0.20038726,\n",
       "       -0.24935318, -0.29758502, -0.34495519, -0.39134576, -0.43664948,\n",
       "       -0.48077056, -0.52362515, -0.56514164, -0.60526086, -0.6439356 ,\n",
       "       -0.68113064, -0.71682205, -0.75099661, -0.78365109, -0.8147914 ,\n",
       "       -0.84443176, -0.87259378, -0.89930556, -0.92460079, -0.94851787,\n",
       "       -0.97109913, -0.99239002, -1.01243837, -1.03129376, -1.04900692,\n",
       "       -1.06562918, -1.081212  , -1.0958066 , -1.10946355, -1.12223249,\n",
       "       -1.13416195, -1.14529906, -1.15568941, -1.16537698, -1.17440397,\n",
       "       -1.18281086, -1.19063623, -1.19791686, -1.20468768, -1.21098179,\n",
       "       -1.21683053, -1.22226349, -1.22730856, -1.23199199, -1.23633849,\n",
       "       -1.24037122, -1.24411192, -1.24758094, -1.25079735, -1.25377896,\n",
       "       -1.25654241, -1.25910322, -1.2614759 , -1.26367394, -1.26570992,\n",
       "       -1.26759557, -1.26934179, -1.27095869, -1.27245574, -1.27384168,\n",
       "       -1.27512464, -1.2763122 , -1.27741137, -1.27842865, -1.27937009,\n",
       "       -1.28024128, -1.28104744, -1.28179338, -1.28248356, -1.28312213,\n",
       "       -1.28371292, -1.2842595 , -1.28476514, -1.2852329 , -1.28566562,\n",
       "       -1.2860659 , -1.28643616, -1.28677865, -1.28709545, -1.28738847,\n",
       "       -1.28765951, -1.28791021, -1.28814208, -1.28835653, -1.28855487,\n",
       "       -1.28873831, -1.28890797, -1.28906488, -1.28920999, -1.2893442 ,\n",
       "       -1.28946833, -1.28958312, -1.28968929, -1.28978746, -1.28987826])"
      ]
     },
     "execution_count": 61,
     "metadata": {},
     "output_type": "execute_result"
    }
   ],
   "source": [
    "def dvdt(v,t):\n",
    "    return 3*v**2 - 5\n",
    "v0 = 0\n",
    "time = np.linspace(0,1,100)\n",
    "sol = odeint(dvdt, v0, time)\n",
    "sol.T[0]"
   ]
  },
  {
   "cell_type": "code",
   "execution_count": 62,
   "id": "aad9f2a8",
   "metadata": {},
   "outputs": [
    {
     "data": {
      "text/plain": [
       "[<matplotlib.lines.Line2D at 0x7ff05c17b2e0>]"
      ]
     },
     "execution_count": 62,
     "metadata": {},
     "output_type": "execute_result"
    },
    {
     "data": {
      "image/png": "[encoded data removed]",
      "text/plain": [
       "<Figure size 432x288 with 1 Axes>"
      ]
     },
     "metadata": {
      "needs_background": "light"
     },
     "output_type": "display_data"
    }
   ],
   "source": [
    "plt.plot(time, sol.T[0])"
   ]
  },
  {
   "cell_type": "code",
   "execution_count": 65,
   "id": "cc8a524d",
   "metadata": {},
   "outputs": [],
   "source": [
    "## coupled differential equation\n",
    "# S is a vector we have S = (y1, y2), S is a place holder variable \n",
    "\n",
    "def dsdx(S, x):\n",
    "    y1, y2 = S\n",
    "    return [y1 + y2**2  + 3*x,        # return as a vector as a derivative (dy1 dx)\n",
    "           3*y1 + y2**3 - np.cos(x)]   # return as a vector as a derivative (dy2 dx)\n",
    "y1_0 = 0\n",
    "y2_0 = 0\n",
    "S_0 = (y1_0, y2_0)"
   ]
  },
  {
   "cell_type": "code",
   "execution_count": 69,
   "id": "1f9e03b1",
   "metadata": {},
   "outputs": [],
   "source": [
    "x = np.linspace(0,1, 100)\n",
    "sol = odeint(dsdx, S_0, x)\n",
    "y1 = sol.T[0]\n",
    "y2 = sol.T[1]"
   ]
  },
  {
   "cell_type": "code",
   "execution_count": 71,
   "id": "b71f7870",
   "metadata": {},
   "outputs": [
    {
     "data": {
      "text/plain": [
       "[<matplotlib.lines.Line2D at 0x7ff05c183ac0>]"
      ]
     },
     "execution_count": 71,
     "metadata": {},
     "output_type": "execute_result"
    },
    {
     "data": {
      "image/png": "[encoded data removed]",
      "text/plain": [
       "<Figure size 432x288 with 1 Axes>"
      ]
     },
     "metadata": {
      "needs_background": "light"
     },
     "output_type": "display_data"
    }
   ],
   "source": [
    "plt.plot(x, y1)\n",
    "plt.plot(x, y2)"
   ]
  },
  {
   "cell_type": "code",
   "execution_count": 72,
   "id": "1d6e33b1",
   "metadata": {},
   "outputs": [],
   "source": [
    "# seconf order diffrential equation\n",
    "# scipy can only solve first order differenctial equations do we split the second order differential equaltion \n",
    "# in to first order equations\n",
    "\n",
    "# S = (theta,omega)\n",
    "\n",
    "def dSdt(S, t):\n",
    "    theta, omega = S\n",
    "    return [omega,\n",
    "           np.sin(theta)]\n",
    "theta0 = np.pi/4\n",
    "omega0 = 0\n",
    "S0 = (theta0, omega0)\n"
   ]
  },
  {
   "cell_type": "code",
   "execution_count": 73,
   "id": "f7bd792e",
   "metadata": {},
   "outputs": [],
   "source": [
    "t = np.linspace(0,20,100)\n",
    "sol = odeint(dSdt, S0, t)\n",
    "theta, omega = sol.T"
   ]
  },
  {
   "cell_type": "code",
   "execution_count": 74,
   "id": "9f7920eb",
   "metadata": {},
   "outputs": [
    {
     "data": {
      "text/plain": [
       "[<matplotlib.lines.Line2D at 0x7ff05c1754c0>]"
      ]
     },
     "execution_count": 74,
     "metadata": {},
     "output_type": "execute_result"
    },
    {
     "data": {
      "image/png": "[encoded data removed]",
      "text/plain": [
       "<Figure size 432x288 with 1 Axes>"
      ]
     },
     "metadata": {
      "needs_background": "light"
     },
     "output_type": "display_data"
    }
   ],
   "source": [
    "plt.plot(t, theta)\n",
    "plt.plot(t, omega)"
   ]
  },
  {
   "cell_type": "code",
   "execution_count": 81,
   "id": "0600c54b",
   "metadata": {},
   "outputs": [
    {
     "data": {
      "text/plain": [
       "[<matplotlib.lines.Line2D at 0x7ff0593c1fd0>]"
      ]
     },
     "execution_count": 81,
     "metadata": {},
     "output_type": "execute_result"
    },
    {
     "data": {
      "image/png": "[encoded data removed]",
      "text/plain": [
       "<Figure size 432x288 with 1 Axes>"
      ]
     },
     "metadata": {
      "needs_background": "light"
     },
     "output_type": "display_data"
    }
   ],
   "source": [
    "### fourier transform\n",
    "time = np.linspace(0, 10*np.pi, 100)\n",
    "x = np.sin(2*np.pi*time) + np.sin(4*np.pi*time) + 0.1*np.random.randn(len(time))\n",
    "plt.plot(time, x)"
   ]
  },
  {
   "cell_type": "code",
   "execution_count": 91,
   "id": "d2f5fbc4",
   "metadata": {},
   "outputs": [
    {
     "data": {
      "text/plain": [
       "[<matplotlib.lines.Line2D at 0x7ff05cc47100>]"
      ]
     },
     "execution_count": 91,
     "metadata": {},
     "output_type": "execute_result"
    },
    {
     "data": {
      "image/png": "[encoded data removed]",
      "text/plain": [
       "<Figure size 432x288 with 1 Axes>"
      ]
     },
     "metadata": {
      "needs_background": "light"
     },
     "output_type": "display_data"
    }
   ],
   "source": [
    "\n",
    "\n",
    "from scipy.fft import fft, fftfreq\n",
    "N = len(x)\n",
    "yf = fft(x)[:N//2]  # this is the fourirer transform\n",
    "xf = fftfreq(N, np.diff(t)[0])[:N//2]  # these are the frequencies \n",
    "\n",
    "#plt.plot(np.abs(yf))\n",
    "\n",
    "# np.diff()\n",
    "plt.plot(xf, np.abs(yf))  # xf is the frequency and yf is the is the fourier trasnforms "
   ]
  },
  {
   "cell_type": "code",
   "execution_count": 92,
   "id": "e3811980",
   "metadata": {},
   "outputs": [
    {
     "data": {
      "text/plain": [
       "array([1.42591231])"
      ]
     },
     "execution_count": 92,
     "metadata": {},
     "output_type": "execute_result"
    }
   ],
   "source": [
    "## complicated examples \n",
    "\n",
    "\n",
    "\n",
    "def f(A): \n",
    "    integrand = lambda t: 2 / (1 + np.abs(A*np.sin(np.pi*t/10)))**2 + 5*np.sqrt(1+(np.pi*A/10)**2 * np.cos(np.pi * t / 10)**2)\n",
    "    return quad(integrand, 0, 10)[0]\n",
    "\n",
    "minimize(f, 0.001, method=\"CG\").x\n",
    "\n"
   ]
  },
  {
   "cell_type": "code",
   "execution_count": 98,
   "id": "109d9919",
   "metadata": {},
   "outputs": [],
   "source": [
    "time = np.array([ 0.,  1.04347826,  2.08695652,  3.13043478,  4.17391304,\n",
    "        5.2173913 ,  6.26086957,  7.30434783,  8.34782609,  9.39130435,\n",
    "       10.43478261, 11.47826087, 12.52173913, 13.56521739, 14.60869565,\n",
    "       15.65217391, 16.69565217, 17.73913043, 18.7826087 , 19.82608696,\n",
    "       20.86956522, 21.91304348, 22.95652174, 24.        ])\n",
    "\n",
    "temp_m = np.array([283.2322975, 284.6945461, 286.2259041, 287.8603625, 289.6440635,\n",
    "       291.6187583, 293.7939994, 296.1148895, 298.4395788, 300.5430675,\n",
    "       302.1566609, 303.0363609, 303.0363609, 302.1566609, 300.5430675,\n",
    "       298.4395788, 296.1148895, 293.7939994, 291.6187583, 289.6440635,\n",
    "       287.8603625, 286.2259041, 284.6945461, 283.2322975])"
   ]
  },
  {
   "cell_type": "code",
   "execution_count": 99,
   "id": "bb54dd35",
   "metadata": {},
   "outputs": [
    {
     "data": {
      "text/plain": [
       "Text(0, 0.5, 'Temperature [K]')"
      ]
     },
     "execution_count": 99,
     "metadata": {},
     "output_type": "execute_result"
    },
    {
     "data": {
      "image/png": "[encoded data removed]",
      "text/plain": [
       "<Figure size 432x288 with 1 Axes>"
      ]
     },
     "metadata": {
      "needs_background": "light"
     },
     "output_type": "display_data"
    }
   ],
   "source": [
    "plt.scatter(time, temp_m)\n",
    "plt.xlabel('Time [hour]')\n",
    "plt.ylabel('Temperature [K]')"
   ]
  },
  {
   "cell_type": "code",
   "execution_count": 100,
   "id": "b34f6405",
   "metadata": {},
   "outputs": [
    {
     "data": {
      "text/plain": [
       "array(285.12858559)"
      ]
     },
     "execution_count": 100,
     "metadata": {},
     "output_type": "execute_result"
    }
   ],
   "source": [
    "Ts = interp1d(time, temp_m, kind='cubic') # Ts as a function of time\n",
    "Ts(1.345)"
   ]
  },
  {
   "cell_type": "code",
   "execution_count": 113,
   "id": "2845624e",
   "metadata": {},
   "outputs": [],
   "source": [
    "\n",
    "\n",
    "def dTdt(T, t):\n",
    "    return -0.5*(T-Ts(t))\n",
    "\n",
    "times = np.linspace(1, 23, 1000)\n",
    "T0 = 284.6945461\n",
    "\n",
    "sol = odeint(dTdt, T0, times)\n",
    "\n",
    "sol = sol.T[0]"
   ]
  },
  {
   "cell_type": "code",
   "execution_count": 114,
   "id": "1f9a6024",
   "metadata": {},
   "outputs": [
    {
     "data": {
      "text/plain": [
       "<matplotlib.legend.Legend at 0x7ff05d0ea220>"
      ]
     },
     "execution_count": 114,
     "metadata": {},
     "output_type": "execute_result"
    },
    {
     "data": {
      "image/png": "[encoded data removed]",
      "text/plain": [
       "<Figure size 432x288 with 1 Axes>"
      ]
     },
     "metadata": {
      "needs_background": "light"
     },
     "output_type": "display_data"
    }
   ],
   "source": [
    "\n",
    "\n",
    "plt.plot(times, sol, label='Shallow Water temp')\n",
    "plt.scatter(t_m, temp_m, color='r', label='Outside Temp')\n",
    "plt.legend()\n",
    "\n"
   ]
  },
  {
   "cell_type": "code",
   "execution_count": 115,
   "id": "44f6a12d",
   "metadata": {},
   "outputs": [
    {
     "data": {
      "text/plain": [
       "array([ 1.33333333, -0.66666667,  2.66666667, -1.33333333])"
      ]
     },
     "execution_count": 115,
     "metadata": {},
     "output_type": "execute_result"
    }
   ],
   "source": [
    "from scipy.linalg import solve_triangular  # AX = B equation solving a lower traingular matrix, gives solution for X \n",
    "a = np.array([[3, 0, 0, 0],\n",
    "              [2, 1, 0, 0],\n",
    "              [1, 0, 1, 0],\n",
    "              [1, 1, 1, 1]])\n",
    "b = np.array([4, 2, 4, 2])\n",
    "x = solve_triangular(a, b, lower=True)\n",
    "x"
   ]
  },
  {
   "cell_type": "code",
   "execution_count": 118,
   "id": "6dde5516",
   "metadata": {},
   "outputs": [
    {
     "data": {
      "text/plain": [
       "array([ 1.66666667, -1.        , -2.66666667,  2.33333333])"
      ]
     },
     "execution_count": 118,
     "metadata": {},
     "output_type": "execute_result"
    }
   ],
   "source": [
    "# toplitz matrixes \n",
    "from scipy.linalg import solve_toeplitz, toeplitz # AX = B, we can solve for X\n",
    "# a Toplitz matrix is somethig where all the diagonals are the same\n",
    "# for example\n",
    "toplitz = np.array([[1,-1,2,3],\n",
    "                   [3,1,-1,2],\n",
    "                   [6,3,1,-1], \n",
    "                   [10,6,3,1]])\n",
    "\n",
    "c_1 = np.array([1, 3, 6, 10])    # First column of T\n",
    "r_1 = np.array([1, -1, -2, -3])  # First row of T\n",
    "b = np.array([1, 2, 2, 5])\n",
    "\n",
    "x = solve_toeplitz((c_1, r_1), b)\n",
    "x\n"
   ]
  },
  {
   "cell_type": "code",
   "execution_count": 131,
   "id": "e78e63ed",
   "metadata": {},
   "outputs": [],
   "source": [
    "# eigen value problems\n",
    "# tradiagonal matrices  meaning diagonal has 3 in all values , toplitz = contsant diagonals\n",
    "# Ax = lambda x, where lambda is the eigen values, x is the eigen vector and A is any matrix \n",
    "\n",
    "from scipy.linalg import eigh_tridiagonal\n",
    "d = 3*np.ones(4)\n",
    "e = -1*np.ones(3)\n",
    "w, v = eigh_tridiagonal(d, e) #here v is the eigen vectors matrix and w is the eigen value matrix \n"
   ]
  },
  {
   "cell_type": "code",
   "execution_count": 132,
   "id": "f700bbaf",
   "metadata": {},
   "outputs": [
    {
     "data": {
      "text/plain": [
       "array([0.37174803, 0.60150096, 0.60150096, 0.37174803])"
      ]
     },
     "execution_count": 132,
     "metadata": {},
     "output_type": "execute_result"
    }
   ],
   "source": [
    "# if we transpose the v matrix then we get one dimensional array\n",
    "v.T[0] # first eigen vector"
   ]
  },
  {
   "cell_type": "code",
   "execution_count": 133,
   "id": "efce2aad",
   "metadata": {},
   "outputs": [],
   "source": [
    "A = np.diag(d) + np.diag(e, k = 1) + np.diag(e, k = -1)"
   ]
  },
  {
   "cell_type": "code",
   "execution_count": 134,
   "id": "79a2b013",
   "metadata": {},
   "outputs": [
    {
     "data": {
      "text/plain": [
       "array([[ 3., -1.,  0.,  0.],\n",
       "       [-1.,  3., -1.,  0.],\n",
       "       [ 0., -1.,  3., -1.],\n",
       "       [ 0.,  0., -1.,  3.]])"
      ]
     },
     "execution_count": 134,
     "metadata": {},
     "output_type": "execute_result"
    }
   ],
   "source": [
    "A"
   ]
  },
  {
   "cell_type": "code",
   "execution_count": 135,
   "id": "e35eb767",
   "metadata": {},
   "outputs": [
    {
     "data": {
      "text/plain": [
       "array([ 1.43275483,  0.88549118, -0.88549118, -1.43275483])"
      ]
     },
     "execution_count": 135,
     "metadata": {},
     "output_type": "execute_result"
    }
   ],
   "source": [
    "A@v.T[1] # this is the matrix multiplication # AX"
   ]
  },
  {
   "cell_type": "code",
   "execution_count": 137,
   "id": "a4af605a",
   "metadata": {},
   "outputs": [
    {
     "data": {
      "text/plain": [
       "array([ 1.43275483,  0.88549118, -0.88549118, -1.43275483])"
      ]
     },
     "execution_count": 137,
     "metadata": {},
     "output_type": "execute_result"
    }
   ],
   "source": [
    "# and  , here lambda X\n",
    "w[1] * v.T[1]"
   ]
  },
  {
   "cell_type": "code",
   "execution_count": 138,
   "id": "35dae1a5",
   "metadata": {},
   "outputs": [
    {
     "data": {
      "text/plain": [
       "array([[ 0,  3, 11, 44],\n",
       "       [ 3,  0,  8, 41],\n",
       "       [11,  8,  0, 33],\n",
       "       [44, 41, 33,  0]])"
      ]
     },
     "execution_count": 138,
     "metadata": {},
     "output_type": "execute_result"
    }
   ],
   "source": [
    "# special matrices\n",
    "\n",
    "from scipy.linalg import fiedler\n",
    "fiedler([1, 4, 12, 45])\n",
    "\n"
   ]
  },
  {
   "cell_type": "code",
   "execution_count": 140,
   "id": "813e173f",
   "metadata": {},
   "outputs": [],
   "source": [
    "# decomposition of the metrices\n",
    "from scipy.linalg import lu\n",
    "A = np.array([[2, 5, 8, 7], [5, 2, 2, 8], [7, 5, 6, 6], [5, 4, 4, 8]])\n",
    "p, l, u = lu(A)"
   ]
  },
  {
   "cell_type": "code",
   "execution_count": 141,
   "id": "5b03a3e4",
   "metadata": {},
   "outputs": [
    {
     "data": {
      "text/plain": [
       "array([[0., 1., 0., 0.],\n",
       "       [0., 0., 0., 1.],\n",
       "       [1., 0., 0., 0.],\n",
       "       [0., 0., 1., 0.]])"
      ]
     },
     "execution_count": 141,
     "metadata": {},
     "output_type": "execute_result"
    }
   ],
   "source": [
    "p   # permutation matrix"
   ]
  },
  {
   "cell_type": "code",
   "execution_count": 142,
   "id": "460d56d6",
   "metadata": {},
   "outputs": [
    {
     "data": {
      "text/plain": [
       "array([[ 1.        ,  0.        ,  0.        ,  0.        ],\n",
       "       [ 0.28571429,  1.        ,  0.        ,  0.        ],\n",
       "       [ 0.71428571,  0.12      ,  1.        ,  0.        ],\n",
       "       [ 0.71428571, -0.44      , -0.46153846,  1.        ]])"
      ]
     },
     "execution_count": 142,
     "metadata": {},
     "output_type": "execute_result"
    }
   ],
   "source": [
    "l  # lower traingular matrix"
   ]
  },
  {
   "cell_type": "code",
   "execution_count": 143,
   "id": "e3d1c4e8",
   "metadata": {},
   "outputs": [
    {
     "data": {
      "text/plain": [
       "array([[ 7.        ,  5.        ,  6.        ,  6.        ],\n",
       "       [ 0.        ,  3.57142857,  6.28571429,  5.28571429],\n",
       "       [ 0.        ,  0.        , -1.04      ,  3.08      ],\n",
       "       [ 0.        ,  0.        ,  0.        ,  7.46153846]])"
      ]
     },
     "execution_count": 143,
     "metadata": {},
     "output_type": "execute_result"
    }
   ],
   "source": [
    "u # upper traiangular matrix"
   ]
  },
  {
   "cell_type": "code",
   "execution_count": 144,
   "id": "3c029444",
   "metadata": {},
   "outputs": [],
   "source": [
    "from scipy.linalg import cholesky  # cholesky matrix\n",
    "A = np.array([[1,0.2],[0.2,1]])\n",
    "C = cholesky(A, lower=True)  # he wants the lower trangular version"
   ]
  },
  {
   "cell_type": "code",
   "execution_count": 145,
   "id": "78f9cc35",
   "metadata": {},
   "outputs": [
    {
     "data": {
      "text/plain": [
       "array([[1.       , 0.       ],\n",
       "       [0.2      , 0.9797959]])"
      ]
     },
     "execution_count": 145,
     "metadata": {},
     "output_type": "execute_result"
    }
   ],
   "source": [
    "C\n"
   ]
  },
  {
   "cell_type": "code",
   "execution_count": 147,
   "id": "763ff94e",
   "metadata": {},
   "outputs": [
    {
     "data": {
      "text/plain": [
       "array([-2., -2., -2., -2., -2.])"
      ]
     },
     "execution_count": 147,
     "metadata": {},
     "output_type": "execute_result"
    }
   ],
   "source": [
    "### important is the sparse matrices\n",
    "from scipy.linalg import kron # kronecker product, NOT sum\n",
    "N= 5\n",
    "d = -2*np.ones(N)\n",
    "e = np.ones(N-1)\n",
    "D = np.diag(d) + np.diag(e, k=1) + np.diag(e, k=-1)\n",
    "D_kronsum = kron(D, np.identity(N)) + kron(np.identity(N),D)\n",
    "d"
   ]
  },
  {
   "cell_type": "code",
   "execution_count": 150,
   "id": "2c869183",
   "metadata": {},
   "outputs": [
    {
     "data": {
      "text/plain": [
       "array([[-2.,  1.,  0.,  0.,  0.],\n",
       "       [ 1., -2.,  1.,  0.,  0.],\n",
       "       [ 0.,  1., -2.,  1.,  0.],\n",
       "       [ 0.,  0.,  1., -2.,  1.],\n",
       "       [ 0.,  0.,  0.,  1., -2.]])"
      ]
     },
     "execution_count": 150,
     "metadata": {},
     "output_type": "execute_result"
    }
   ],
   "source": [
    "D"
   ]
  },
  {
   "cell_type": "code",
   "execution_count": 151,
   "id": "3bba8172",
   "metadata": {},
   "outputs": [
    {
     "data": {
      "text/plain": [
       "array([[-4.,  1.,  0.,  0.,  0.,  1.,  0.,  0.,  0.,  0.,  0.,  0.,  0.,\n",
       "         0.,  0.,  0.,  0.,  0.,  0.,  0.,  0.,  0.,  0.,  0.,  0.],\n",
       "       [ 1., -4.,  1.,  0.,  0.,  0.,  1.,  0.,  0.,  0.,  0.,  0.,  0.,\n",
       "         0.,  0.,  0.,  0.,  0.,  0.,  0.,  0.,  0.,  0.,  0.,  0.],\n",
       "       [ 0.,  1., -4.,  1.,  0.,  0.,  0.,  1.,  0.,  0.,  0.,  0.,  0.,\n",
       "         0.,  0.,  0.,  0.,  0.,  0.,  0.,  0.,  0.,  0.,  0.,  0.],\n",
       "       [ 0.,  0.,  1., -4.,  1.,  0.,  0.,  0.,  1.,  0.,  0.,  0.,  0.,\n",
       "         0.,  0.,  0.,  0.,  0.,  0.,  0.,  0.,  0.,  0.,  0.,  0.],\n",
       "       [ 0.,  0.,  0.,  1., -4.,  0.,  0.,  0.,  0.,  1.,  0.,  0.,  0.,\n",
       "         0.,  0.,  0.,  0.,  0.,  0.,  0.,  0.,  0.,  0.,  0.,  0.],\n",
       "       [ 1.,  0.,  0.,  0.,  0., -4.,  1.,  0.,  0.,  0.,  1.,  0.,  0.,\n",
       "         0.,  0.,  0.,  0.,  0.,  0.,  0.,  0.,  0.,  0.,  0.,  0.],\n",
       "       [ 0.,  1.,  0.,  0.,  0.,  1., -4.,  1.,  0.,  0.,  0.,  1.,  0.,\n",
       "         0.,  0.,  0.,  0.,  0.,  0.,  0.,  0.,  0.,  0.,  0.,  0.],\n",
       "       [ 0.,  0.,  1.,  0.,  0.,  0.,  1., -4.,  1.,  0.,  0.,  0.,  1.,\n",
       "         0.,  0.,  0.,  0.,  0.,  0.,  0.,  0.,  0.,  0.,  0.,  0.],\n",
       "       [ 0.,  0.,  0.,  1.,  0.,  0.,  0.,  1., -4.,  1.,  0.,  0.,  0.,\n",
       "         1.,  0.,  0.,  0.,  0.,  0.,  0.,  0.,  0.,  0.,  0.,  0.],\n",
       "       [ 0.,  0.,  0.,  0.,  1.,  0.,  0.,  0.,  1., -4.,  0.,  0.,  0.,\n",
       "         0.,  1.,  0.,  0.,  0.,  0.,  0.,  0.,  0.,  0.,  0.,  0.],\n",
       "       [ 0.,  0.,  0.,  0.,  0.,  1.,  0.,  0.,  0.,  0., -4.,  1.,  0.,\n",
       "         0.,  0.,  1.,  0.,  0.,  0.,  0.,  0.,  0.,  0.,  0.,  0.],\n",
       "       [ 0.,  0.,  0.,  0.,  0.,  0.,  1.,  0.,  0.,  0.,  1., -4.,  1.,\n",
       "         0.,  0.,  0.,  1.,  0.,  0.,  0.,  0.,  0.,  0.,  0.,  0.],\n",
       "       [ 0.,  0.,  0.,  0.,  0.,  0.,  0.,  1.,  0.,  0.,  0.,  1., -4.,\n",
       "         1.,  0.,  0.,  0.,  1.,  0.,  0.,  0.,  0.,  0.,  0.,  0.],\n",
       "       [ 0.,  0.,  0.,  0.,  0.,  0.,  0.,  0.,  1.,  0.,  0.,  0.,  1.,\n",
       "        -4.,  1.,  0.,  0.,  0.,  1.,  0.,  0.,  0.,  0.,  0.,  0.],\n",
       "       [ 0.,  0.,  0.,  0.,  0.,  0.,  0.,  0.,  0.,  1.,  0.,  0.,  0.,\n",
       "         1., -4.,  0.,  0.,  0.,  0.,  1.,  0.,  0.,  0.,  0.,  0.],\n",
       "       [ 0.,  0.,  0.,  0.,  0.,  0.,  0.,  0.,  0.,  0.,  1.,  0.,  0.,\n",
       "         0.,  0., -4.,  1.,  0.,  0.,  0.,  1.,  0.,  0.,  0.,  0.],\n",
       "       [ 0.,  0.,  0.,  0.,  0.,  0.,  0.,  0.,  0.,  0.,  0.,  1.,  0.,\n",
       "         0.,  0.,  1., -4.,  1.,  0.,  0.,  0.,  1.,  0.,  0.,  0.],\n",
       "       [ 0.,  0.,  0.,  0.,  0.,  0.,  0.,  0.,  0.,  0.,  0.,  0.,  1.,\n",
       "         0.,  0.,  0.,  1., -4.,  1.,  0.,  0.,  0.,  1.,  0.,  0.],\n",
       "       [ 0.,  0.,  0.,  0.,  0.,  0.,  0.,  0.,  0.,  0.,  0.,  0.,  0.,\n",
       "         1.,  0.,  0.,  0.,  1., -4.,  1.,  0.,  0.,  0.,  1.,  0.],\n",
       "       [ 0.,  0.,  0.,  0.,  0.,  0.,  0.,  0.,  0.,  0.,  0.,  0.,  0.,\n",
       "         0.,  1.,  0.,  0.,  0.,  1., -4.,  0.,  0.,  0.,  0.,  1.],\n",
       "       [ 0.,  0.,  0.,  0.,  0.,  0.,  0.,  0.,  0.,  0.,  0.,  0.,  0.,\n",
       "         0.,  0.,  1.,  0.,  0.,  0.,  0., -4.,  1.,  0.,  0.,  0.],\n",
       "       [ 0.,  0.,  0.,  0.,  0.,  0.,  0.,  0.,  0.,  0.,  0.,  0.,  0.,\n",
       "         0.,  0.,  0.,  1.,  0.,  0.,  0.,  1., -4.,  1.,  0.,  0.],\n",
       "       [ 0.,  0.,  0.,  0.,  0.,  0.,  0.,  0.,  0.,  0.,  0.,  0.,  0.,\n",
       "         0.,  0.,  0.,  0.,  1.,  0.,  0.,  0.,  1., -4.,  1.,  0.],\n",
       "       [ 0.,  0.,  0.,  0.,  0.,  0.,  0.,  0.,  0.,  0.,  0.,  0.,  0.,\n",
       "         0.,  0.,  0.,  0.,  0.,  1.,  0.,  0.,  0.,  1., -4.,  1.],\n",
       "       [ 0.,  0.,  0.,  0.,  0.,  0.,  0.,  0.,  0.,  0.,  0.,  0.,  0.,\n",
       "         0.,  0.,  0.,  0.,  0.,  0.,  1.,  0.,  0.,  0.,  1., -4.]])"
      ]
     },
     "execution_count": 151,
     "metadata": {},
     "output_type": "execute_result"
    }
   ],
   "source": [
    "D_kronsum"
   ]
  },
  {
   "cell_type": "code",
   "execution_count": 185,
   "id": "8d8b1880",
   "metadata": {},
   "outputs": [
    {
     "data": {
      "text/plain": [
       "<10000x10000 sparse matrix of type '<class 'numpy.float64'>'\n",
       "\twith 49600 stored elements in Compressed Sparse Row format>"
      ]
     },
     "execution_count": 185,
     "metadata": {},
     "output_type": "execute_result"
    }
   ],
   "source": [
    "from scipy import sparse\n",
    "N = 100\n",
    "diag = np.ones([N])\n",
    "diags = np.array([diag, -2*diag, diag])\n",
    "D = sparse.spdiags(diags, np.array([-1,0,1]), N, N)\n",
    "sparse.kronsum(D,D)\n",
    "\n"
   ]
  },
  {
   "cell_type": "code",
   "execution_count": 180,
   "id": "099eaf3e",
   "metadata": {},
   "outputs": [
    {
     "data": {
      "text/plain": [
       "array([[2., 3., 0., 0., 0., 0., 0., 0., 0., 0.],\n",
       "       [3., 2., 3., 0., 0., 0., 0., 0., 0., 0.],\n",
       "       [0., 3., 2., 3., 0., 0., 0., 0., 0., 0.],\n",
       "       [0., 0., 3., 2., 3., 0., 0., 0., 0., 0.],\n",
       "       [0., 0., 0., 3., 2., 3., 0., 0., 0., 0.],\n",
       "       [0., 0., 0., 0., 3., 2., 3., 0., 0., 0.],\n",
       "       [0., 0., 0., 0., 0., 3., 2., 3., 0., 0.],\n",
       "       [0., 0., 0., 0., 0., 0., 3., 2., 3., 0.],\n",
       "       [0., 0., 0., 0., 0., 0., 0., 3., 2., 3.],\n",
       "       [0., 0., 0., 0., 0., 0., 0., 0., 3., 2.]])"
      ]
     },
     "execution_count": 180,
     "metadata": {},
     "output_type": "execute_result"
    }
   ],
   "source": [
    "a = np.diag(2 * np.ones(10))  # just a way of making diagonal matrices\n",
    "b = np.diag(3* np.ones(10-1), k = 1)\n",
    "c = np.diag(3 * np.ones(10-1), k = -1)\n",
    "a + b + c"
   ]
  },
  {
   "cell_type": "code",
   "execution_count": 186,
   "id": "e49efd1c",
   "metadata": {},
   "outputs": [
    {
     "name": "stdout",
     "output_type": "stream",
     "text": [
      "  (1, 0)\t1.0\n",
      "  (2, 1)\t1.0\n",
      "  (3, 2)\t1.0\n",
      "  (4, 3)\t1.0\n",
      "  (5, 4)\t1.0\n",
      "  (6, 5)\t1.0\n",
      "  (7, 6)\t1.0\n",
      "  (8, 7)\t1.0\n",
      "  (9, 8)\t1.0\n",
      "  (10, 9)\t1.0\n",
      "  (11, 10)\t1.0\n",
      "  (12, 11)\t1.0\n",
      "  (13, 12)\t1.0\n",
      "  (14, 13)\t1.0\n",
      "  (15, 14)\t1.0\n",
      "  (16, 15)\t1.0\n",
      "  (17, 16)\t1.0\n",
      "  (18, 17)\t1.0\n",
      "  (19, 18)\t1.0\n",
      "  (20, 19)\t1.0\n",
      "  (21, 20)\t1.0\n",
      "  (22, 21)\t1.0\n",
      "  (23, 22)\t1.0\n",
      "  (24, 23)\t1.0\n",
      "  (25, 24)\t1.0\n",
      "  :\t:\n",
      "  (74, 75)\t1.0\n",
      "  (75, 76)\t1.0\n",
      "  (76, 77)\t1.0\n",
      "  (77, 78)\t1.0\n",
      "  (78, 79)\t1.0\n",
      "  (79, 80)\t1.0\n",
      "  (80, 81)\t1.0\n",
      "  (81, 82)\t1.0\n",
      "  (82, 83)\t1.0\n",
      "  (83, 84)\t1.0\n",
      "  (84, 85)\t1.0\n",
      "  (85, 86)\t1.0\n",
      "  (86, 87)\t1.0\n",
      "  (87, 88)\t1.0\n",
      "  (88, 89)\t1.0\n",
      "  (89, 90)\t1.0\n",
      "  (90, 91)\t1.0\n",
      "  (91, 92)\t1.0\n",
      "  (92, 93)\t1.0\n",
      "  (93, 94)\t1.0\n",
      "  (94, 95)\t1.0\n",
      "  (95, 96)\t1.0\n",
      "  (96, 97)\t1.0\n",
      "  (97, 98)\t1.0\n",
      "  (98, 99)\t1.0\n"
     ]
    }
   ],
   "source": [
    "print(D)"
   ]
  },
  {
   "cell_type": "code",
   "execution_count": 187,
   "id": "9fd512d5",
   "metadata": {},
   "outputs": [],
   "source": [
    "from scipy.stats import beta"
   ]
  },
  {
   "cell_type": "code",
   "execution_count": 189,
   "id": "82203904",
   "metadata": {},
   "outputs": [],
   "source": [
    "a,b = 2.5,3.1\n",
    "mean, var, skew, kurt = beta.stats(a,b, moments = 'mvsk')"
   ]
  },
  {
   "cell_type": "code",
   "execution_count": 190,
   "id": "8715142a",
   "metadata": {},
   "outputs": [
    {
     "data": {
      "text/plain": [
       "array(0.44642857)"
      ]
     },
     "execution_count": 190,
     "metadata": {},
     "output_type": "execute_result"
    }
   ],
   "source": [
    "mean"
   ]
  },
  {
   "cell_type": "code",
   "execution_count": 191,
   "id": "4c8bee41",
   "metadata": {},
   "outputs": [
    {
     "data": {
      "text/plain": [
       "array(0.03744395)"
      ]
     },
     "execution_count": 191,
     "metadata": {},
     "output_type": "execute_result"
    }
   ],
   "source": [
    "var"
   ]
  },
  {
   "cell_type": "code",
   "execution_count": 192,
   "id": "66d365c8",
   "metadata": {},
   "outputs": [
    {
     "data": {
      "text/plain": [
       "array(0.1457098)"
      ]
     },
     "execution_count": 192,
     "metadata": {},
     "output_type": "execute_result"
    }
   ],
   "source": [
    "skew"
   ]
  },
  {
   "cell_type": "code",
   "execution_count": 193,
   "id": "21af6c2a",
   "metadata": {},
   "outputs": [
    {
     "data": {
      "text/plain": [
       "array(-0.66953054)"
      ]
     },
     "execution_count": 193,
     "metadata": {},
     "output_type": "execute_result"
    }
   ],
   "source": [
    "kurt"
   ]
  },
  {
   "cell_type": "code",
   "execution_count": 211,
   "id": "fc253511",
   "metadata": {},
   "outputs": [
    {
     "data": {
      "text/plain": [
       "0.9406510288458398"
      ]
     },
     "execution_count": 211,
     "metadata": {},
     "output_type": "execute_result"
    }
   ],
   "source": [
    "beta.ppf(0.999,a,b)\n"
   ]
  },
  {
   "cell_type": "code",
   "execution_count": 209,
   "id": "fd3e463a",
   "metadata": {},
   "outputs": [
    {
     "data": {
      "text/plain": [
       "[<matplotlib.lines.Line2D at 0x7ff05ee891f0>]"
      ]
     },
     "execution_count": 209,
     "metadata": {},
     "output_type": "execute_result"
    },
    {
     "data": {
      "image/png": "[encoded data removed]",
      "text/plain": [
       "<Figure size 432x288 with 1 Axes>"
      ]
     },
     "metadata": {
      "needs_background": "light"
     },
     "output_type": "display_data"
    }
   ],
   "source": [
    "x = np.linspace(beta.ppf(0,a,b),beta.ppf(1,a,b),100)  # here beta.ppf gives the area which is to be used in \n",
    "                                                      # cumulative distribution ppf is the inverse of cumulative distribution\n",
    "plt.plot(x, beta.pdf(x,a,b))  # plotting the beta distribution"
   ]
  },
  {
   "cell_type": "code",
   "execution_count": 212,
   "id": "467ac2da",
   "metadata": {},
   "outputs": [],
   "source": [
    "from scipy.stats import norm"
   ]
  },
  {
   "cell_type": "code",
   "execution_count": 213,
   "id": "45d73b68",
   "metadata": {},
   "outputs": [],
   "source": [
    "mu = 1\n",
    "sigma = 2\n",
    "mean, var = norm.stats(loc=mu, scale=sigma, moments='mv')"
   ]
  },
  {
   "cell_type": "code",
   "execution_count": 214,
   "id": "52453789",
   "metadata": {},
   "outputs": [
    {
     "data": {
      "text/plain": [
       "[<matplotlib.lines.Line2D at 0x7ff05ef63610>]"
      ]
     },
     "execution_count": 214,
     "metadata": {},
     "output_type": "execute_result"
    },
    {
     "data": {
      "image/png": "[encoded data removed]",
      "text/plain": [
       "<Figure size 432x288 with 1 Axes>"
      ]
     },
     "metadata": {
      "needs_background": "light"
     },
     "output_type": "display_data"
    }
   ],
   "source": [
    "x = np.linspace(norm.ppf(0.01, mu, sigma), norm.ppf(0.99, mu, sigma), 100)\n",
    "plt.plot(x, norm.pdf(x, mu, sigma))"
   ]
  },
  {
   "cell_type": "code",
   "execution_count": 217,
   "id": "c5bc01cb",
   "metadata": {},
   "outputs": [
    {
     "data": {
      "text/plain": [
       "array(4.)"
      ]
     },
     "execution_count": 217,
     "metadata": {},
     "output_type": "execute_result"
    }
   ],
   "source": [
    "var"
   ]
  },
  {
   "cell_type": "code",
   "execution_count": 225,
   "id": "dec04ea6",
   "metadata": {},
   "outputs": [],
   "source": [
    "y = np.arange(-4,6,0.1)"
   ]
  },
  {
   "cell_type": "code",
   "execution_count": 226,
   "id": "815c15d1",
   "metadata": {},
   "outputs": [
    {
     "data": {
      "text/plain": [
       "[<matplotlib.lines.Line2D at 0x7ff05fea7670>]"
      ]
     },
     "execution_count": 226,
     "metadata": {},
     "output_type": "execute_result"
    },
    {
     "data": {
      "image/png": "[encoded data removed]",
      "text/plain": [
       "<Figure size 432x288 with 1 Axes>"
      ]
     },
     "metadata": {
      "needs_background": "light"
     },
     "output_type": "display_data"
    }
   ],
   "source": [
    "plt.plot(y,norm.pdf(y, mu, sigma))"
   ]
  },
  {
   "cell_type": "code",
   "execution_count": 236,
   "id": "163be91f",
   "metadata": {},
   "outputs": [],
   "source": [
    "##some examples of the ppf\n",
    "std = 4.1532\n",
    "mean = 172.7815\n",
    "ppf = norm.ppf(0.975, loc=172.7815, scale=4.1532)\n",
    "interval_value = std * ppf\n",
    "lower_95 = mean - interval_value\n",
    "upper_95 = mean + interval_value"
   ]
  },
  {
   "cell_type": "code",
   "execution_count": 244,
   "id": "0b5a702c",
   "metadata": {},
   "outputs": [
    {
     "data": {
      "image/png": "[encoded data removed]",
      "text/plain": [
       "<Figure size 432x288 with 1 Axes>"
      ]
     },
     "metadata": {
      "needs_background": "light"
     },
     "output_type": "display_data"
    }
   ],
   "source": [
    "upper_of_interval = norm.ppf(0.975, loc=172.7815, scale=4.1532)\n",
    "lower_of_interval = norm.ppf(0.025, loc=172.7815, scale=4.1532)\n",
    "\n",
    "\n",
    "x = np.linspace(norm.ppf(0.01, mean, std), norm.ppf(0.99, mean, std), 100)\n",
    "plt.plot(x, norm.pdf(x, mean, std))\n",
    "_ = plt.axvline(upper_of_interval, color='r', linestyle=':')\n",
    "_ = plt.axvline(lower_of_interval, color='r', linestyle=':')"
   ]
  },
  {
   "cell_type": "code",
   "execution_count": null,
   "id": "550c694f",
   "metadata": {},
   "outputs": [],
   "source": []
  }
 ],
 "metadata": {
  "kernelspec": {
   "display_name": "Python 3 (ipykernel)",
   "language": "python",
   "name": "python3"
  },
  "language_info": {
   "codemirror_mode": {
    "name": "ipython",
    "version": 3
   },
   "file_extension": ".py",
   "mimetype": "text/x-python",
   "name": "python",
   "nbconvert_exporter": "python",
   "pygments_lexer": "ipython3",
   "version": "3.8.11"
  }
 },
 "nbformat": 4,
 "nbformat_minor": 5
}
