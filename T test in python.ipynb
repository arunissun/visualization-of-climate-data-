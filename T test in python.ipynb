{
 "cells": [
  {
   "cell_type": "code",
   "execution_count": 1,
   "id": "d16c9878",
   "metadata": {},
   "outputs": [],
   "source": [
    "from scipy import stats\n",
    "import numpy as np"
   ]
  },
  {
   "cell_type": "code",
   "execution_count": 2,
   "id": "74080eeb",
   "metadata": {},
   "outputs": [],
   "source": [
    "#a = np.array([3.9,73.25,89.8,2.65,238.15,11.08,19.45,45.45,31.55,5.05])\n",
    "#b = np.array([20.8,55.35,10.2,22.95,29.65,43.7,10.75,19.45,6.55,37.05])"
   ]
  },
  {
   "cell_type": "code",
   "execution_count": 3,
   "id": "39f73f59",
   "metadata": {},
   "outputs": [],
   "source": [
    "#len(a),len(b)"
   ]
  },
  {
   "cell_type": "code",
   "execution_count": 4,
   "id": "185bc3d3",
   "metadata": {},
   "outputs": [],
   "source": [
    "#shapiro wilk test for normality\n",
    "#n1 = stats.shapiro(a)\n",
    "#n2 = stats.shapiro(b)\n",
    "#\n",
    "#print(n1)\n",
    "#print(n2)"
   ]
  },
  {
   "cell_type": "code",
   "execution_count": 5,
   "id": "8caea5df",
   "metadata": {},
   "outputs": [],
   "source": [
    "#h1 = stats.levene(a,b)\n",
    "#\n",
    "#\n",
    "#print(h1)\n"
   ]
  },
  {
   "cell_type": "code",
   "execution_count": 6,
   "id": "b2013438",
   "metadata": {},
   "outputs": [],
   "source": [
    "#n = 20\n",
    "## Buismess Volume group 0\n",
    "#bv0 = np.random.normal(loc=1, scale=.1, size=n)\n",
    "#\n",
    "## Buismess Volume group 1\n",
    "#bv1 = np.random.normal(loc=1.2, scale=.1, size=n)"
   ]
  },
  {
   "cell_type": "code",
   "execution_count": 7,
   "id": "fd844aff",
   "metadata": {},
   "outputs": [],
   "source": [
    "#a1 = stats.shapiro(bv0)\n",
    "#a2 = stats.shapiro(bv1)\n",
    "#\n",
    "#print(a1)\n",
    "#print(a2)"
   ]
  },
  {
   "cell_type": "code",
   "execution_count": 8,
   "id": "5bf063b2",
   "metadata": {},
   "outputs": [],
   "source": [
    "#import matplotlib.pyplot as plt\n",
    "#plt.hist(b)"
   ]
  },
  {
   "cell_type": "code",
   "execution_count": 9,
   "id": "07d6d491",
   "metadata": {},
   "outputs": [],
   "source": [
    "## Two-samples t-test\n",
    "#print(stats.ttest_ind(bv0, bv1))\n",
    "\n",
    "## Wilcoxon\n",
    "#print(stats.mannwhitneyu(bv0, bv1))"
   ]
  },
  {
   "cell_type": "code",
   "execution_count": 10,
   "id": "901b834c",
   "metadata": {},
   "outputs": [],
   "source": [
    "#print(stats.mannwhitneyu(a, b))\n",
    "#print(stats.ttest_ind(a, b))"
   ]
  },
  {
   "cell_type": "code",
   "execution_count": 11,
   "id": "2dd83f0d",
   "metadata": {},
   "outputs": [],
   "source": [
    "import pandas as pd\n",
    "df = pd.read_excel('/Users/varungandhi/Downloads/Month data.xlsx', header= 2)"
   ]
  },
  {
   "cell_type": "code",
   "execution_count": 12,
   "id": "5fc1b074",
   "metadata": {},
   "outputs": [],
   "source": [
    "df1 = df.iloc[0:12, :]\n",
    "df2 = df.iloc[16:,:]"
   ]
  },
  {
   "cell_type": "code",
   "execution_count": 13,
   "id": "cd6356ba",
   "metadata": {},
   "outputs": [],
   "source": [
    "df1.index= df1['Unnamed: 0']\n",
    "df2.index = df2['Unnamed: 0']"
   ]
  },
  {
   "cell_type": "code",
   "execution_count": 14,
   "id": "7d547ab2",
   "metadata": {},
   "outputs": [],
   "source": [
    "del df1['Unnamed: 0']\n",
    "del df2['Unnamed: 0']"
   ]
  },
  {
   "cell_type": "code",
   "execution_count": 15,
   "id": "cd0a6912",
   "metadata": {},
   "outputs": [],
   "source": [
    "df1t = df1.T\n",
    "df2t = df2.T"
   ]
  },
  {
   "cell_type": "code",
   "execution_count": 16,
   "id": "92547611",
   "metadata": {},
   "outputs": [],
   "source": [
    "e1 = []\n",
    "e2 = []\n",
    "for i in range(0,12):\n",
    "    a = df1t.iloc[:,i].values\n",
    "    b = stats.shapiro(a)\n",
    "    e1.append(b)\n",
    "    c = df2t.iloc[:,i].values\n",
    "    d = stats.shapiro(c)\n",
    "    e2.append(d)\n",
    "    \n",
    "def normality(lists):\n",
    "    \n",
    "    for i in range(len(lists)):\n",
    "        if lists[i][1] < 0.05:\n",
    "            print(lists[i][1],'not normal',lists.index(lists[i])+1)\n",
    "        else:\n",
    "            print(lists[i][1],'normal',lists.index(lists[i])+1)\n",
    "        \n",
    "    \n",
    "    "
   ]
  },
  {
   "cell_type": "code",
   "execution_count": 17,
   "id": "c1a12d1a",
   "metadata": {},
   "outputs": [
    {
     "name": "stdout",
     "output_type": "stream",
     "text": [
      "0.5615609884262085 normal 1\n",
      "0.0025267379824072123 not normal 2\n",
      "0.2786417305469513 normal 3\n",
      "0.7655144333839417 normal 4\n",
      "0.2682209610939026 normal 5\n",
      "0.6073752641677856 normal 6\n",
      "0.34401559829711914 normal 7\n",
      "0.48861849308013916 normal 8\n",
      "0.0672689825296402 normal 9\n",
      "0.13409900665283203 normal 10\n",
      "0.047006018459796906 not normal 11\n",
      "0.02771882526576519 not normal 12\n"
     ]
    }
   ],
   "source": [
    "normality(e1)"
   ]
  },
  {
   "cell_type": "code",
   "execution_count": 18,
   "id": "19181ea3",
   "metadata": {},
   "outputs": [
    {
     "name": "stdout",
     "output_type": "stream",
     "text": [
      "0.0013388050720095634 not normal 1\n",
      "0.0001112715108320117 not normal 2\n",
      "0.2691286504268646 normal 3\n",
      "0.03823305293917656 not normal 4\n",
      "0.0007662224816158414 not normal 5\n",
      "0.19582116603851318 normal 6\n",
      "0.009957347996532917 not normal 7\n",
      "0.005787856876850128 not normal 8\n",
      "0.00020100253459531814 not normal 9\n",
      "0.06590455025434494 normal 10\n",
      "0.7999510169029236 normal 11\n",
      "0.2638733983039856 normal 12\n"
     ]
    }
   ],
   "source": [
    "normality(e2)"
   ]
  },
  {
   "cell_type": "code",
   "execution_count": 44,
   "id": "d55f6f3b",
   "metadata": {},
   "outputs": [],
   "source": [
    "x = []\n",
    "y = []\n",
    "z = []\n",
    "for i in range(len(df1t.columns)):\n",
    "    a1 = df1t.iloc[:,i].values  \n",
    "    a2 = df2t.iloc[:,i].values \n",
    "    a1 = a1.astype('float64')\n",
    "    a2 = a2.astype('float64')\n",
    "    manw = stats.mannwhitneyu(a2, a1)\n",
    "    ttest = stats.ttest_ind(a2,a1)\n",
    "    tcrit = stats.t.ppf(q=1-.05/2,df=9)\n",
    "    #d = stat\n",
    "    y.append(manw)\n",
    "    x.append(ttest)\n",
    "    z.append(tcrit)"
   ]
  },
  {
   "cell_type": "code",
   "execution_count": 57,
   "id": "9cb5c09a",
   "metadata": {},
   "outputs": [],
   "source": [
    "z1 = [23]*12"
   ]
  },
  {
   "cell_type": "code",
   "execution_count": 70,
   "id": "eca64573",
   "metadata": {},
   "outputs": [],
   "source": [
    "def means(lists,crit):\n",
    "    aaa = []\n",
    "    bbb = []\n",
    "    ccc = []\n",
    "    for i in range(len(lists)):\n",
    "        pvalue = lists[i].pvalue\n",
    "        statistic = lists[i].statistic\n",
    "        tcritical = crit[i]\n",
    "        aaa.append(pvalue)\n",
    "        bbb.append(statistic)\n",
    "        ccc.append(tcritical)\n",
    "    return pd.DataFrame({'pvalue':np.array(aaa),'statistic':np.array(bbb),\n",
    "                        't_critical':np.array(ccc)})"
   ]
  },
  {
   "cell_type": "code",
   "execution_count": 73,
   "id": "4472d261",
   "metadata": {},
   "outputs": [],
   "source": [
    "t_test = means(x,z)\n",
    "man_test = means(y,z1)\n",
    "t_test.to_csv('/Users/varungandhi/Downloads/t_test.csv')\n",
    "man_test.to_csv('/Users/varungandhi/Downloads/man_test.csv')"
   ]
  },
  {
   "cell_type": "code",
   "execution_count": 36,
   "id": "3d09d0f1",
   "metadata": {},
   "outputs": [
    {
     "name": "stdout",
     "output_type": "stream",
     "text": [
      "Statistics=0.00, p=0.00001\n"
     ]
    }
   ],
   "source": [
    "batch_1 =[74.7,183.75,110.8,170.6,61.7,99.85,59.1,155.35,143.35,33.4]\n",
    "batch_2 =[11.95,8.1,3.05,1.1,10.25,0.1,2.55,9.95,1.6,7.6]\n",
    "stat, p_value = stats.mannwhitneyu(batch_2, batch_1,method='exact',use_continuity = False)\n",
    "print('Statistics=%.2f, p=%.5f' % (stat, p_value))"
   ]
  },
  {
   "cell_type": "code",
   "execution_count": null,
   "id": "781e3246",
   "metadata": {},
   "outputs": [],
   "source": []
  }
 ],
 "metadata": {
  "kernelspec": {
   "display_name": "Python [conda env:icclim]",
   "language": "python",
   "name": "conda-env-icclim-py"
  },
  "language_info": {
   "codemirror_mode": {
    "name": "ipython",
    "version": 3
   },
   "file_extension": ".py",
   "mimetype": "text/x-python",
   "name": "python",
   "nbconvert_exporter": "python",
   "pygments_lexer": "ipython3",
   "version": "3.8.12"
  }
 },
 "nbformat": 4,
 "nbformat_minor": 5
}
