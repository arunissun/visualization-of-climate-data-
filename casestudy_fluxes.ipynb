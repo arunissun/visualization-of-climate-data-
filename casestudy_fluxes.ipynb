{
 "cells": [
  {
   "cell_type": "code",
   "execution_count": 111,
   "id": "5cab31af",
   "metadata": {},
   "outputs": [],
   "source": [
    "from datetime import datetime, timedelta\n",
    "\n",
    "import numpy as np\n",
    "import pandas as pd\n",
    "import matplotlib.pyplot as plt\n",
    "import matplotlib.dates as mdates"
   ]
  },
  {
   "cell_type": "code",
   "execution_count": 162,
   "id": "175469f1",
   "metadata": {},
   "outputs": [],
   "source": [
    "synop = pd.read_excel('/Users/varungandhi/Downloads/Budapest-44527-10-perces.xlsx')\n",
    "synop = synop.rename(columns = {'idő (CET)':'Time (CET)'})\n",
    "synop = synop[(synop['Time (CET)'] >= '2021-01-28 00:30:00') & (synop['Time (CET)'] <= '2021-02-07 00:00:00')]\n",
    "synop = synop.reset_index()\n",
    "synop['Time (CET)'] = pd.to_datetime(synop['Time (CET)'])\n",
    "synop = synop.resample('30min', on = 'Time (CET)', closed = 'left').mean()\n",
    "\n",
    "\n",
    "synop = synop.reset_index()\n",
    "synop = synop.iloc[6:, :]\n",
    "synop = synop.reset_index()"
   ]
  },
  {
   "cell_type": "code",
   "execution_count": 113,
   "id": "ec76eccc",
   "metadata": {},
   "outputs": [],
   "source": [
    "soil_flux = pd.read_excel('/Volumes/Seagate Backup Plus Drive/data_exp1/soil_heat.xlsx', header= 1)\n"
   ]
  },
  {
   "cell_type": "code",
   "execution_count": 114,
   "id": "9c48e9ae",
   "metadata": {},
   "outputs": [],
   "source": [
    "soil_flux = soil_flux.iloc[24:, :]"
   ]
  },
  {
   "cell_type": "code",
   "execution_count": 115,
   "id": "890527db",
   "metadata": {},
   "outputs": [],
   "source": [
    "soil_flux.reset_index(inplace= True)"
   ]
  },
  {
   "cell_type": "code",
   "execution_count": 116,
   "id": "cb1d2252",
   "metadata": {},
   "outputs": [
    {
     "data": {
      "text/html": [
       "<div>\n",
       "<style scoped>\n",
       "    .dataframe tbody tr th:only-of-type {\n",
       "        vertical-align: middle;\n",
       "    }\n",
       "\n",
       "    .dataframe tbody tr th {\n",
       "        vertical-align: top;\n",
       "    }\n",
       "\n",
       "    .dataframe thead th {\n",
       "        text-align: right;\n",
       "    }\n",
       "</style>\n",
       "<table border=\"1\" class=\"dataframe\">\n",
       "  <thead>\n",
       "    <tr style=\"text-align: right;\">\n",
       "      <th></th>\n",
       "      <th>index</th>\n",
       "      <th>TIMESTAMP</th>\n",
       "      <th>RECORD</th>\n",
       "      <th>Shf_1_Avg</th>\n",
       "      <th>Shf_2_Avg</th>\n",
       "      <th>batt_volt_Avg</th>\n",
       "      <th>Unnamed: 5</th>\n",
       "    </tr>\n",
       "  </thead>\n",
       "  <tbody>\n",
       "    <tr>\n",
       "      <th>0</th>\n",
       "      <td>24</td>\n",
       "      <td>2020-12-29 15:40:00</td>\n",
       "      <td>55987</td>\n",
       "      <td>9.84</td>\n",
       "      <td>11.46</td>\n",
       "      <td>12.73</td>\n",
       "      <td>10.65</td>\n",
       "    </tr>\n",
       "    <tr>\n",
       "      <th>1</th>\n",
       "      <td>25</td>\n",
       "      <td>2020-12-29 15:41:00</td>\n",
       "      <td>55988</td>\n",
       "      <td>9.84</td>\n",
       "      <td>11.42</td>\n",
       "      <td>12.72</td>\n",
       "      <td>10.63</td>\n",
       "    </tr>\n",
       "    <tr>\n",
       "      <th>2</th>\n",
       "      <td>26</td>\n",
       "      <td>2020-12-29 15:42:00</td>\n",
       "      <td>55989</td>\n",
       "      <td>9.95</td>\n",
       "      <td>11.38</td>\n",
       "      <td>12.73</td>\n",
       "      <td>10.665</td>\n",
       "    </tr>\n",
       "    <tr>\n",
       "      <th>3</th>\n",
       "      <td>27</td>\n",
       "      <td>2020-12-29 15:43:00</td>\n",
       "      <td>55990</td>\n",
       "      <td>9.92</td>\n",
       "      <td>11.34</td>\n",
       "      <td>12.73</td>\n",
       "      <td>10.63</td>\n",
       "    </tr>\n",
       "    <tr>\n",
       "      <th>4</th>\n",
       "      <td>28</td>\n",
       "      <td>2020-12-29 15:44:00</td>\n",
       "      <td>55991</td>\n",
       "      <td>9.92</td>\n",
       "      <td>11.29</td>\n",
       "      <td>12.74</td>\n",
       "      <td>10.605</td>\n",
       "    </tr>\n",
       "    <tr>\n",
       "      <th>...</th>\n",
       "      <td>...</td>\n",
       "      <td>...</td>\n",
       "      <td>...</td>\n",
       "      <td>...</td>\n",
       "      <td>...</td>\n",
       "      <td>...</td>\n",
       "      <td>...</td>\n",
       "    </tr>\n",
       "    <tr>\n",
       "      <th>181260</th>\n",
       "      <td>181284</td>\n",
       "      <td>2021-05-04 12:46:00</td>\n",
       "      <td>237247</td>\n",
       "      <td>30.65</td>\n",
       "      <td>39.67</td>\n",
       "      <td>12.58</td>\n",
       "      <td>35.16</td>\n",
       "    </tr>\n",
       "    <tr>\n",
       "      <th>181261</th>\n",
       "      <td>181285</td>\n",
       "      <td>2021-05-04 12:47:00</td>\n",
       "      <td>237248</td>\n",
       "      <td>30.77</td>\n",
       "      <td>39.81</td>\n",
       "      <td>12.36</td>\n",
       "      <td>35.29</td>\n",
       "    </tr>\n",
       "    <tr>\n",
       "      <th>181262</th>\n",
       "      <td>181286</td>\n",
       "      <td>2021-05-04 12:48:00</td>\n",
       "      <td>237249</td>\n",
       "      <td>30.89</td>\n",
       "      <td>39.96</td>\n",
       "      <td>12.25</td>\n",
       "      <td>35.425</td>\n",
       "    </tr>\n",
       "    <tr>\n",
       "      <th>181263</th>\n",
       "      <td>181287</td>\n",
       "      <td>2021-05-04 12:49:00</td>\n",
       "      <td>237250</td>\n",
       "      <td>31.01</td>\n",
       "      <td>40.1</td>\n",
       "      <td>12.23</td>\n",
       "      <td>35.555</td>\n",
       "    </tr>\n",
       "    <tr>\n",
       "      <th>181264</th>\n",
       "      <td>181288</td>\n",
       "      <td>2021-05-04 12:50:00</td>\n",
       "      <td>237251</td>\n",
       "      <td>31.13</td>\n",
       "      <td>40.23</td>\n",
       "      <td>12.23</td>\n",
       "      <td>35.68</td>\n",
       "    </tr>\n",
       "  </tbody>\n",
       "</table>\n",
       "<p>181265 rows × 7 columns</p>\n",
       "</div>"
      ],
      "text/plain": [
       "         index            TIMESTAMP  RECORD Shf_1_Avg Shf_2_Avg batt_volt_Avg  \\\n",
       "0           24  2020-12-29 15:40:00   55987      9.84     11.46         12.73   \n",
       "1           25  2020-12-29 15:41:00   55988      9.84     11.42         12.72   \n",
       "2           26  2020-12-29 15:42:00   55989      9.95     11.38         12.73   \n",
       "3           27  2020-12-29 15:43:00   55990      9.92     11.34         12.73   \n",
       "4           28  2020-12-29 15:44:00   55991      9.92     11.29         12.74   \n",
       "...        ...                  ...     ...       ...       ...           ...   \n",
       "181260  181284  2021-05-04 12:46:00  237247     30.65     39.67         12.58   \n",
       "181261  181285  2021-05-04 12:47:00  237248     30.77     39.81         12.36   \n",
       "181262  181286  2021-05-04 12:48:00  237249     30.89     39.96         12.25   \n",
       "181263  181287  2021-05-04 12:49:00  237250     31.01      40.1         12.23   \n",
       "181264  181288  2021-05-04 12:50:00  237251     31.13     40.23         12.23   \n",
       "\n",
       "       Unnamed: 5  \n",
       "0           10.65  \n",
       "1           10.63  \n",
       "2          10.665  \n",
       "3           10.63  \n",
       "4          10.605  \n",
       "...           ...  \n",
       "181260      35.16  \n",
       "181261      35.29  \n",
       "181262     35.425  \n",
       "181263     35.555  \n",
       "181264      35.68  \n",
       "\n",
       "[181265 rows x 7 columns]"
      ]
     },
     "execution_count": 116,
     "metadata": {},
     "output_type": "execute_result"
    }
   ],
   "source": [
    "soil_flux"
   ]
  },
  {
   "cell_type": "code",
   "execution_count": 117,
   "id": "dbf1f28f",
   "metadata": {},
   "outputs": [],
   "source": [
    "soil_flux = soil_flux[(soil_flux['TIMESTAMP'] >= datetime.strptime('2020-12-29 15:40:00', '%Y-%m-%d %H:%M:%S')) &\n",
    "                     (soil_flux['TIMESTAMP'] <= datetime.strptime('2021-03-31 23:50:00', '%Y-%m-%d %H:%M:%S'))]\n"
   ]
  },
  {
   "cell_type": "code",
   "execution_count": 118,
   "id": "958daf36",
   "metadata": {},
   "outputs": [],
   "source": [
    "\n",
    "\n",
    "storage_flux = pd.read_excel('/Volumes/Seagate Backup Plus Drive/data_exp1/g_stor.xlsm', \n",
    "                             sheet_name= 'gstor', header=1)"
   ]
  },
  {
   "cell_type": "code",
   "execution_count": 119,
   "id": "d7537cfa",
   "metadata": {},
   "outputs": [],
   "source": [
    "storage_flux = storage_flux[(storage_flux['timestamp'] >= '2020-12-29 15:40:00') & \n",
    "                            (storage_flux['timestamp'] <= '2021-03-31 23:50:00')]\n"
   ]
  },
  {
   "cell_type": "code",
   "execution_count": 120,
   "id": "33105507",
   "metadata": {},
   "outputs": [
    {
     "data": {
      "text/plain": [
       "Index(['DTS', 'SW_5', 'DT10', 'DT5', 'DT2', 'Gstor', 'timestamp'], dtype='object')"
      ]
     },
     "execution_count": 120,
     "metadata": {},
     "output_type": "execute_result"
    }
   ],
   "source": [
    "storage_flux.columns"
   ]
  },
  {
   "cell_type": "code",
   "execution_count": 121,
   "id": "813d9b60",
   "metadata": {},
   "outputs": [],
   "source": [
    "storage_flux['time'] = pd.date_range(\"2020-12-29 13:40:00\",\"2021-03-31 21:50:00\", freq= '10T')"
   ]
  },
  {
   "cell_type": "code",
   "execution_count": 122,
   "id": "6f629c96",
   "metadata": {},
   "outputs": [
    {
     "data": {
      "text/html": [
       "<div>\n",
       "<style scoped>\n",
       "    .dataframe tbody tr th:only-of-type {\n",
       "        vertical-align: middle;\n",
       "    }\n",
       "\n",
       "    .dataframe tbody tr th {\n",
       "        vertical-align: top;\n",
       "    }\n",
       "\n",
       "    .dataframe thead th {\n",
       "        text-align: right;\n",
       "    }\n",
       "</style>\n",
       "<table border=\"1\" class=\"dataframe\">\n",
       "  <thead>\n",
       "    <tr style=\"text-align: right;\">\n",
       "      <th></th>\n",
       "      <th>DTS</th>\n",
       "      <th>SW_5</th>\n",
       "      <th>DT10</th>\n",
       "      <th>DT5</th>\n",
       "      <th>DT2</th>\n",
       "      <th>Gstor</th>\n",
       "      <th>timestamp</th>\n",
       "      <th>time</th>\n",
       "    </tr>\n",
       "  </thead>\n",
       "  <tbody>\n",
       "    <tr>\n",
       "      <th>0</th>\n",
       "      <td>0.009063</td>\n",
       "      <td>0.15085</td>\n",
       "      <td>0.0480</td>\n",
       "      <td>0.0130</td>\n",
       "      <td>-0.0050</td>\n",
       "      <td>1.986845</td>\n",
       "      <td>2020-12-29 15:40:00.000</td>\n",
       "      <td>2020-12-29 13:40:00</td>\n",
       "    </tr>\n",
       "    <tr>\n",
       "      <th>1</th>\n",
       "      <td>0.007162</td>\n",
       "      <td>0.15050</td>\n",
       "      <td>0.0420</td>\n",
       "      <td>0.0200</td>\n",
       "      <td>-0.0150</td>\n",
       "      <td>1.568883</td>\n",
       "      <td>2020-12-29 15:50:00.000</td>\n",
       "      <td>2020-12-29 13:50:00</td>\n",
       "    </tr>\n",
       "    <tr>\n",
       "      <th>2</th>\n",
       "      <td>-0.030094</td>\n",
       "      <td>0.15050</td>\n",
       "      <td>0.0385</td>\n",
       "      <td>0.0110</td>\n",
       "      <td>-0.0900</td>\n",
       "      <td>-6.591771</td>\n",
       "      <td>2020-12-29 15:59:59.990</td>\n",
       "      <td>2020-12-29 14:00:00</td>\n",
       "    </tr>\n",
       "    <tr>\n",
       "      <th>3</th>\n",
       "      <td>-0.049369</td>\n",
       "      <td>0.15050</td>\n",
       "      <td>0.0325</td>\n",
       "      <td>-0.0070</td>\n",
       "      <td>-0.1140</td>\n",
       "      <td>-10.813790</td>\n",
       "      <td>2020-12-29 16:09:59.985</td>\n",
       "      <td>2020-12-29 14:10:00</td>\n",
       "    </tr>\n",
       "    <tr>\n",
       "      <th>4</th>\n",
       "      <td>-0.056900</td>\n",
       "      <td>0.15050</td>\n",
       "      <td>0.0255</td>\n",
       "      <td>-0.0215</td>\n",
       "      <td>-0.1145</td>\n",
       "      <td>-12.463444</td>\n",
       "      <td>2020-12-29 16:19:59.980</td>\n",
       "      <td>2020-12-29 14:20:00</td>\n",
       "    </tr>\n",
       "    <tr>\n",
       "      <th>...</th>\n",
       "      <td>...</td>\n",
       "      <td>...</td>\n",
       "      <td>...</td>\n",
       "      <td>...</td>\n",
       "      <td>...</td>\n",
       "      <td>...</td>\n",
       "      <td>...</td>\n",
       "      <td>...</td>\n",
       "    </tr>\n",
       "    <tr>\n",
       "      <th>13293</th>\n",
       "      <td>-0.123188</td>\n",
       "      <td>0.06500</td>\n",
       "      <td>-0.0900</td>\n",
       "      <td>-0.1200</td>\n",
       "      <td>-0.1350</td>\n",
       "      <td>-21.059642</td>\n",
       "      <td>2021-03-31 23:09:59.995</td>\n",
       "      <td>2021-03-31 21:10:00</td>\n",
       "    </tr>\n",
       "    <tr>\n",
       "      <th>13294</th>\n",
       "      <td>-0.125375</td>\n",
       "      <td>0.06475</td>\n",
       "      <td>-0.0900</td>\n",
       "      <td>-0.1200</td>\n",
       "      <td>-0.1400</td>\n",
       "      <td>-21.415981</td>\n",
       "      <td>2021-03-31 23:19:59.995</td>\n",
       "      <td>2021-03-31 21:20:00</td>\n",
       "    </tr>\n",
       "    <tr>\n",
       "      <th>13295</th>\n",
       "      <td>-0.116500</td>\n",
       "      <td>0.06415</td>\n",
       "      <td>-0.0900</td>\n",
       "      <td>-0.1100</td>\n",
       "      <td>-0.1300</td>\n",
       "      <td>-19.860682</td>\n",
       "      <td>2021-03-31 23:29:59.995</td>\n",
       "      <td>2021-03-31 21:30:00</td>\n",
       "    </tr>\n",
       "    <tr>\n",
       "      <th>13296</th>\n",
       "      <td>-0.120438</td>\n",
       "      <td>0.06400</td>\n",
       "      <td>-0.0850</td>\n",
       "      <td>-0.1200</td>\n",
       "      <td>-0.1300</td>\n",
       "      <td>-20.521779</td>\n",
       "      <td>2021-03-31 23:39:59.995</td>\n",
       "      <td>2021-03-31 21:40:00</td>\n",
       "    </tr>\n",
       "    <tr>\n",
       "      <th>13297</th>\n",
       "      <td>-0.115937</td>\n",
       "      <td>0.06400</td>\n",
       "      <td>-0.0850</td>\n",
       "      <td>-0.1100</td>\n",
       "      <td>-0.1300</td>\n",
       "      <td>-19.755008</td>\n",
       "      <td>2021-03-31 23:49:59.995</td>\n",
       "      <td>2021-03-31 21:50:00</td>\n",
       "    </tr>\n",
       "  </tbody>\n",
       "</table>\n",
       "<p>13298 rows × 8 columns</p>\n",
       "</div>"
      ],
      "text/plain": [
       "            DTS     SW_5    DT10     DT5     DT2      Gstor  \\\n",
       "0      0.009063  0.15085  0.0480  0.0130 -0.0050   1.986845   \n",
       "1      0.007162  0.15050  0.0420  0.0200 -0.0150   1.568883   \n",
       "2     -0.030094  0.15050  0.0385  0.0110 -0.0900  -6.591771   \n",
       "3     -0.049369  0.15050  0.0325 -0.0070 -0.1140 -10.813790   \n",
       "4     -0.056900  0.15050  0.0255 -0.0215 -0.1145 -12.463444   \n",
       "...         ...      ...     ...     ...     ...        ...   \n",
       "13293 -0.123188  0.06500 -0.0900 -0.1200 -0.1350 -21.059642   \n",
       "13294 -0.125375  0.06475 -0.0900 -0.1200 -0.1400 -21.415981   \n",
       "13295 -0.116500  0.06415 -0.0900 -0.1100 -0.1300 -19.860682   \n",
       "13296 -0.120438  0.06400 -0.0850 -0.1200 -0.1300 -20.521779   \n",
       "13297 -0.115937  0.06400 -0.0850 -0.1100 -0.1300 -19.755008   \n",
       "\n",
       "                    timestamp                time  \n",
       "0     2020-12-29 15:40:00.000 2020-12-29 13:40:00  \n",
       "1     2020-12-29 15:50:00.000 2020-12-29 13:50:00  \n",
       "2     2020-12-29 15:59:59.990 2020-12-29 14:00:00  \n",
       "3     2020-12-29 16:09:59.985 2020-12-29 14:10:00  \n",
       "4     2020-12-29 16:19:59.980 2020-12-29 14:20:00  \n",
       "...                       ...                 ...  \n",
       "13293 2021-03-31 23:09:59.995 2021-03-31 21:10:00  \n",
       "13294 2021-03-31 23:19:59.995 2021-03-31 21:20:00  \n",
       "13295 2021-03-31 23:29:59.995 2021-03-31 21:30:00  \n",
       "13296 2021-03-31 23:39:59.995 2021-03-31 21:40:00  \n",
       "13297 2021-03-31 23:49:59.995 2021-03-31 21:50:00  \n",
       "\n",
       "[13298 rows x 8 columns]"
      ]
     },
     "execution_count": 122,
     "metadata": {},
     "output_type": "execute_result"
    }
   ],
   "source": [
    "storage_flux"
   ]
  },
  {
   "cell_type": "code",
   "execution_count": 123,
   "id": "7e950a18",
   "metadata": {},
   "outputs": [
    {
     "data": {
      "text/plain": [
       "Index(['index', 'TIMESTAMP', 'RECORD', 'Shf_1_Avg', 'Shf_2_Avg',\n",
       "       'batt_volt_Avg', 'Unnamed: 5'],\n",
       "      dtype='object')"
      ]
     },
     "execution_count": 123,
     "metadata": {},
     "output_type": "execute_result"
    }
   ],
   "source": [
    "soil_flux.columns"
   ]
  },
  {
   "cell_type": "code",
   "execution_count": 124,
   "id": "575261aa",
   "metadata": {},
   "outputs": [],
   "source": [
    "soil_flux = soil_flux.rename({'Unnamed: 5': 'soil_flux'}, axis=1)  # new method"
   ]
  },
  {
   "cell_type": "code",
   "execution_count": 125,
   "id": "1779ff9c",
   "metadata": {},
   "outputs": [],
   "source": [
    "soil_flux['TIMESTAMP'] = pd.to_datetime(soil_flux['TIMESTAMP'])\n"
   ]
  },
  {
   "cell_type": "code",
   "execution_count": 126,
   "id": "12f11679",
   "metadata": {},
   "outputs": [],
   "source": [
    "soil_flux= soil_flux.iloc[:, 1:].resample('10min', closed= 'left', on = 'TIMESTAMP').mean()"
   ]
  },
  {
   "cell_type": "code",
   "execution_count": 127,
   "id": "9305e2e6",
   "metadata": {},
   "outputs": [
    {
     "data": {
      "text/html": [
       "<div>\n",
       "<style scoped>\n",
       "    .dataframe tbody tr th:only-of-type {\n",
       "        vertical-align: middle;\n",
       "    }\n",
       "\n",
       "    .dataframe tbody tr th {\n",
       "        vertical-align: top;\n",
       "    }\n",
       "\n",
       "    .dataframe thead th {\n",
       "        text-align: right;\n",
       "    }\n",
       "</style>\n",
       "<table border=\"1\" class=\"dataframe\">\n",
       "  <thead>\n",
       "    <tr style=\"text-align: right;\">\n",
       "      <th></th>\n",
       "      <th>TIMESTAMP</th>\n",
       "      <th>RECORD</th>\n",
       "      <th>Shf_1_Avg</th>\n",
       "      <th>Shf_2_Avg</th>\n",
       "      <th>batt_volt_Avg</th>\n",
       "      <th>soil_flux</th>\n",
       "    </tr>\n",
       "    <tr>\n",
       "      <th>TIMESTAMP</th>\n",
       "      <th></th>\n",
       "      <th></th>\n",
       "      <th></th>\n",
       "      <th></th>\n",
       "      <th></th>\n",
       "      <th></th>\n",
       "    </tr>\n",
       "  </thead>\n",
       "  <tbody>\n",
       "    <tr>\n",
       "      <th>2020-12-29 15:40:00</th>\n",
       "      <td>2020-12-29 15:44:30</td>\n",
       "      <td>55991.5</td>\n",
       "      <td>9.8500</td>\n",
       "      <td>11.2750</td>\n",
       "      <td>12.732</td>\n",
       "      <td>10.5625</td>\n",
       "    </tr>\n",
       "    <tr>\n",
       "      <th>2020-12-29 15:50:00</th>\n",
       "      <td>2020-12-29 15:54:30</td>\n",
       "      <td>56001.5</td>\n",
       "      <td>9.5740</td>\n",
       "      <td>10.9110</td>\n",
       "      <td>12.735</td>\n",
       "      <td>10.2425</td>\n",
       "    </tr>\n",
       "    <tr>\n",
       "      <th>2020-12-29 16:00:00</th>\n",
       "      <td>2020-12-29 16:04:30</td>\n",
       "      <td>56011.5</td>\n",
       "      <td>9.1100</td>\n",
       "      <td>10.5480</td>\n",
       "      <td>12.725</td>\n",
       "      <td>9.8290</td>\n",
       "    </tr>\n",
       "    <tr>\n",
       "      <th>2020-12-29 16:10:00</th>\n",
       "      <td>2020-12-29 16:14:30</td>\n",
       "      <td>56021.5</td>\n",
       "      <td>8.5300</td>\n",
       "      <td>10.0520</td>\n",
       "      <td>12.739</td>\n",
       "      <td>9.2910</td>\n",
       "    </tr>\n",
       "    <tr>\n",
       "      <th>2020-12-29 16:20:00</th>\n",
       "      <td>2020-12-29 16:24:30</td>\n",
       "      <td>56031.5</td>\n",
       "      <td>7.8738</td>\n",
       "      <td>9.4490</td>\n",
       "      <td>12.731</td>\n",
       "      <td>8.6614</td>\n",
       "    </tr>\n",
       "    <tr>\n",
       "      <th>...</th>\n",
       "      <td>...</td>\n",
       "      <td>...</td>\n",
       "      <td>...</td>\n",
       "      <td>...</td>\n",
       "      <td>...</td>\n",
       "      <td>...</td>\n",
       "    </tr>\n",
       "    <tr>\n",
       "      <th>2021-03-31 23:10:00</th>\n",
       "      <td>2021-03-31 23:14:30</td>\n",
       "      <td>188915.5</td>\n",
       "      <td>-1.8328</td>\n",
       "      <td>-1.1438</td>\n",
       "      <td>13.033</td>\n",
       "      <td>-1.4883</td>\n",
       "    </tr>\n",
       "    <tr>\n",
       "      <th>2021-03-31 23:20:00</th>\n",
       "      <td>2021-03-31 23:24:30</td>\n",
       "      <td>188925.5</td>\n",
       "      <td>-2.2371</td>\n",
       "      <td>-1.5961</td>\n",
       "      <td>13.036</td>\n",
       "      <td>-1.9166</td>\n",
       "    </tr>\n",
       "    <tr>\n",
       "      <th>2021-03-31 23:30:00</th>\n",
       "      <td>2021-03-31 23:34:30</td>\n",
       "      <td>188935.5</td>\n",
       "      <td>-2.6296</td>\n",
       "      <td>-2.0270</td>\n",
       "      <td>13.038</td>\n",
       "      <td>-2.3283</td>\n",
       "    </tr>\n",
       "    <tr>\n",
       "      <th>2021-03-31 23:40:00</th>\n",
       "      <td>2021-03-31 23:44:30</td>\n",
       "      <td>188945.5</td>\n",
       "      <td>-3.0125</td>\n",
       "      <td>-2.5051</td>\n",
       "      <td>13.043</td>\n",
       "      <td>-2.7588</td>\n",
       "    </tr>\n",
       "    <tr>\n",
       "      <th>2021-03-31 23:50:00</th>\n",
       "      <td>2021-03-31 23:50:00</td>\n",
       "      <td>188951.0</td>\n",
       "      <td>-3.2170</td>\n",
       "      <td>-2.7200</td>\n",
       "      <td>13.040</td>\n",
       "      <td>-2.9685</td>\n",
       "    </tr>\n",
       "  </tbody>\n",
       "</table>\n",
       "<p>13298 rows × 6 columns</p>\n",
       "</div>"
      ],
      "text/plain": [
       "                              TIMESTAMP    RECORD  Shf_1_Avg  Shf_2_Avg  \\\n",
       "TIMESTAMP                                                                 \n",
       "2020-12-29 15:40:00 2020-12-29 15:44:30   55991.5     9.8500    11.2750   \n",
       "2020-12-29 15:50:00 2020-12-29 15:54:30   56001.5     9.5740    10.9110   \n",
       "2020-12-29 16:00:00 2020-12-29 16:04:30   56011.5     9.1100    10.5480   \n",
       "2020-12-29 16:10:00 2020-12-29 16:14:30   56021.5     8.5300    10.0520   \n",
       "2020-12-29 16:20:00 2020-12-29 16:24:30   56031.5     7.8738     9.4490   \n",
       "...                                 ...       ...        ...        ...   \n",
       "2021-03-31 23:10:00 2021-03-31 23:14:30  188915.5    -1.8328    -1.1438   \n",
       "2021-03-31 23:20:00 2021-03-31 23:24:30  188925.5    -2.2371    -1.5961   \n",
       "2021-03-31 23:30:00 2021-03-31 23:34:30  188935.5    -2.6296    -2.0270   \n",
       "2021-03-31 23:40:00 2021-03-31 23:44:30  188945.5    -3.0125    -2.5051   \n",
       "2021-03-31 23:50:00 2021-03-31 23:50:00  188951.0    -3.2170    -2.7200   \n",
       "\n",
       "                     batt_volt_Avg  soil_flux  \n",
       "TIMESTAMP                                      \n",
       "2020-12-29 15:40:00         12.732    10.5625  \n",
       "2020-12-29 15:50:00         12.735    10.2425  \n",
       "2020-12-29 16:00:00         12.725     9.8290  \n",
       "2020-12-29 16:10:00         12.739     9.2910  \n",
       "2020-12-29 16:20:00         12.731     8.6614  \n",
       "...                            ...        ...  \n",
       "2021-03-31 23:10:00         13.033    -1.4883  \n",
       "2021-03-31 23:20:00         13.036    -1.9166  \n",
       "2021-03-31 23:30:00         13.038    -2.3283  \n",
       "2021-03-31 23:40:00         13.043    -2.7588  \n",
       "2021-03-31 23:50:00         13.040    -2.9685  \n",
       "\n",
       "[13298 rows x 6 columns]"
      ]
     },
     "execution_count": 127,
     "metadata": {},
     "output_type": "execute_result"
    }
   ],
   "source": [
    "soil_flux"
   ]
  },
  {
   "cell_type": "code",
   "execution_count": 128,
   "id": "8b73a987",
   "metadata": {},
   "outputs": [
    {
     "data": {
      "text/plain": [
       "Index(['TIMESTAMP', 'RECORD', 'Shf_1_Avg', 'Shf_2_Avg', 'batt_volt_Avg',\n",
       "       'soil_flux'],\n",
       "      dtype='object')"
      ]
     },
     "execution_count": 128,
     "metadata": {},
     "output_type": "execute_result"
    }
   ],
   "source": [
    "soil_flux.columns"
   ]
  },
  {
   "cell_type": "code",
   "execution_count": 129,
   "id": "8efe9a95",
   "metadata": {},
   "outputs": [
    {
     "data": {
      "text/plain": [
       "Index(['DTS', 'SW_5', 'DT10', 'DT5', 'DT2', 'Gstor', 'timestamp', 'time'], dtype='object')"
      ]
     },
     "execution_count": 129,
     "metadata": {},
     "output_type": "execute_result"
    }
   ],
   "source": [
    "storage_flux.columns"
   ]
  },
  {
   "cell_type": "code",
   "execution_count": 130,
   "id": "7a1aa268",
   "metadata": {},
   "outputs": [
    {
     "name": "stdout",
     "output_type": "stream",
     "text": [
      "(13298, 8) (13298, 6)\n"
     ]
    }
   ],
   "source": [
    "print(storage_flux.shape, soil_flux.shape)"
   ]
  },
  {
   "cell_type": "code",
   "execution_count": 131,
   "id": "8266e23e",
   "metadata": {},
   "outputs": [],
   "source": [
    "soil_flux['timee'] = soil_flux.index\n",
    "soil_flux = soil_flux.drop('TIMESTAMP', axis = 1)\n",
    "soil_flux.reset_index(inplace = True)"
   ]
  },
  {
   "cell_type": "code",
   "execution_count": 132,
   "id": "f4476726",
   "metadata": {},
   "outputs": [
    {
     "data": {
      "text/html": [
       "<div>\n",
       "<style scoped>\n",
       "    .dataframe tbody tr th:only-of-type {\n",
       "        vertical-align: middle;\n",
       "    }\n",
       "\n",
       "    .dataframe tbody tr th {\n",
       "        vertical-align: top;\n",
       "    }\n",
       "\n",
       "    .dataframe thead th {\n",
       "        text-align: right;\n",
       "    }\n",
       "</style>\n",
       "<table border=\"1\" class=\"dataframe\">\n",
       "  <thead>\n",
       "    <tr style=\"text-align: right;\">\n",
       "      <th></th>\n",
       "      <th>DTS</th>\n",
       "      <th>SW_5</th>\n",
       "      <th>DT10</th>\n",
       "      <th>DT5</th>\n",
       "      <th>DT2</th>\n",
       "      <th>Gstor</th>\n",
       "      <th>timestamp</th>\n",
       "      <th>time</th>\n",
       "    </tr>\n",
       "  </thead>\n",
       "  <tbody>\n",
       "    <tr>\n",
       "      <th>0</th>\n",
       "      <td>0.009063</td>\n",
       "      <td>0.15085</td>\n",
       "      <td>0.0480</td>\n",
       "      <td>0.0130</td>\n",
       "      <td>-0.0050</td>\n",
       "      <td>1.986845</td>\n",
       "      <td>2020-12-29 15:40:00.000</td>\n",
       "      <td>2020-12-29 13:40:00</td>\n",
       "    </tr>\n",
       "    <tr>\n",
       "      <th>1</th>\n",
       "      <td>0.007162</td>\n",
       "      <td>0.15050</td>\n",
       "      <td>0.0420</td>\n",
       "      <td>0.0200</td>\n",
       "      <td>-0.0150</td>\n",
       "      <td>1.568883</td>\n",
       "      <td>2020-12-29 15:50:00.000</td>\n",
       "      <td>2020-12-29 13:50:00</td>\n",
       "    </tr>\n",
       "    <tr>\n",
       "      <th>2</th>\n",
       "      <td>-0.030094</td>\n",
       "      <td>0.15050</td>\n",
       "      <td>0.0385</td>\n",
       "      <td>0.0110</td>\n",
       "      <td>-0.0900</td>\n",
       "      <td>-6.591771</td>\n",
       "      <td>2020-12-29 15:59:59.990</td>\n",
       "      <td>2020-12-29 14:00:00</td>\n",
       "    </tr>\n",
       "    <tr>\n",
       "      <th>3</th>\n",
       "      <td>-0.049369</td>\n",
       "      <td>0.15050</td>\n",
       "      <td>0.0325</td>\n",
       "      <td>-0.0070</td>\n",
       "      <td>-0.1140</td>\n",
       "      <td>-10.813790</td>\n",
       "      <td>2020-12-29 16:09:59.985</td>\n",
       "      <td>2020-12-29 14:10:00</td>\n",
       "    </tr>\n",
       "    <tr>\n",
       "      <th>4</th>\n",
       "      <td>-0.056900</td>\n",
       "      <td>0.15050</td>\n",
       "      <td>0.0255</td>\n",
       "      <td>-0.0215</td>\n",
       "      <td>-0.1145</td>\n",
       "      <td>-12.463444</td>\n",
       "      <td>2020-12-29 16:19:59.980</td>\n",
       "      <td>2020-12-29 14:20:00</td>\n",
       "    </tr>\n",
       "    <tr>\n",
       "      <th>...</th>\n",
       "      <td>...</td>\n",
       "      <td>...</td>\n",
       "      <td>...</td>\n",
       "      <td>...</td>\n",
       "      <td>...</td>\n",
       "      <td>...</td>\n",
       "      <td>...</td>\n",
       "      <td>...</td>\n",
       "    </tr>\n",
       "    <tr>\n",
       "      <th>13293</th>\n",
       "      <td>-0.123188</td>\n",
       "      <td>0.06500</td>\n",
       "      <td>-0.0900</td>\n",
       "      <td>-0.1200</td>\n",
       "      <td>-0.1350</td>\n",
       "      <td>-21.059642</td>\n",
       "      <td>2021-03-31 23:09:59.995</td>\n",
       "      <td>2021-03-31 21:10:00</td>\n",
       "    </tr>\n",
       "    <tr>\n",
       "      <th>13294</th>\n",
       "      <td>-0.125375</td>\n",
       "      <td>0.06475</td>\n",
       "      <td>-0.0900</td>\n",
       "      <td>-0.1200</td>\n",
       "      <td>-0.1400</td>\n",
       "      <td>-21.415981</td>\n",
       "      <td>2021-03-31 23:19:59.995</td>\n",
       "      <td>2021-03-31 21:20:00</td>\n",
       "    </tr>\n",
       "    <tr>\n",
       "      <th>13295</th>\n",
       "      <td>-0.116500</td>\n",
       "      <td>0.06415</td>\n",
       "      <td>-0.0900</td>\n",
       "      <td>-0.1100</td>\n",
       "      <td>-0.1300</td>\n",
       "      <td>-19.860682</td>\n",
       "      <td>2021-03-31 23:29:59.995</td>\n",
       "      <td>2021-03-31 21:30:00</td>\n",
       "    </tr>\n",
       "    <tr>\n",
       "      <th>13296</th>\n",
       "      <td>-0.120438</td>\n",
       "      <td>0.06400</td>\n",
       "      <td>-0.0850</td>\n",
       "      <td>-0.1200</td>\n",
       "      <td>-0.1300</td>\n",
       "      <td>-20.521779</td>\n",
       "      <td>2021-03-31 23:39:59.995</td>\n",
       "      <td>2021-03-31 21:40:00</td>\n",
       "    </tr>\n",
       "    <tr>\n",
       "      <th>13297</th>\n",
       "      <td>-0.115937</td>\n",
       "      <td>0.06400</td>\n",
       "      <td>-0.0850</td>\n",
       "      <td>-0.1100</td>\n",
       "      <td>-0.1300</td>\n",
       "      <td>-19.755008</td>\n",
       "      <td>2021-03-31 23:49:59.995</td>\n",
       "      <td>2021-03-31 21:50:00</td>\n",
       "    </tr>\n",
       "  </tbody>\n",
       "</table>\n",
       "<p>13298 rows × 8 columns</p>\n",
       "</div>"
      ],
      "text/plain": [
       "            DTS     SW_5    DT10     DT5     DT2      Gstor  \\\n",
       "0      0.009063  0.15085  0.0480  0.0130 -0.0050   1.986845   \n",
       "1      0.007162  0.15050  0.0420  0.0200 -0.0150   1.568883   \n",
       "2     -0.030094  0.15050  0.0385  0.0110 -0.0900  -6.591771   \n",
       "3     -0.049369  0.15050  0.0325 -0.0070 -0.1140 -10.813790   \n",
       "4     -0.056900  0.15050  0.0255 -0.0215 -0.1145 -12.463444   \n",
       "...         ...      ...     ...     ...     ...        ...   \n",
       "13293 -0.123188  0.06500 -0.0900 -0.1200 -0.1350 -21.059642   \n",
       "13294 -0.125375  0.06475 -0.0900 -0.1200 -0.1400 -21.415981   \n",
       "13295 -0.116500  0.06415 -0.0900 -0.1100 -0.1300 -19.860682   \n",
       "13296 -0.120438  0.06400 -0.0850 -0.1200 -0.1300 -20.521779   \n",
       "13297 -0.115937  0.06400 -0.0850 -0.1100 -0.1300 -19.755008   \n",
       "\n",
       "                    timestamp                time  \n",
       "0     2020-12-29 15:40:00.000 2020-12-29 13:40:00  \n",
       "1     2020-12-29 15:50:00.000 2020-12-29 13:50:00  \n",
       "2     2020-12-29 15:59:59.990 2020-12-29 14:00:00  \n",
       "3     2020-12-29 16:09:59.985 2020-12-29 14:10:00  \n",
       "4     2020-12-29 16:19:59.980 2020-12-29 14:20:00  \n",
       "...                       ...                 ...  \n",
       "13293 2021-03-31 23:09:59.995 2021-03-31 21:10:00  \n",
       "13294 2021-03-31 23:19:59.995 2021-03-31 21:20:00  \n",
       "13295 2021-03-31 23:29:59.995 2021-03-31 21:30:00  \n",
       "13296 2021-03-31 23:39:59.995 2021-03-31 21:40:00  \n",
       "13297 2021-03-31 23:49:59.995 2021-03-31 21:50:00  \n",
       "\n",
       "[13298 rows x 8 columns]"
      ]
     },
     "execution_count": 132,
     "metadata": {},
     "output_type": "execute_result"
    }
   ],
   "source": [
    "storage_flux"
   ]
  },
  {
   "cell_type": "code",
   "execution_count": 148,
   "id": "11105437",
   "metadata": {},
   "outputs": [],
   "source": [
    "soil_flux_t = pd.concat([soil_flux, storage_flux],axis=1 )"
   ]
  },
  {
   "cell_type": "code",
   "execution_count": 149,
   "id": "4c01bd50",
   "metadata": {},
   "outputs": [
    {
     "data": {
      "text/plain": [
       "Index(['TIMESTAMP', 'RECORD', 'Shf_1_Avg', 'Shf_2_Avg', 'batt_volt_Avg',\n",
       "       'soil_flux', 'timee', 'DTS', 'SW_5', 'DT10', 'DT5', 'DT2', 'Gstor',\n",
       "       'timestamp', 'time'],\n",
       "      dtype='object')"
      ]
     },
     "execution_count": 149,
     "metadata": {},
     "output_type": "execute_result"
    }
   ],
   "source": [
    "soil_flux_t.columns"
   ]
  },
  {
   "cell_type": "code",
   "execution_count": 150,
   "id": "13e93959",
   "metadata": {},
   "outputs": [],
   "source": [
    "soil_flux_t['soil_flux_t'] = soil_flux_t['soil_flux'] + soil_flux_t['Gstor']"
   ]
  },
  {
   "cell_type": "code",
   "execution_count": 151,
   "id": "c486ee04",
   "metadata": {},
   "outputs": [
    {
     "data": {
      "text/plain": [
       "Index(['TIMESTAMP', 'RECORD', 'Shf_1_Avg', 'Shf_2_Avg', 'batt_volt_Avg',\n",
       "       'soil_flux', 'timee', 'DTS', 'SW_5', 'DT10', 'DT5', 'DT2', 'Gstor',\n",
       "       'timestamp', 'time', 'soil_flux_t'],\n",
       "      dtype='object')"
      ]
     },
     "execution_count": 151,
     "metadata": {},
     "output_type": "execute_result"
    }
   ],
   "source": [
    "soil_flux_t.columns"
   ]
  },
  {
   "cell_type": "code",
   "execution_count": 85,
   "id": "d7cd0d87",
   "metadata": {},
   "outputs": [],
   "source": [
    "f1 = pd.read_csv('/Volumes/Seagate Backup Plus Drive/eddypro_data/jan/28_01_01_02/eddypro_csat_full_output_2021-10-25T215503_exp.csv',\n",
    "                skiprows=1, usecols= np.r_[0:17])"
   ]
  },
  {
   "cell_type": "code",
   "execution_count": 86,
   "id": "0df2e611",
   "metadata": {},
   "outputs": [],
   "source": [
    "f1 = f1.iloc[1:, :]"
   ]
  },
  {
   "cell_type": "code",
   "execution_count": 87,
   "id": "88b70b61",
   "metadata": {},
   "outputs": [],
   "source": [
    "f2 = pd.read_csv('/Volumes/Seagate Backup Plus Drive/eddypro_data/feb/02_02_06_02/eddypro_csat_full_output_2021-10-25T195053_exp.csv',\n",
    "                skiprows=1, usecols= np.r_[0:17])"
   ]
  },
  {
   "cell_type": "code",
   "execution_count": 88,
   "id": "d9a76d02",
   "metadata": {},
   "outputs": [],
   "source": [
    "f2 = f2.iloc[1:, :]"
   ]
  },
  {
   "cell_type": "code",
   "execution_count": 89,
   "id": "8eaff7e6",
   "metadata": {},
   "outputs": [],
   "source": [
    "fluxes = pd.concat([f1, f2], axis = 0)"
   ]
  },
  {
   "cell_type": "code",
   "execution_count": 171,
   "id": "6c517105",
   "metadata": {},
   "outputs": [],
   "source": [
    "fluxes.reset_index(inplace= True)"
   ]
  },
  {
   "cell_type": "code",
   "execution_count": 152,
   "id": "813d7c7d",
   "metadata": {},
   "outputs": [],
   "source": [
    "soil_flux_t = soil_flux_t.resample('30min',on = 'TIMESTAMP', closed = 'left').mean()"
   ]
  },
  {
   "cell_type": "code",
   "execution_count": 153,
   "id": "f7f3e495",
   "metadata": {},
   "outputs": [
    {
     "data": {
      "text/html": [
       "<div>\n",
       "<style scoped>\n",
       "    .dataframe tbody tr th:only-of-type {\n",
       "        vertical-align: middle;\n",
       "    }\n",
       "\n",
       "    .dataframe tbody tr th {\n",
       "        vertical-align: top;\n",
       "    }\n",
       "\n",
       "    .dataframe thead th {\n",
       "        text-align: right;\n",
       "    }\n",
       "</style>\n",
       "<table border=\"1\" class=\"dataframe\">\n",
       "  <thead>\n",
       "    <tr style=\"text-align: right;\">\n",
       "      <th></th>\n",
       "      <th>RECORD</th>\n",
       "      <th>Shf_1_Avg</th>\n",
       "      <th>Shf_2_Avg</th>\n",
       "      <th>batt_volt_Avg</th>\n",
       "      <th>soil_flux</th>\n",
       "      <th>DTS</th>\n",
       "      <th>SW_5</th>\n",
       "      <th>DT10</th>\n",
       "      <th>DT5</th>\n",
       "      <th>DT2</th>\n",
       "      <th>Gstor</th>\n",
       "      <th>soil_flux_t</th>\n",
       "    </tr>\n",
       "    <tr>\n",
       "      <th>TIMESTAMP</th>\n",
       "      <th></th>\n",
       "      <th></th>\n",
       "      <th></th>\n",
       "      <th></th>\n",
       "      <th></th>\n",
       "      <th></th>\n",
       "      <th></th>\n",
       "      <th></th>\n",
       "      <th></th>\n",
       "      <th></th>\n",
       "      <th></th>\n",
       "      <th></th>\n",
       "    </tr>\n",
       "  </thead>\n",
       "  <tbody>\n",
       "    <tr>\n",
       "      <th>2020-12-29 15:30:00</th>\n",
       "      <td>55996.5</td>\n",
       "      <td>9.712000</td>\n",
       "      <td>11.093000</td>\n",
       "      <td>12.733500</td>\n",
       "      <td>10.402500</td>\n",
       "      <td>0.008113</td>\n",
       "      <td>0.150675</td>\n",
       "      <td>0.045000</td>\n",
       "      <td>0.016500</td>\n",
       "      <td>-0.010000</td>\n",
       "      <td>1.777864</td>\n",
       "      <td>12.180364</td>\n",
       "    </tr>\n",
       "    <tr>\n",
       "      <th>2020-12-29 16:00:00</th>\n",
       "      <td>56021.5</td>\n",
       "      <td>8.504600</td>\n",
       "      <td>10.016333</td>\n",
       "      <td>12.731667</td>\n",
       "      <td>9.260467</td>\n",
       "      <td>-0.045454</td>\n",
       "      <td>0.150500</td>\n",
       "      <td>0.032167</td>\n",
       "      <td>-0.005833</td>\n",
       "      <td>-0.106167</td>\n",
       "      <td>-9.956335</td>\n",
       "      <td>-0.695869</td>\n",
       "    </tr>\n",
       "    <tr>\n",
       "      <th>2020-12-29 16:30:00</th>\n",
       "      <td>56051.5</td>\n",
       "      <td>6.357000</td>\n",
       "      <td>7.908133</td>\n",
       "      <td>12.722000</td>\n",
       "      <td>7.132567</td>\n",
       "      <td>-0.086694</td>\n",
       "      <td>0.150500</td>\n",
       "      <td>0.008667</td>\n",
       "      <td>-0.048500</td>\n",
       "      <td>-0.150500</td>\n",
       "      <td>-18.989503</td>\n",
       "      <td>-11.856936</td>\n",
       "    </tr>\n",
       "    <tr>\n",
       "      <th>2020-12-29 17:00:00</th>\n",
       "      <td>56081.5</td>\n",
       "      <td>4.156900</td>\n",
       "      <td>5.398200</td>\n",
       "      <td>12.724667</td>\n",
       "      <td>4.777550</td>\n",
       "      <td>-0.063033</td>\n",
       "      <td>0.150133</td>\n",
       "      <td>-0.012333</td>\n",
       "      <td>-0.055000</td>\n",
       "      <td>-0.084333</td>\n",
       "      <td>-13.794847</td>\n",
       "      <td>-9.017297</td>\n",
       "    </tr>\n",
       "    <tr>\n",
       "      <th>2020-12-29 17:30:00</th>\n",
       "      <td>56111.5</td>\n",
       "      <td>2.666967</td>\n",
       "      <td>3.595867</td>\n",
       "      <td>12.729333</td>\n",
       "      <td>3.131417</td>\n",
       "      <td>-0.045410</td>\n",
       "      <td>0.149500</td>\n",
       "      <td>-0.017333</td>\n",
       "      <td>-0.041000</td>\n",
       "      <td>-0.057167</td>\n",
       "      <td>-9.921213</td>\n",
       "      <td>-6.789797</td>\n",
       "    </tr>\n",
       "    <tr>\n",
       "      <th>...</th>\n",
       "      <td>...</td>\n",
       "      <td>...</td>\n",
       "      <td>...</td>\n",
       "      <td>...</td>\n",
       "      <td>...</td>\n",
       "      <td>...</td>\n",
       "      <td>...</td>\n",
       "      <td>...</td>\n",
       "      <td>...</td>\n",
       "      <td>...</td>\n",
       "      <td>...</td>\n",
       "      <td>...</td>\n",
       "    </tr>\n",
       "    <tr>\n",
       "      <th>2021-03-31 21:30:00</th>\n",
       "      <td>188825.5</td>\n",
       "      <td>3.118500</td>\n",
       "      <td>4.302267</td>\n",
       "      <td>12.990000</td>\n",
       "      <td>3.710383</td>\n",
       "      <td>-0.158917</td>\n",
       "      <td>0.065000</td>\n",
       "      <td>-0.100000</td>\n",
       "      <td>-0.146667</td>\n",
       "      <td>-0.186667</td>\n",
       "      <td>-27.167758</td>\n",
       "      <td>-23.457374</td>\n",
       "    </tr>\n",
       "    <tr>\n",
       "      <th>2021-03-31 22:00:00</th>\n",
       "      <td>188855.5</td>\n",
       "      <td>1.254300</td>\n",
       "      <td>2.252567</td>\n",
       "      <td>13.004333</td>\n",
       "      <td>1.753433</td>\n",
       "      <td>-0.148958</td>\n",
       "      <td>0.065000</td>\n",
       "      <td>-0.096667</td>\n",
       "      <td>-0.138333</td>\n",
       "      <td>-0.173333</td>\n",
       "      <td>-25.465321</td>\n",
       "      <td>-23.711887</td>\n",
       "    </tr>\n",
       "    <tr>\n",
       "      <th>2021-03-31 22:30:00</th>\n",
       "      <td>188885.5</td>\n",
       "      <td>-0.430467</td>\n",
       "      <td>0.421833</td>\n",
       "      <td>13.019333</td>\n",
       "      <td>-0.004317</td>\n",
       "      <td>-0.138667</td>\n",
       "      <td>0.065000</td>\n",
       "      <td>-0.096667</td>\n",
       "      <td>-0.131667</td>\n",
       "      <td>-0.156667</td>\n",
       "      <td>-23.705899</td>\n",
       "      <td>-23.710215</td>\n",
       "    </tr>\n",
       "    <tr>\n",
       "      <th>2021-03-31 23:00:00</th>\n",
       "      <td>188915.5</td>\n",
       "      <td>-1.827733</td>\n",
       "      <td>-1.134400</td>\n",
       "      <td>13.032333</td>\n",
       "      <td>-1.481067</td>\n",
       "      <td>-0.124646</td>\n",
       "      <td>0.064917</td>\n",
       "      <td>-0.090000</td>\n",
       "      <td>-0.120000</td>\n",
       "      <td>-0.138333</td>\n",
       "      <td>-21.303077</td>\n",
       "      <td>-22.784144</td>\n",
       "    </tr>\n",
       "    <tr>\n",
       "      <th>2021-03-31 23:30:00</th>\n",
       "      <td>188944.0</td>\n",
       "      <td>-2.953033</td>\n",
       "      <td>-2.417367</td>\n",
       "      <td>13.040333</td>\n",
       "      <td>-2.685200</td>\n",
       "      <td>-0.117625</td>\n",
       "      <td>0.064050</td>\n",
       "      <td>-0.086667</td>\n",
       "      <td>-0.113333</td>\n",
       "      <td>-0.130000</td>\n",
       "      <td>-20.045823</td>\n",
       "      <td>-22.731023</td>\n",
       "    </tr>\n",
       "  </tbody>\n",
       "</table>\n",
       "<p>4433 rows × 12 columns</p>\n",
       "</div>"
      ],
      "text/plain": [
       "                       RECORD  Shf_1_Avg  Shf_2_Avg  batt_volt_Avg  soil_flux  \\\n",
       "TIMESTAMP                                                                       \n",
       "2020-12-29 15:30:00   55996.5   9.712000  11.093000      12.733500  10.402500   \n",
       "2020-12-29 16:00:00   56021.5   8.504600  10.016333      12.731667   9.260467   \n",
       "2020-12-29 16:30:00   56051.5   6.357000   7.908133      12.722000   7.132567   \n",
       "2020-12-29 17:00:00   56081.5   4.156900   5.398200      12.724667   4.777550   \n",
       "2020-12-29 17:30:00   56111.5   2.666967   3.595867      12.729333   3.131417   \n",
       "...                       ...        ...        ...            ...        ...   \n",
       "2021-03-31 21:30:00  188825.5   3.118500   4.302267      12.990000   3.710383   \n",
       "2021-03-31 22:00:00  188855.5   1.254300   2.252567      13.004333   1.753433   \n",
       "2021-03-31 22:30:00  188885.5  -0.430467   0.421833      13.019333  -0.004317   \n",
       "2021-03-31 23:00:00  188915.5  -1.827733  -1.134400      13.032333  -1.481067   \n",
       "2021-03-31 23:30:00  188944.0  -2.953033  -2.417367      13.040333  -2.685200   \n",
       "\n",
       "                          DTS      SW_5      DT10       DT5       DT2  \\\n",
       "TIMESTAMP                                                               \n",
       "2020-12-29 15:30:00  0.008113  0.150675  0.045000  0.016500 -0.010000   \n",
       "2020-12-29 16:00:00 -0.045454  0.150500  0.032167 -0.005833 -0.106167   \n",
       "2020-12-29 16:30:00 -0.086694  0.150500  0.008667 -0.048500 -0.150500   \n",
       "2020-12-29 17:00:00 -0.063033  0.150133 -0.012333 -0.055000 -0.084333   \n",
       "2020-12-29 17:30:00 -0.045410  0.149500 -0.017333 -0.041000 -0.057167   \n",
       "...                       ...       ...       ...       ...       ...   \n",
       "2021-03-31 21:30:00 -0.158917  0.065000 -0.100000 -0.146667 -0.186667   \n",
       "2021-03-31 22:00:00 -0.148958  0.065000 -0.096667 -0.138333 -0.173333   \n",
       "2021-03-31 22:30:00 -0.138667  0.065000 -0.096667 -0.131667 -0.156667   \n",
       "2021-03-31 23:00:00 -0.124646  0.064917 -0.090000 -0.120000 -0.138333   \n",
       "2021-03-31 23:30:00 -0.117625  0.064050 -0.086667 -0.113333 -0.130000   \n",
       "\n",
       "                         Gstor  soil_flux_t  \n",
       "TIMESTAMP                                    \n",
       "2020-12-29 15:30:00   1.777864    12.180364  \n",
       "2020-12-29 16:00:00  -9.956335    -0.695869  \n",
       "2020-12-29 16:30:00 -18.989503   -11.856936  \n",
       "2020-12-29 17:00:00 -13.794847    -9.017297  \n",
       "2020-12-29 17:30:00  -9.921213    -6.789797  \n",
       "...                        ...          ...  \n",
       "2021-03-31 21:30:00 -27.167758   -23.457374  \n",
       "2021-03-31 22:00:00 -25.465321   -23.711887  \n",
       "2021-03-31 22:30:00 -23.705899   -23.710215  \n",
       "2021-03-31 23:00:00 -21.303077   -22.784144  \n",
       "2021-03-31 23:30:00 -20.045823   -22.731023  \n",
       "\n",
       "[4433 rows x 12 columns]"
      ]
     },
     "execution_count": 153,
     "metadata": {},
     "output_type": "execute_result"
    }
   ],
   "source": [
    "soil_flux_t"
   ]
  },
  {
   "cell_type": "code",
   "execution_count": 154,
   "id": "8bd73f63",
   "metadata": {},
   "outputs": [],
   "source": [
    "soil_flux_t['TIMEutc+2'] = soil_flux_t.index\n",
    "soil_flux_t.reset_index(inplace= True)"
   ]
  },
  {
   "cell_type": "code",
   "execution_count": 158,
   "id": "05804a38",
   "metadata": {},
   "outputs": [],
   "source": [
    "soil_flux_t_f = soil_flux_t[(soil_flux_t['TIMEutc+2']>= '2021-01-28 00:30:00')&\n",
    "                           (soil_flux_t['TIMEutc+2'] <= '2021-02-07 00:00:00')]"
   ]
  },
  {
   "cell_type": "code",
   "execution_count": 161,
   "id": "d694c241",
   "metadata": {},
   "outputs": [],
   "source": [
    "soil_flux_t_f.reset_index(inplace=True)"
   ]
  },
  {
   "cell_type": "code",
   "execution_count": 234,
   "id": "8adb9116",
   "metadata": {},
   "outputs": [],
   "source": [
    "fluxes_t = pd.concat([soil_flux_t_f, fluxes[['Tau', 'qc_Tau', 'H', \n",
    "                                             'qc_H', 'LE', 'qc_LE', \n",
    "                                             'co2_flux', 'qc_co2_flux', \n",
    "                                             'h2o_flux', 'qc_h2o_flux']], synop], axis = 1)"
   ]
  },
  {
   "cell_type": "code",
   "execution_count": 235,
   "id": "53b85e8a",
   "metadata": {},
   "outputs": [
    {
     "data": {
      "text/plain": [
       "Index(['index', 'TIMESTAMP', 'RECORD', 'Shf_1_Avg', 'Shf_2_Avg',\n",
       "       'batt_volt_Avg', 'soil_flux', 'DTS', 'SW_5', 'DT10', 'DT5', 'DT2',\n",
       "       'Gstor', 'soil_flux_t', 'TIMEutc+2', 'Tau', 'qc_Tau', 'H', 'qc_H', 'LE',\n",
       "       'qc_LE', 'co2_flux', 'qc_co2_flux', 'h2o_flux', 'qc_h2o_flux',\n",
       "       'level_0', 'Time (CET)', 'index', 'T', 'U', 'P', 'FS', 'FSD', 'R', 'V',\n",
       "       'SR', 'SREF', 'SAL', 'SSUL', 'ET10', 'ET20', 'ET50', 'ET100', 'EU10',\n",
       "       'EU20', 'EU50'],\n",
       "      dtype='object')"
      ]
     },
     "execution_count": 235,
     "metadata": {},
     "output_type": "execute_result"
    }
   ],
   "source": [
    "fluxes_t.columns"
   ]
  },
  {
   "cell_type": "code",
   "execution_count": 236,
   "id": "2b709917",
   "metadata": {},
   "outputs": [],
   "source": [
    "fluxes_t['utctime'] = pd.date_range(\"2021-01-27 23:30:00\",\"2021-02-06 23:00:00\", freq= '30T')\n"
   ]
  },
  {
   "cell_type": "code",
   "execution_count": 322,
   "id": "368ff891",
   "metadata": {},
   "outputs": [],
   "source": [
    "x = pd.to_numeric(fluxes_t['LE'])\n",
    "fluxes_t['H'] = pd.to_numeric(fluxes_t['H'])"
   ]
  },
  {
   "cell_type": "code",
   "execution_count": 323,
   "id": "02099bcc",
   "metadata": {},
   "outputs": [],
   "source": [
    "a = np.array(x.values.tolist())\n",
    "b = np.where((a <= -60.0), np.nan, a)\n",
    "c = np.where(b >= 100.0, np.nan, b)\n",
    "fluxes_t['LE_c'] = c"
   ]
  },
  {
   "cell_type": "code",
   "execution_count": 328,
   "id": "ca8d7e6d",
   "metadata": {},
   "outputs": [
    {
     "data": {
      "text/plain": [
       "<matplotlib.legend.Legend at 0x7ff55f327df0>"
      ]
     },
     "execution_count": 328,
     "metadata": {},
     "output_type": "execute_result"
    },
    {
     "data": {
      "image/png": "[encoded data removed]",
      "text/plain": [
       "<Figure size 1440x432 with 1 Axes>"
      ]
     },
     "metadata": {
      "needs_background": "light"
     },
     "output_type": "display_data"
    }
   ],
   "source": [
    "fig, ax = plt.subplots(1)\n",
    "plt.rcParams[\"figure.figsize\"] = (20,6)\n",
    "params = {'mathtext.default': 'regular' }       \n",
    "\n",
    "\n",
    "ax.plot(fluxes_t['soil_flux_t'], label = 'soilflux')\n",
    "#ax.plot(fluxes_t['LE_c'], label= 'LE')\n",
    "ax.plot(fluxes_t['H'], label= 'H')\n",
    "\n",
    "\n",
    "\n",
    "\n",
    "ax.legend(loc= 'upper left', prop={'size': 14}, ncol = 5)\n"
   ]
  },
  {
   "cell_type": "code",
   "execution_count": 220,
   "id": "6461fa5c",
   "metadata": {},
   "outputs": [
    {
     "data": {
      "text/plain": [
       "Index(['index', 'TIMESTAMP', 'RECORD', 'Shf_1_Avg', 'Shf_2_Avg',\n",
       "       'batt_volt_Avg', 'soil_flux', 'DTS', 'SW_5', 'DT10', 'DT5', 'DT2',\n",
       "       'Gstor', 'soil_flux_t', 'TIMEutc+2', 'Tau', 'qc_Tau', 'H', 'qc_H', 'LE',\n",
       "       'qc_LE', 'co2_flux', 'qc_co2_flux', 'h2o_flux', 'qc_h2o_flux',\n",
       "       'level_0', 'Time (CET)', 'index', 'T', 'U', 'P', 'FS', 'FSD', 'R', 'V',\n",
       "       'SR', 'SREF', 'SAL', 'SSUL', 'ET10', 'ET20', 'ET50', 'ET100', 'EU10',\n",
       "       'EU20', 'EU50', 'utctime'],\n",
       "      dtype='object')"
      ]
     },
     "execution_count": 220,
     "metadata": {},
     "output_type": "execute_result"
    }
   ],
   "source": [
    "fluxes_t.columns"
   ]
  },
  {
   "cell_type": "code",
   "execution_count": 303,
   "id": "82bf4751",
   "metadata": {},
   "outputs": [],
   "source": [
    "x = pd.to_numeric(fluxes_t['LE'])\n"
   ]
  },
  {
   "cell_type": "code",
   "execution_count": 304,
   "id": "0e7a60c1",
   "metadata": {},
   "outputs": [
    {
     "data": {
      "text/plain": [
       "-9999.0"
      ]
     },
     "execution_count": 304,
     "metadata": {},
     "output_type": "execute_result"
    }
   ],
   "source": [
    "min(x)"
   ]
  },
  {
   "cell_type": "code",
   "execution_count": 305,
   "id": "e24ea663",
   "metadata": {},
   "outputs": [],
   "source": [
    "a = np.array(x.values.tolist())"
   ]
  },
  {
   "cell_type": "code",
   "execution_count": 320,
   "id": "95d55177",
   "metadata": {},
   "outputs": [],
   "source": [
    "b = np.where((a <= -60.0), np.nan, a)\n",
    "c = np.where(b >= 100.0, np.nan, b)\n"
   ]
  },
  {
   "cell_type": "code",
   "execution_count": 321,
   "id": "23ce8921",
   "metadata": {},
   "outputs": [
    {
     "data": {
      "text/plain": [
       "[<matplotlib.lines.Line2D at 0x7ff55e8c26d0>]"
      ]
     },
     "execution_count": 321,
     "metadata": {},
     "output_type": "execute_result"
    },
    {
     "data": {
      "image/png": "[encoded data removed]",
      "text/plain": [
       "<Figure size 1440x432 with 1 Axes>"
      ]
     },
     "metadata": {
      "needs_background": "light"
     },
     "output_type": "display_data"
    }
   ],
   "source": [
    "plt.plot(c)"
   ]
  },
  {
   "cell_type": "code",
   "execution_count": 297,
   "id": "123a0cd9",
   "metadata": {},
   "outputs": [
    {
     "data": {
      "text/plain": [
       "numpy.ndarray"
      ]
     },
     "execution_count": 297,
     "metadata": {},
     "output_type": "execute_result"
    }
   ],
   "source": [
    "type(b)"
   ]
  },
  {
   "cell_type": "code",
   "execution_count": null,
   "id": "ec747b32",
   "metadata": {},
   "outputs": [],
   "source": []
  }
 ],
 "metadata": {
  "kernelspec": {
   "display_name": "Python 3 (ipykernel)",
   "language": "python",
   "name": "python3"
  },
  "language_info": {
   "codemirror_mode": {
    "name": "ipython",
    "version": 3
   },
   "file_extension": ".py",
   "mimetype": "text/x-python",
   "name": "python",
   "nbconvert_exporter": "python",
   "pygments_lexer": "ipython3",
   "version": "3.8.11"
  }
 },
 "nbformat": 4,
 "nbformat_minor": 5
}
