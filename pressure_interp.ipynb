{
 "cells": [
  {
   "cell_type": "code",
   "execution_count": 1,
   "id": "0a3a59a8",
   "metadata": {},
   "outputs": [],
   "source": [
    "from scipy.interpolate import interp1d\n",
    "import pandas as pd\n",
    "import numpy as np\n",
    "df_10min = pd.read_pickle('/Volumes/Seagate Backup Plus Drive/data_1/Data_OMSZ_10min.pkl')"
   ]
  },
  {
   "cell_type": "code",
   "execution_count": 2,
   "id": "2d01d632",
   "metadata": {},
   "outputs": [],
   "source": [
    "df_10min['idő (UTC)'] = pd.to_datetime(df_10min['idő (UTC)'])\n",
    "f = interp1d(df_10min.index.values, df_10min['P'].values, kind= 'cubic')"
   ]
  },
  {
   "cell_type": "code",
   "execution_count": 3,
   "id": "217189fb",
   "metadata": {},
   "outputs": [],
   "source": [
    "from datetime import datetime, timedelta\n",
    "\n",
    "now = datetime(2020, 9, 30, 23, 10, 0)\n",
    "last = datetime(2021, 5, 16, 23, 10, 0)\n",
    "delta = timedelta(minutes=1)\n",
    "\n",
    "times = []\n",
    "while now < last:\n",
    "    times.append(now.strftime('%Y-%m-%d %H:%M:%S'))\n",
    "    now += delta\n",
    "times = np.array(times)"
   ]
  },
  {
   "cell_type": "code",
   "execution_count": 4,
   "id": "2d92cdb9",
   "metadata": {},
   "outputs": [],
   "source": [
    "ynew = np.linspace(0,32831,num= 10*len(df_10min.index.values),endpoint= True)\n",
    "boo = f(ynew)"
   ]
  },
  {
   "cell_type": "code",
   "execution_count": 5,
   "id": "f06ea09d",
   "metadata": {},
   "outputs": [
    {
     "data": {
      "text/plain": [
       "(328320, 328320)"
      ]
     },
     "execution_count": 5,
     "metadata": {},
     "output_type": "execute_result"
    }
   ],
   "source": [
    "len(boo), len(times)"
   ]
  },
  {
   "cell_type": "code",
   "execution_count": 6,
   "id": "315b7f3d",
   "metadata": {},
   "outputs": [],
   "source": [
    "df_new = pd.DataFrame({'TIMESTAMP_UTC':times, 'pressure': boo}, columns=['TIMESTAMP_UTC', 'pressure'])"
   ]
  },
  {
   "cell_type": "code",
   "execution_count": 7,
   "id": "84e87ba8",
   "metadata": {},
   "outputs": [],
   "source": [
    "df_new.to_csv('/Users/varungandhi/Downloads/python_notebooks/inter_p.csv')"
   ]
  },
  {
   "cell_type": "code",
   "execution_count": 8,
   "id": "d1e5141a",
   "metadata": {},
   "outputs": [
    {
     "data": {
      "text/plain": [
       "array(['2020-09-30 23:10:00', '2020-09-30 23:11:00',\n",
       "       '2020-09-30 23:12:00', ..., '2021-05-16 23:07:00',\n",
       "       '2021-05-16 23:08:00', '2021-05-16 23:09:00'], dtype='<U19')"
      ]
     },
     "execution_count": 8,
     "metadata": {},
     "output_type": "execute_result"
    }
   ],
   "source": [
    "times"
   ]
  },
  {
   "cell_type": "code",
   "execution_count": null,
   "id": "4df0507a",
   "metadata": {},
   "outputs": [],
   "source": []
  }
 ],
 "metadata": {
  "kernelspec": {
   "display_name": "Python [conda env:icclim]",
   "language": "python",
   "name": "conda-env-icclim-py"
  },
  "language_info": {
   "codemirror_mode": {
    "name": "ipython",
    "version": 3
   },
   "file_extension": ".py",
   "mimetype": "text/x-python",
   "name": "python",
   "nbconvert_exporter": "python",
   "pygments_lexer": "ipython3",
   "version": "3.8.12"
  }
 },
 "nbformat": 4,
 "nbformat_minor": 5
}
