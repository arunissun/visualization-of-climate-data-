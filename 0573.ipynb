{
 "cells": [
  {
   "cell_type": "code",
   "execution_count": 1,
   "metadata": {},
   "outputs": [
    {
     "name": "stderr",
     "output_type": "stream",
     "text": [
      "/Users/varungandhi/anaconda3/lib/python3.6/site-packages/h5py/__init__.py:36: FutureWarning: Conversion of the second argument of issubdtype from `float` to `np.floating` is deprecated. In future, it will be treated as `np.float64 == np.dtype(float).type`.\n",
      "  from ._conv import register_converters as _register_converters\n"
     ]
    }
   ],
   "source": [
    "from __future__ import print_function\n",
    "%matplotlib inline\n",
    "\n",
    "import netCDF4\n",
    "from netCDF4 import Dataset\n",
    "import h5py\n",
    "\n",
    "import numpy as np\n",
    "import xlrd as xl\n",
    "import pylab as py\n",
    "import scipy as sy\n",
    "import matplotlib as mat\n",
    "import matplotlib.pyplot as plt\n",
    "import pandas as pd\n",
    "#from mpl_toolkits.basemap import Basemap\n",
    "\n",
    "import glob2\n",
    "import ephem "
   ]
  },
  {
   "cell_type": "code",
   "execution_count": 2,
   "metadata": {},
   "outputs": [
    {
     "name": "stdout",
     "output_type": "stream",
     "text": [
      "varungandhi/Volumes/Seagate\\ Backup\\ Plus\\ Drive/iss_lis/ISS_LIS-newdata2018\\ \n",
      " varungandhi/Volumes/Seagate\\ Backup\\ Plus\\ Drive/iss_lis/ISS_LIS-newbackground2018\\\n"
     ]
    }
   ],
   "source": [
    "years = ['2017','2018']\n",
    "y = 1\n",
    "\n",
    "#rootSC = 'G:\\\\iss_lis\\\\ISS_LIS-newdata\\\\'+np.str(years[y])+'\\\\'\n",
    "rootSC = 'varungandhi/Volumes/Seagate\\ Backup\\ Plus\\ Drive/iss_lis/ISS_LIS-newdata' +np.str(years[y])+'\\\\'\n",
    "#rootBG = 'G:\\\\iss_lis\\\\ISS_LIS-newbackground\\\\'+np.str(years[y])+'\\\\'\n",
    "rootBG = 'varungandhi/Volumes/Seagate\\ Backup\\ Plus\\ Drive/iss_lis/ISS_LIS-newbackground' +np.str(years[y])+'\\\\'\n",
    "         \n",
    "print(rootSC, '\\n',rootBG)\n"
   ]
  },
  {
   "cell_type": "code",
   "execution_count": 3,
   "metadata": {},
   "outputs": [
    {
     "ename": "OSError",
     "evalue": "Unable to open file (unable to open file: name = 'varungandhi/Volumes/Seagate\\ Backup\\ Plus\\ Drive/iss_lis/ISS_LIS-newdata2018\\ISS_LIS_SC_P0.2_20180101_NQC_05673.h5', errno = 2, error message = 'No such file or directory', flags = 0, o_flags = 0)",
     "output_type": "error",
     "traceback": [
      "\u001b[0;31m---------------------------------------------------------------------------\u001b[0m",
      "\u001b[0;31mOSError\u001b[0m                                   Traceback (most recent call last)",
      "\u001b[0;32m<ipython-input-3-a6fbe47c7cd9>\u001b[0m in \u001b[0;36m<module>\u001b[0;34m()\u001b[0m\n\u001b[1;32m      1\u001b[0m \u001b[0mfnSC\u001b[0m \u001b[0;34m=\u001b[0m \u001b[0mrootSC\u001b[0m \u001b[0;34m+\u001b[0m \u001b[0;34m'ISS_LIS_SC_P0.2_20180101_NQC_05673.h5'\u001b[0m\u001b[0;34m\u001b[0m\u001b[0m\n\u001b[1;32m      2\u001b[0m \u001b[0mfnBG\u001b[0m \u001b[0;34m=\u001b[0m \u001b[0mrootBG\u001b[0m \u001b[0;34m+\u001b[0m \u001b[0;34m'ISS_LIS_BG_P0.2_20180101_NQC_05673.h5'\u001b[0m\u001b[0;34m\u001b[0m\u001b[0m\n\u001b[0;32m----> 3\u001b[0;31m \u001b[0msc1\u001b[0m \u001b[0;34m=\u001b[0m \u001b[0mh5py\u001b[0m\u001b[0;34m.\u001b[0m\u001b[0mFile\u001b[0m\u001b[0;34m(\u001b[0m\u001b[0mfnSC\u001b[0m\u001b[0;34m,\u001b[0m\u001b[0mmode\u001b[0m \u001b[0;34m=\u001b[0m \u001b[0;34m'r'\u001b[0m\u001b[0;34m)\u001b[0m\u001b[0;34m\u001b[0m\u001b[0m\n\u001b[0m\u001b[1;32m      4\u001b[0m \u001b[0mbg1\u001b[0m \u001b[0;34m=\u001b[0m \u001b[0mh5py\u001b[0m\u001b[0;34m.\u001b[0m\u001b[0mFile\u001b[0m\u001b[0;34m(\u001b[0m\u001b[0mfnBG\u001b[0m\u001b[0;34m,\u001b[0m\u001b[0mmode\u001b[0m \u001b[0;34m=\u001b[0m \u001b[0;34m'r'\u001b[0m\u001b[0;34m)\u001b[0m\u001b[0;34m\u001b[0m\u001b[0m\n",
      "\u001b[0;32m~/anaconda3/lib/python3.6/site-packages/h5py/_hl/files.py\u001b[0m in \u001b[0;36m__init__\u001b[0;34m(self, name, mode, driver, libver, userblock_size, swmr, **kwds)\u001b[0m\n\u001b[1;32m    267\u001b[0m             \u001b[0;32mwith\u001b[0m \u001b[0mphil\u001b[0m\u001b[0;34m:\u001b[0m\u001b[0;34m\u001b[0m\u001b[0m\n\u001b[1;32m    268\u001b[0m                 \u001b[0mfapl\u001b[0m \u001b[0;34m=\u001b[0m \u001b[0mmake_fapl\u001b[0m\u001b[0;34m(\u001b[0m\u001b[0mdriver\u001b[0m\u001b[0;34m,\u001b[0m \u001b[0mlibver\u001b[0m\u001b[0;34m,\u001b[0m \u001b[0;34m**\u001b[0m\u001b[0mkwds\u001b[0m\u001b[0;34m)\u001b[0m\u001b[0;34m\u001b[0m\u001b[0m\n\u001b[0;32m--> 269\u001b[0;31m                 \u001b[0mfid\u001b[0m \u001b[0;34m=\u001b[0m \u001b[0mmake_fid\u001b[0m\u001b[0;34m(\u001b[0m\u001b[0mname\u001b[0m\u001b[0;34m,\u001b[0m \u001b[0mmode\u001b[0m\u001b[0;34m,\u001b[0m \u001b[0muserblock_size\u001b[0m\u001b[0;34m,\u001b[0m \u001b[0mfapl\u001b[0m\u001b[0;34m,\u001b[0m \u001b[0mswmr\u001b[0m\u001b[0;34m=\u001b[0m\u001b[0mswmr\u001b[0m\u001b[0;34m)\u001b[0m\u001b[0;34m\u001b[0m\u001b[0m\n\u001b[0m\u001b[1;32m    270\u001b[0m \u001b[0;34m\u001b[0m\u001b[0m\n\u001b[1;32m    271\u001b[0m                 \u001b[0;32mif\u001b[0m \u001b[0mswmr_support\u001b[0m\u001b[0;34m:\u001b[0m\u001b[0;34m\u001b[0m\u001b[0m\n",
      "\u001b[0;32m~/anaconda3/lib/python3.6/site-packages/h5py/_hl/files.py\u001b[0m in \u001b[0;36mmake_fid\u001b[0;34m(name, mode, userblock_size, fapl, fcpl, swmr)\u001b[0m\n\u001b[1;32m     97\u001b[0m         \u001b[0;32mif\u001b[0m \u001b[0mswmr\u001b[0m \u001b[0;32mand\u001b[0m \u001b[0mswmr_support\u001b[0m\u001b[0;34m:\u001b[0m\u001b[0;34m\u001b[0m\u001b[0m\n\u001b[1;32m     98\u001b[0m             \u001b[0mflags\u001b[0m \u001b[0;34m|=\u001b[0m \u001b[0mh5f\u001b[0m\u001b[0;34m.\u001b[0m\u001b[0mACC_SWMR_READ\u001b[0m\u001b[0;34m\u001b[0m\u001b[0m\n\u001b[0;32m---> 99\u001b[0;31m         \u001b[0mfid\u001b[0m \u001b[0;34m=\u001b[0m \u001b[0mh5f\u001b[0m\u001b[0;34m.\u001b[0m\u001b[0mopen\u001b[0m\u001b[0;34m(\u001b[0m\u001b[0mname\u001b[0m\u001b[0;34m,\u001b[0m \u001b[0mflags\u001b[0m\u001b[0;34m,\u001b[0m \u001b[0mfapl\u001b[0m\u001b[0;34m=\u001b[0m\u001b[0mfapl\u001b[0m\u001b[0;34m)\u001b[0m\u001b[0;34m\u001b[0m\u001b[0m\n\u001b[0m\u001b[1;32m    100\u001b[0m     \u001b[0;32melif\u001b[0m \u001b[0mmode\u001b[0m \u001b[0;34m==\u001b[0m \u001b[0;34m'r+'\u001b[0m\u001b[0;34m:\u001b[0m\u001b[0;34m\u001b[0m\u001b[0m\n\u001b[1;32m    101\u001b[0m         \u001b[0mfid\u001b[0m \u001b[0;34m=\u001b[0m \u001b[0mh5f\u001b[0m\u001b[0;34m.\u001b[0m\u001b[0mopen\u001b[0m\u001b[0;34m(\u001b[0m\u001b[0mname\u001b[0m\u001b[0;34m,\u001b[0m \u001b[0mh5f\u001b[0m\u001b[0;34m.\u001b[0m\u001b[0mACC_RDWR\u001b[0m\u001b[0;34m,\u001b[0m \u001b[0mfapl\u001b[0m\u001b[0;34m=\u001b[0m\u001b[0mfapl\u001b[0m\u001b[0;34m)\u001b[0m\u001b[0;34m\u001b[0m\u001b[0m\n",
      "\u001b[0;32mh5py/_objects.pyx\u001b[0m in \u001b[0;36mh5py._objects.with_phil.wrapper\u001b[0;34m()\u001b[0m\n",
      "\u001b[0;32mh5py/_objects.pyx\u001b[0m in \u001b[0;36mh5py._objects.with_phil.wrapper\u001b[0;34m()\u001b[0m\n",
      "\u001b[0;32mh5py/h5f.pyx\u001b[0m in \u001b[0;36mh5py.h5f.open\u001b[0;34m()\u001b[0m\n",
      "\u001b[0;31mOSError\u001b[0m: Unable to open file (unable to open file: name = 'varungandhi/Volumes/Seagate\\ Backup\\ Plus\\ Drive/iss_lis/ISS_LIS-newdata2018\\ISS_LIS_SC_P0.2_20180101_NQC_05673.h5', errno = 2, error message = 'No such file or directory', flags = 0, o_flags = 0)"
     ]
    }
   ],
   "source": [
    "fnSC = rootSC + 'ISS_LIS_SC_P0.2_20180101_NQC_05673.h5'\n",
    "fnBG = rootBG + 'ISS_LIS_BG_P0.2_20180101_NQC_05673.h5'\n",
    "sc1 = h5py.File(fnSC,mode = 'r')\n",
    "bg1 = h5py.File(fnBG,mode = 'r')\n"
   ]
  },
  {
   "cell_type": "code",
   "execution_count": null,
   "metadata": {},
   "outputs": [],
   "source": [
    "fltim = sc1['orbit']['point']['lightning']['event']['TAI93_time'][:]\n",
    "fllat = sc1['orbit']['point']['lightning']['event']['location'][:,0]\n",
    "fllon = sc1['orbit']['point']['lightning']['event']['location'][:,1]\n",
    "flchc = sc1['orbit']['point']['lightning']['event']['radiance'][:]\n",
    "fldat = np.column_stack((fltim,fllat,fllon,flchc))\n",
    "print(len(fltim),len(fllat),len(fllon),fldat.shape)\n"
   ]
  },
  {
   "cell_type": "code",
   "execution_count": null,
   "metadata": {},
   "outputs": [],
   "source": [
    "fldat"
   ]
  },
  {
   "cell_type": "code",
   "execution_count": null,
   "metadata": {},
   "outputs": [],
   "source": [
    "bgtim = bg1['orbit']['bg_data_summary']['TAI93_time'][:]\n",
    "bgcorn = bg1['orbit']['bg_data_summary']['corners'][:]\n",
    "bgbs = bg1['orbit']['bg_data_summary']['boresight'][:]\n",
    "bg_im = bg1['bg_data']\n",
    "print(len(bgtim),bgbs.shape,bgcorn.shape,bg_im.shape)"
   ]
  },
  {
   "cell_type": "code",
   "execution_count": null,
   "metadata": {},
   "outputs": [],
   "source": [
    "plt.figure(figsize=(20,10))\n",
    "m = Basemap(projection='cyl',llcrnrlat=-60,urcrnrlat=60,llcrnrlon=-180,urcrnrlon=180,\\\n",
    "            resolution ='i',area_thresh=1000.)\n",
    "m.drawcoastlines()\n",
    "m.drawcountries()\n",
    "#m.drawstates()\n",
    "m.drawmapboundary()\n",
    "m.fillcontinents(color='#cc9966',lake_color='#99ffff')\n",
    "m.drawparallels(np.arange(-60,60,10),dashes=[5,5],labels=[1,0,0,0])\n",
    "m.drawmeridians(np.arange(-200,200,20),dashes=[5,5],labels=[0,0,0,1])\n",
    "#plt.plot(bgbs[:,1],bgbs[:,0],'x',color='black')\n",
    "plt.plot(bgcorn[:,1],bgcorn[:,0],'o',color='red')\n",
    "plt.plot(bgcorn[:,3],bgcorn[:,2],'o',color='blue')\n",
    "plt.plot(bgcorn[:,5],bgcorn[:,4],'o',color='orange')\n",
    "plt.plot(bgcorn[:,7],bgcorn[:,6],'o',color='green')\n",
    "plt.plot(fllon[:],fllat[:],'x',color='black')\n",
    "plt.show()"
   ]
  },
  {
   "cell_type": "code",
   "execution_count": null,
   "metadata": {},
   "outputs": [],
   "source": [
    "plt.figure(figsize=(6,6))\n",
    "m = Basemap(projection='cyl',llcrnrlat=15,urcrnrlat=30,llcrnrlon=160,urcrnrlon=180,\\\n",
    "            resolution ='i',area_thresh=1000.)\n",
    "m.drawcoastlines()\n",
    "m.drawcountries()\n",
    "#m.drawstates()\n",
    "m.drawmapboundary()\n",
    "m.fillcontinents(color='#cc9966',lake_color='#99ffff')\n",
    "m.drawparallels(np.arange(-60,60,10),dashes=[5,5],labels=[1,0,0,0])\n",
    "m.drawmeridians(np.arange(-200,200,10),dashes=[5,5],labels=[0,0,0,1])\n",
    "plt.plot(bgcorn[103,1],bgcorn[103,0],'o',color='red'   ,markersize=15)\n",
    "plt.plot(bgcorn[103,3],bgcorn[103,2],'o',color='blue'  ,markersize=15)\n",
    "plt.plot(bgcorn[103,5],bgcorn[103,4],'o',color='orange',markersize=15)\n",
    "plt.plot(bgcorn[103,7],bgcorn[103,6],'o',color='cyan'  ,markersize=15)\n",
    "plt.text(bgbs[103,1],bgbs[103,0],str(103),color='black')\n",
    "plt.plot(bgcorn[104,1],bgcorn[104,0],'x',color='red'   ,markersize=15)\n",
    "plt.plot(bgcorn[104,3],bgcorn[104,2],'x',color='blue'  ,markersize=15)\n",
    "plt.plot(bgcorn[104,5],bgcorn[104,4],'x',color='orange',markersize=15)\n",
    "plt.plot(bgcorn[104,7],bgcorn[104,6],'x',color='cyan'  ,markersize=15)\n",
    "plt.text(bgbs[104,1],bgbs[104,0],str(104),color='black')\n",
    "plt.plot(fllon[:],fllat[:],'s',color='black')\n",
    "plt.show()"
   ]
  },
  {
   "cell_type": "code",
   "execution_count": null,
   "metadata": {
    "scrolled": true
   },
   "outputs": [],
   "source": [
    "fig = plt.figure (figsize=(20,20))\n",
    "fil = plt.matshow(bg_im[103], cmap='terrain', vmin = 0, vmax = 4000)\n",
    "plt.plot (124,107,'o',color= 'yellow')\n",
    "fi2 = plt.matshow(bg_im[104], cmap= 'terrain')\n",
    "#plt.plot (124,107,'o', color= 'yellow')\n",
    "plt.show()\n"
   ]
  },
  {
   "cell_type": "code",
   "execution_count": null,
   "metadata": {},
   "outputs": [],
   "source": [
    "print(bgcorn[113])\n"
   ]
  },
  {
   "cell_type": "code",
   "execution_count": null,
   "metadata": {},
   "outputs": [],
   "source": [
    "print (np.max(bg_im[:]))"
   ]
  },
  {
   "cell_type": "code",
   "execution_count": null,
   "metadata": {},
   "outputs": [],
   "source": [
    "print (np.min(bg_im[103]))"
   ]
  },
  {
   "cell_type": "code",
   "execution_count": null,
   "metadata": {},
   "outputs": [],
   "source": [
    "print (bg_im.shape)"
   ]
  },
  {
   "cell_type": "code",
   "execution_count": null,
   "metadata": {},
   "outputs": [],
   "source": [
    "fig = plt.figure (figsize=(20,20))\n",
    "fil = plt.matshow(bg_im[156], cmap='terrain', vmin = 0, vmax = 4000)\n",
    "plt.show()\n",
    "fig = plt.figure (figsize=(20,20))\n",
    "fi3 = plt.matshow(bg_im[1], cmap= 'terrain')\n",
    "plt.show()\n",
    "fi4 = plt.imshow (bg_im[112], cmap= 'terrain')\n",
    "plt.show()\n"
   ]
  },
  {
   "cell_type": "code",
   "execution_count": null,
   "metadata": {},
   "outputs": [],
   "source": [
    "for i in range (0, 157):\n",
    "    fig = plt.figure(figsize=(10,10))\n",
    "    plt.subplots()\n",
    "    plt.imshow(bg_im[i], cmap= 'terrain', vmin=0, vmax= 4000)\n",
    "    plt.show()\n",
    "    "
   ]
  },
  {
   "cell_type": "code",
   "execution_count": null,
   "metadata": {},
   "outputs": [],
   "source": [
    "#imagelist = bg_im\n",
    "#def redraw_fn(f, axes):\n",
    " #   img = imagelist[f]\n",
    "  #  if not redraw_fn.initialized:\n",
    "   #     redraw_fn.im = axes.imshow(img, animated=True)\n",
    "    #    redraw_fn.initialized = True\n",
    "    #else:\n",
    "     #   redraw_fn.im.set_array(img)\n",
    "#redraw_fn.initialized = False\n",
    "\n",
    "#videofig(len(imagelist), redraw_fn, play_fps=30)"
   ]
  },
  {
   "cell_type": "code",
   "execution_count": null,
   "metadata": {},
   "outputs": [],
   "source": [
    "import matplotlib.animation as animation\n",
    "fig = plt.figure() # make figure\n",
    "\n",
    "# make axesimage object\n",
    "# the vmin and vmax here are very important to get the color map correct\n",
    "im = plt.imshow (bg_im [0], cmap= 'terrain', vmin=0, vmax=4000)\n",
    "\n",
    "# function to update figure\n",
    "def updatefig(j):\n",
    "    # set the data in the axesimage object\n",
    "    im.set_array(bg_im[j])\n",
    "    # return the artists set\n",
    "    return [im]\n",
    "# kick off the animation\n",
    "ani = animation.FuncAnimation(fig, updatefig, frames=range(20), \n",
    "                              interval=50)\n",
    "plt.show()"
   ]
  },
  {
   "cell_type": "code",
   "execution_count": null,
   "metadata": {},
   "outputs": [],
   "source": [
    "from datetime import datetime, time, timedelta\n",
    "from dateutil import parser"
   ]
  },
  {
   "cell_type": "code",
   "execution_count": null,
   "metadata": {},
   "outputs": [],
   "source": [
    "for input_file in glob2.glob(rootSC+'\\\\*'):\n",
    "    print (input_file)\n",
    "    "
   ]
  },
  {
   "cell_type": "code",
   "execution_count": null,
   "metadata": {},
   "outputs": [],
   "source": [
    "orb_tai = sc1['orbit']['orbit_summary']['TAI93_start']\n",
    "orb_utc = sc1['orbit']['orbit_summary']['UTC_start']\n",
    "fltim = sc1['orbit']['point']['lightning']['event']['TAI93_time'][:]\n",
    "fllat = sc1['orbit']['point']['lightning']['event']['location'][:,0]\n",
    "fllon = sc1['orbit']['point']['lightning']['event']['location'][:,1]\n",
    "flchc = sc1['orbit']['point']['lightning']['event']['radiance'][:]\n",
    "fldat = np.column_stack((fltim,fllat,fllon,flchc))\n",
    "print(len(fltim),len(fllat),len(fllon),fldat.shape)"
   ]
  },
  {
   "cell_type": "code",
   "execution_count": null,
   "metadata": {},
   "outputs": [],
   "source": [
    "# time conversion (1)\n",
    "\n",
    "print(np.str(orb_utc),\"\\n\",np.str(orb_utc)[3:29])\n",
    "t = datetime.strptime(np.str(orb_utc)[3:29],\"%Y-%m-%dT%H:%M:%S.%f\")\n",
    "print(t)\n",
    "print(orb_tai)\n",
    "print(fltim-orb_tai)\n",
    "\n"
   ]
  },
  {
   "cell_type": "code",
   "execution_count": null,
   "metadata": {},
   "outputs": [],
   "source": [
    "for input_file in glob2.glob(rootSC+'\\\\*'):\n",
    "    data_in = h5py.File(input_file,mode = 'r')\n",
    "    item = np.int(data_in['orbit']['point']['point_summary']['flash_count'])\n",
    "    UTC = data_in['orbit']['orbit_summary']['UTC_start']\n",
    "    if (item>0):\n",
    "        fltim = data_in['orbit']['point']['lightning']['flash']['TAI93_time']\n",
    "        fllon = data_in['orbit']['point']['lightning']['flash']['location'][:,1]\n",
    "        tai = np.float(data_in['orbit']['orbit_summary']['TAI93_start'])\n",
    "        print('UTC time:',np.str(UTC),\"\\n\",np.str(UTC)[3:29])\n",
    "        print('total flash count:',item)\n",
    "        t=datetime.strptime(np.str(UTC)[3:29], \"%Y-%m-%dT%H:%M:%S.%f\").time()\n",
    "        print('time:',t)\n",
    "        #print('ORB_TAI:', tai)\n",
    "        for i in range (0,item):\n",
    "            value = timedelta(seconds= fltim [i]-tai)\n",
    "            print(value)\n",
    "            #t_c = datetime.combine(t.date(), t.time())+ value\n",
    "            #print (t_c)\n",
    "            #print('observation time:', value, t+timedelta(value.total_seconds()))\n",
    "            \n",
    "        #print(t+tai.time())\n",
    "    data_in.close()"
   ]
  },
  {
   "cell_type": "code",
   "execution_count": null,
   "metadata": {},
   "outputs": [],
   "source": [
    "timedelta(value)\n"
   ]
  },
  {
   "cell_type": "code",
   "execution_count": null,
   "metadata": {},
   "outputs": [],
   "source": [
    "value"
   ]
  },
  {
   "cell_type": "code",
   "execution_count": null,
   "metadata": {},
   "outputs": [],
   "source": [
    "print(np.str(orb_utc),\"\\n\",np.str(orb_utc)[3:29])\n",
    "t = datetime.strptime(np.str(orb_utc)[3:29],\"%Y-%m-%dT%H:%M:%S.%f\").time()\n",
    "print(t)\n"
   ]
  },
  {
   "cell_type": "code",
   "execution_count": null,
   "metadata": {},
   "outputs": [],
   "source": [
    "print(orb_tai)\n",
    "print(fltim-orb_tai)"
   ]
  },
  {
   "cell_type": "code",
   "execution_count": null,
   "metadata": {},
   "outputs": [],
   "source": [
    "# Solar time conversion, based on UTC and longitude (deg), NOAA's low-accuracy equations\n",
    "# https://www.esrl.noaa.gov/gmd/grad/solcalc/calcdetails.html\n",
    "# Tested at http://theorderoftime.org/solartime.html  (the error is +/- 20 sec)\n",
    "\n",
    "def getsoltime(dt, long):\n",
    "    gamma = 2. * np.pi / 365. * (dt.timetuple().tm_yday - 1 + float(dt.hour - 12) / 24)\n",
    "    eqtime = 229.18 * (0.000075 + 0.001868 * np.cos(gamma) - 0.032077 * np.sin(gamma) \\\n",
    "             - 0.014615 * np.cos(2 * gamma) - 0.040849 * np.sin(2 * gamma))\n",
    "    decl = 0.006918 - 0.399912 * np.cos(gamma) + 0.070257 * np.sin(gamma) \\\n",
    "           - 0.006758 * np.cos(2 * gamma) + 0.000907 * np.sin(2 * gamma) \\\n",
    "           - 0.002697 * np.cos(3 * gamma) + 0.00148 * np.sin(3 * gamma)\n",
    "    time_offset = eqtime + 4 * long\n",
    "    tst = dt.hour * 60 + dt.minute + dt.second / 60 + time_offset\n",
    "    solar_time = datetime.combine(dt.date(), time(0)) + timedelta(minutes=tst)\n",
    "    return solar_time"
   ]
  },
  {
   "cell_type": "code",
   "execution_count": null,
   "metadata": {},
   "outputs": [],
   "source": [
    "# based on module \"ephem\", astronomical calculations\n",
    "\n",
    "def getsunrise_sunset(date,lat,lon):\n",
    "    iss = ephem.Observer()\n",
    "    iss.date = date\n",
    "    iss.lat = str(lat)                     # IMPORTANT TO CONVERT INTO STRING!!!\n",
    "    iss.lon = str(lon)\n",
    "    iss.elevation = 5000                   # assuming a mean cloud height of 5 km\n",
    "    sun = ephem.Sun()\n",
    "    r1 = iss.next_rising(sun)\n",
    "    s1 = iss.next_setting(sun)\n",
    "    return r1,s1\n"
   ]
  },
  {
   "cell_type": "code",
   "execution_count": null,
   "metadata": {},
   "outputs": [],
   "source": [
    "fnSC = rootSC + 'ISS_LIS_SC_P0.2_20180101_NQC_05673.h5'\n",
    "sc1 = h5py.File(fnSC,mode = 'r')\n",
    "orb_utc = sc1['orbit']['orbit_summary']['UTC_start']\n",
    "orb_tai = np.float(sc1['orbit']['orbit_summary']['TAI93_start'])\n",
    "point_num = np.int(sc1['orbit']['point']['point_summary']['flash_count'])\n",
    "fltim = sc1['orbit']['point']['lightning']['flash']['TAI93_time'][:]\n",
    "fllat = sc1['orbit']['point']['lightning']['flash']['location'][:,0]\n",
    "fllon = sc1['orbit']['point']['lightning']['flash']['location'][:,1]\n",
    "sc1.close()\n"
   ]
  },
  {
   "cell_type": "code",
   "execution_count": null,
   "metadata": {},
   "outputs": [],
   "source": [
    "t = datetime.strptime(np.str(orb_utc)[3:29],\"%Y-%m-%dT%H:%M:%S.%f\")\n",
    "for ix in range (0,point_num):\n",
    "    dt = timedelta(seconds = (fltim[ix]-orb_tai))\n",
    "    print(dt)\n",
    "    t_u = datetime.combine(t.date(),t.time())\n",
    "    print (t_u)\n",
    "    t_u1 = t_u + dt\n",
    "    print (t_u1)\n",
    "    t_sol = getsoltime(t_u1, fllon[ix])\n",
    "    #RS = getsunrise_sunset(t_u.date(), fllat[ix], fllon[ix])\n",
    "    #t_utc = getsoltime(t_u,fllon[ix])\n",
    "    RS = getsunrise_sunset(t_u1.date(),fllat[ix],fllon[ix])\n",
    "    if (RS[1] < RS[0]): out = \"It's day\"\n",
    "    else: out = \"It's night\"\n",
    "    print('Solar time:', t_sol, \"\\n\", 'latitude:', fllat[ix], \"\\n\",'Longitude:',fllon[ix], \"\\n\", RS[0], RS[1], out)"
   ]
  },
  {
   "cell_type": "code",
   "execution_count": null,
   "metadata": {},
   "outputs": [],
   "source": [
    "fnBG = rootBG + 'ISS_LIS_BG_P0.2_20180101_NQC_05673.h5'\n",
    "bg1 = h5py.File(fnBG,mode = 'r')\n",
    "tai93_0 = np.float(bg1['orbit']['bg_orbit_summary']['TAI93_start'])\n",
    "utc_start = bg1['orbit']['bg_orbit_summary']['UTC_start']\n",
    "\n",
    "t_bg = datetime.strptime(np.str(utc_start)[3:29],\"%Y-%m-%dT%H:%M:%S.%f\")\n",
    "bgtim = bg1['orbit']['bg_data_summary']['TAI93_time'][:]\n",
    "bgcorn = np.array(bg1['orbit']['bg_data_summary']['corners'][:])\n",
    "bgbs = np.array(bg1['orbit']['bg_data_summary']['boresight'][:])\n",
    "bg_im = np.array(bg1['bg_data'])\n",
    "\n",
    "bg1.close()"
   ]
  },
  {
   "cell_type": "code",
   "execution_count": null,
   "metadata": {},
   "outputs": [],
   "source": [
    "import matplotlib.animation as animation\n",
    "%matplotlib notebook\n",
    "fig = plt.figure(figsize=(6,6))\n",
    "ims = []\n",
    "for x in range (0,len(bgtim)):\n",
    "    dt = timedelta(seconds = (bgtim[x]-tai93_0))\n",
    "    t_utc = datetime.combine(t_bg.date(),t_bg.time())+ dt\n",
    "    t_sol = getsoltime(t_utc,bgbs[bgix,1])\n",
    "    RS = getsunrise_sunset(t_utc.date(),bgbs[x,0],bgbs[x,1])\n",
    "    if (RS[1] < RS[0]): out = \"It's day  \"\n",
    "    else: out = \"It's night\"\n",
    "    im = plt.imshow(bg_im[x],cmap='bone',animated=True, vmin=0,vmax=2000)\n",
    "    im2 = plt.text(1,4,t_sol,size=16,color='orange')\n",
    "    im3 = plt.text(1,9,out,size=16,color='orange')\n",
    "    ims.append((im,im2,im3,))\n",
    "\n",
    "ani = animation.ArtistAnimation(fig, ims, interval=100, repeat_delay=2000, blit=True)\n",
    "# ani.save('swath.mp4')\n",
    "plt.show()"
   ]
  },
  {
   "cell_type": "code",
   "execution_count": null,
   "metadata": {},
   "outputs": [],
   "source": []
  }
 ],
 "metadata": {
  "kernelspec": {
   "display_name": "Python 3 (ipykernel)",
   "language": "python",
   "name": "python3"
  },
  "language_info": {
   "codemirror_mode": {
    "name": "ipython",
    "version": 3
   },
   "file_extension": ".py",
   "mimetype": "text/x-python",
   "name": "python",
   "nbconvert_exporter": "python",
   "pygments_lexer": "ipython3",
   "version": "3.7.11"
  }
 },
 "nbformat": 4,
 "nbformat_minor": 2
}
