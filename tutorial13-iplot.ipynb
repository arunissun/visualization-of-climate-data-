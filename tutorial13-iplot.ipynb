{
 "cells": [
  {
   "cell_type": "markdown",
   "metadata": {},
   "source": [
    "## Tutorial 13: Plotting with iplot\n",
    "\n",
    "This is another short tutorial that introduces the `iplot` module, which\n",
    "wraps up the interactive plots we did last week with a simple interface.\n",
    "Make sure you've downloaded the module and import it here:"
   ]
  },
  {
   "cell_type": "code",
   "execution_count": 1,
   "metadata": {},
   "outputs": [
    {
     "ename": "ModuleNotFoundError",
     "evalue": "No module named 'iplot'",
     "output_type": "error",
     "traceback": [
      "\u001b[0;31m---------------------------------------------------------------------------\u001b[0m",
      "\u001b[0;31mModuleNotFoundError\u001b[0m                       Traceback (most recent call last)",
      "\u001b[0;32m/var/folders/lj/42kjq4jj2lj80_y4pkyqbcwh0000gn/T/ipykernel_8963/1606877525.py\u001b[0m in \u001b[0;36m<module>\u001b[0;34m\u001b[0m\n\u001b[0;32m----> 1\u001b[0;31m \u001b[0;32mimport\u001b[0m \u001b[0miplot\u001b[0m\u001b[0;34m\u001b[0m\u001b[0;34m\u001b[0m\u001b[0m\n\u001b[0m\u001b[1;32m      2\u001b[0m \u001b[0;34m\u001b[0m\u001b[0m\n\u001b[1;32m      3\u001b[0m \u001b[0;32massert\u001b[0m \u001b[0miplot\u001b[0m\u001b[0;34m.\u001b[0m\u001b[0m__version__\u001b[0m \u001b[0;34m>=\u001b[0m \u001b[0;36m1\u001b[0m\u001b[0;34m\u001b[0m\u001b[0;34m\u001b[0m\u001b[0m\n",
      "\u001b[0;31mModuleNotFoundError\u001b[0m: No module named 'iplot'"
     ]
    }
   ],
   "source": [
    "import iplot\n",
    "\n",
    "assert iplot.__version__ >= 1"
   ]
  },
  {
   "cell_type": "markdown",
   "metadata": {},
   "source": [
    "The main function that you'll need in the `iplot` module (for not at least) is\n",
    "called `create_figure`. Here is its help page:"
   ]
  },
  {
   "cell_type": "code",
   "execution_count": null,
   "metadata": {},
   "outputs": [],
   "source": [
    "help(iplot.create_figure)"
   ]
  },
  {
   "cell_type": "markdown",
   "metadata": {},
   "source": [
    "The function takes a pandas DataFrame object and the names (as strings) of the\n",
    "x and y coordinates in the interactive plot. You can also optionally give the\n",
    "name of a variable to map to color and a column that contains a clickable url.\n",
    "Other options set the title and labels of the axes.\n",
    "\n",
    "To show how this function works, let's load `pandas` and import a CSV file from\n",
    "my website. This a classic dataset that I use in my intro stats class showing the\n",
    "number of boys and girls born in London each year from 1629 to 1710."
   ]
  },
  {
   "cell_type": "code",
   "execution_count": null,
   "metadata": {},
   "outputs": [],
   "source": [
    "import pandas as pd\n",
    "\n",
    "df = pd.read_csv(\"https://statsmaths.github.io/stat_data/arbuthnot.csv\")\n",
    "df.head()"
   ]
  },
  {
   "cell_type": "markdown",
   "metadata": {},
   "source": [
    "If we wanted to construct an interactive plot with year on the x-axis and \n",
    "total births on the y-axis, this is the code to use:"
   ]
  },
  {
   "cell_type": "code",
   "execution_count": null,
   "metadata": {},
   "outputs": [],
   "source": [
    "p = iplot.create_figure(df, 'year', 'total')\n",
    "iplot.show(p)"
   ]
  },
  {
   "cell_type": "markdown",
   "metadata": {},
   "source": [
    "Notice that hovering over a point shows all of the other columns in the dataset."
   ]
  },
  {
   "cell_type": "markdown",
   "metadata": {},
   "source": [
    "### Adding color\n",
    "\n",
    "To add color to the plot, specify the name of the color variable. Here is an example of \n",
    "a discrete color:"
   ]
  },
  {
   "cell_type": "code",
   "execution_count": null,
   "metadata": {},
   "outputs": [],
   "source": [
    "p = iplot.create_figure(df, 'year', 'total', color='head_of_state')\n",
    "iplot.show(p)"
   ]
  },
  {
   "cell_type": "markdown",
   "metadata": {},
   "source": [
    "And here, I'll color it with a continuous variable, the total number of births:"
   ]
  },
  {
   "cell_type": "code",
   "execution_count": null,
   "metadata": {},
   "outputs": [],
   "source": [
    "p = iplot.create_figure(df, 'year', 'total', color='total')\n",
    "iplot.show(p)"
   ]
  },
  {
   "cell_type": "markdown",
   "metadata": {},
   "source": [
    "Now, set the title and axis labels."
   ]
  },
  {
   "cell_type": "code",
   "execution_count": null,
   "metadata": {},
   "outputs": [],
   "source": [
    "p = iplot.create_figure(df, 'year', 'total', color='total',\n",
    "                        title='A fun interactive plot!',\n",
    "                        x_axis_label='Year',\n",
    "                        y_axis_label='Total number of births')\n",
    "iplot.show(p)"
   ]
  },
  {
   "cell_type": "markdown",
   "metadata": {},
   "source": [
    "Adding a URL is similar, but is set up to only work with Wikipedia data.\n",
    "Here, that somewhat works if we set the head of state to the URL because most\n",
    "of them have Wikipedia pages (but may not be exactly the correct page):"
   ]
  },
  {
   "cell_type": "code",
   "execution_count": null,
   "metadata": {},
   "outputs": [],
   "source": [
    "p = iplot.create_figure(df, 'year', 'total', color='total', url='head_of_state',\n",
    "                        title='A fun interactive plot!',\n",
    "                        x_axis_label='Year',\n",
    "                        y_axis_label='Total number of births')\n",
    "iplot.show(p)"
   ]
  },
  {
   "cell_type": "markdown",
   "metadata": {},
   "source": [
    "**Note: I expect the specific functions here to change as we see what works\n",
    "best and what else you might need. I think there is enough here, though, to\n",
    "get us started.**"
   ]
  },
  {
   "cell_type": "code",
   "execution_count": null,
   "metadata": {},
   "outputs": [],
   "source": []
  }
 ],
 "metadata": {
  "kernelspec": {
   "display_name": "Python 3 (ipykernel)",
   "language": "python",
   "name": "python3"
  },
  "language_info": {
   "codemirror_mode": {
    "name": "ipython",
    "version": 3
   },
   "file_extension": ".py",
   "mimetype": "text/x-python",
   "name": "python",
   "nbconvert_exporter": "python",
   "pygments_lexer": "ipython3",
   "version": "3.7.11"
  }
 },
 "nbformat": 4,
 "nbformat_minor": 2
}
